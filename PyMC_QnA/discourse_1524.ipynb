{
 "cells": [
  {
   "cell_type": "code",
   "execution_count": 1,
   "metadata": {},
   "outputs": [
    {
     "name": "stderr",
     "output_type": "stream",
     "text": [
      "/home/junpenglao/anaconda3/lib/python3.6/site-packages/h5py/__init__.py:36: FutureWarning: Conversion of the second argument of issubdtype from `float` to `np.floating` is deprecated. In future, it will be treated as `np.float64 == np.dtype(float).type`.\n",
      "  from ._conv import register_converters as _register_converters\n"
     ]
    }
   ],
   "source": [
    "%matplotlib inline\n",
    "import numpy as np\n",
    "import pymc3 as pm\n",
    "import theano.tensor as tt\n",
    "#import matplotlib.pyplot as plt\n",
    "import theano.tensor.slinalg as sla\n",
    "from pymc3.distributions.transforms import t_stick_breaking\n",
    "from pymc3 import math as pmmath\n",
    "import seaborn as sns\n",
    "from scipy.special import logsumexp "
   ]
  },
  {
   "cell_type": "markdown",
   "metadata": {},
   "source": [
    "***Use generative process to create toy data***"
   ]
  },
  {
   "cell_type": "code",
   "execution_count": 2,
   "metadata": {},
   "outputs": [],
   "source": [
    "#\n",
    "L = 5\n",
    "N = 10\n",
    "num_clusters = 3\n",
    "num_values = 3\n",
    "\n",
    "pi = pm.Dirichlet.dist(a=np.ones(num_clusters), shape=(num_clusters)).random()\n",
    "\n",
    "theta_i = pm.Dirichlet.dist(a=pm.floatX((1.0 / num_values) * np.ones((num_values))),\n",
    "                            shape=(num_clusters, num_values)).random()\n",
    "\n",
    "theta_t = pm.Dirichlet.dist(a=pm.floatX((1.0 / num_values) * np.ones((num_values))),\n",
    "                            shape=(num_clusters, num_values, num_values)).random()"
   ]
  },
  {
   "cell_type": "code",
   "execution_count": 3,
   "metadata": {
    "scrolled": true
   },
   "outputs": [],
   "source": [
    "data = []\n",
    "clusters = []\n",
    "for d in range(N):\n",
    "    # draw a cluster\n",
    "    #cluster = np.random.choice(num_cluster,p=pi)\n",
    "    cluster = pm.Categorical.dist(pi).random(size=1)\n",
    "    values = []\n",
    "    # draw initial value\n",
    "    #prev_value = np.random.choice(num_cluster,p=theta_i[cluster])\n",
    "    prev_value = pm.Categorical.dist(theta_i[cluster]).random(size=1)\n",
    "    values.append(prev_value)\n",
    "    for l in range(L-1):\n",
    "        # draw next value based on previous value\n",
    "        #next_value = np.random.choice(num_cluster,p=theta_t[cluster,prev_value])\n",
    "        next_value = pm.Categorical.dist(\n",
    "            theta_t[cluster, prev_value]).random(size=1)\n",
    "        values.append(prev_value)\n",
    "        prev_value = next_value\n",
    "    data.append(values)\n",
    "    clusters.append(cluster)"
   ]
  },
  {
   "cell_type": "code",
   "execution_count": 4,
   "metadata": {},
   "outputs": [
    {
     "data": {
      "text/plain": [
       "array([[2, 2, 0, 2, 0],\n",
       "       [1, 1, 2, 0, 2],\n",
       "       [0, 0, 2, 1, 1],\n",
       "       [2, 2, 0, 0, 2],\n",
       "       [1, 1, 2, 0, 2],\n",
       "       [2, 2, 0, 2, 0],\n",
       "       [1, 1, 2, 0, 2],\n",
       "       [0, 0, 2, 2, 0],\n",
       "       [0, 0, 2, 0, 2],\n",
       "       [0, 0, 2, 1, 1]])"
      ]
     },
     "execution_count": 4,
     "metadata": {},
     "output_type": "execute_result"
    }
   ],
   "source": [
    "# convert to matrix\n",
    "data = np.asarray(data)\n",
    "data"
   ]
  },
  {
   "cell_type": "code",
   "execution_count": 5,
   "metadata": {},
   "outputs": [
    {
     "data": {
      "image/png": "[encoded data removed]",
      "text/plain": [
       "<Figure size 432x288 with 1 Axes>"
      ]
     },
     "metadata": {},
     "output_type": "display_data"
    }
   ],
   "source": [
    "# plot cluster probabilities\n",
    "sns.set(style=\"whitegrid\")\n",
    "sns.barplot(x=np.arange(3), y=pi);"
   ]
  },
  {
   "cell_type": "code",
   "execution_count": 6,
   "metadata": {},
   "outputs": [
    {
     "data": {
      "image/png": "[encoded data removed]",
      "text/plain": [
       "<Figure size 432x288 with 1 Axes>"
      ]
     },
     "metadata": {},
     "output_type": "display_data"
    }
   ],
   "source": [
    "# initial probabilities for cluser 0\n",
    "sns.barplot(x=np.arange(num_values), y=theta_i[0]);"
   ]
  },
  {
   "cell_type": "code",
   "execution_count": 7,
   "metadata": {},
   "outputs": [
    {
     "data": {
      "image/png": "[encoded data removed]",
      "text/plain": [
       "<Figure size 432x288 with 1 Axes>"
      ]
     },
     "metadata": {},
     "output_type": "display_data"
    }
   ],
   "source": [
    "# initial probabilities for cluster 1\n",
    "sns.barplot(x=np.arange(num_values), y=theta_i[1]);"
   ]
  },
  {
   "cell_type": "code",
   "execution_count": 8,
   "metadata": {},
   "outputs": [
    {
     "data": {
      "image/png": "[encoded data removed]",
      "text/plain": [
       "<Figure size 432x288 with 1 Axes>"
      ]
     },
     "metadata": {},
     "output_type": "display_data"
    }
   ],
   "source": [
    "# initial probabilities for cluser 2\n",
    "sns.barplot(x=np.arange(num_values), y=theta_i[2]);"
   ]
  },
  {
   "cell_type": "code",
   "execution_count": 9,
   "metadata": {},
   "outputs": [
    {
     "data": {
      "text/plain": [
       "array([0, 0, 2, 0, 0, 0, 1, 1, 1, 2])"
      ]
     },
     "execution_count": 9,
     "metadata": {},
     "output_type": "execute_result"
    }
   ],
   "source": [
    "# print assignments\n",
    "clusters = np.asarray(clusters)\n",
    "clusters"
   ]
  },
  {
   "cell_type": "markdown",
   "metadata": {},
   "source": [
    "***Several tests to compare the log likelihood using regular python, numpy and theano****"
   ]
  },
  {
   "cell_type": "code",
   "execution_count": 10,
   "metadata": {},
   "outputs": [
    {
     "data": {
      "text/plain": [
       "-66.38203"
      ]
     },
     "execution_count": 10,
     "metadata": {},
     "output_type": "execute_result"
    }
   ],
   "source": [
    "# to compare computations wiht theano, transform data\n",
    "data = data.astype(\"int32\")\n",
    "theta_i = theta_i.astype(\"float32\")\n",
    "theta_t = theta_t.astype(\"float32\")\n",
    "pi = pi.astype(\"float32\")\n",
    "\n",
    "\n",
    "# dirty way to compute likelihood of full data\n",
    "l_data = []\n",
    "for didx in range(len(data)):\n",
    "    l_obs = []\n",
    "    for pidx in range(3):\n",
    "        trans = []\n",
    "        for iidx in range(data[didx].shape[0]-1):\n",
    "            trans.append(\n",
    "                np.log(theta_t[pidx][data[didx, iidx], data[didx, iidx+1]]))\n",
    "        l_obs.append(np.log(pi[pidx]) + np.log(theta_i[pidx]\n",
    "                                               [data[didx, 0]]) + np.sum(trans))\n",
    "\n",
    "    l_data.append(logsumexp(l_obs))\n",
    "np.sum(l_data)"
   ]
  },
  {
   "cell_type": "code",
   "execution_count": 11,
   "metadata": {},
   "outputs": [
    {
     "data": {
      "text/plain": [
       "-66.38203305231723"
      ]
     },
     "execution_count": 11,
     "metadata": {},
     "output_type": "execute_result"
    }
   ],
   "source": [
    "# same using numpy\n",
    "t1 = np.log(pi)*np.ones((10, 1))\n",
    "t2 = np.column_stack(np.log(theta_i[:, data[:, 0]]))\n",
    "t3 = np.sum(np.log(theta_t[:, data[:, :-1], data[:, 1:]]), axis=2).T\n",
    "l_obs = logsumexp(t1+t2+t3, axis=1)\n",
    "np.sum(l_obs)"
   ]
  },
  {
   "cell_type": "code",
   "execution_count": 12,
   "metadata": {},
   "outputs": [
    {
     "data": {
      "text/plain": [
       "array(-66.38203485)"
      ]
     },
     "execution_count": 12,
     "metadata": {},
     "output_type": "execute_result"
    }
   ],
   "source": [
    "# Same computations with theano\n",
    "import theano\n",
    "import theano.tensor as tt\n",
    "import theano\n",
    "theano.config.compute_test_value = \"ignore\"\n",
    "theano.config.on_unused_input = 'ignore'\n",
    "\n",
    "data = np.asarray(data)\n",
    "tdata = tt.imatrix('tdata')\n",
    "ttheta_i = tt.fmatrix('ttheta_i')\n",
    "ttheta_t = tt.tensor3('ttheta_t')\n",
    "tpi = tt.fvector('tpi')\n",
    "\n",
    "# compute the full likelihood of data with theano\n",
    "out = tt.sum(pmmath.logsumexp(tt.log(tpi)*tt.ones((10, 1)) +\n",
    "                              tt.log(ttheta_i[:, tdata[:, 0]]).T +\n",
    "                              tt.sum(tt.log(ttheta_t[:, tdata[:, :-1], tdata[:, 1:]]), axis=2).T, axis=1))\n",
    "f = theano.function([tpi, ttheta_i, ttheta_t, tdata], out)\n",
    "f(pi, theta_i, theta_t, data)"
   ]
  },
  {
   "cell_type": "markdown",
   "metadata": {},
   "source": [
    "***Build bayesian model using pymc3***"
   ]
  },
  {
   "cell_type": "code",
   "execution_count": 13,
   "metadata": {},
   "outputs": [],
   "source": [
    "# log likelihood\n",
    "def log_data(pi, theta_init, theta_trans):\n",
    "    def log_data_(docs):\n",
    "        t1 = tt.log(pi)*tt.ones((10, 1))\n",
    "        t2 = tt.log(theta_init[:, docs[:, 0]]).T\n",
    "        t3 = tt.sum(theta_trans[:, docs[:, :-1], docs[:, 1:]], axis=2).T\n",
    "        return tt.sum(pmmath.logsumexp(t1+t2+t3, axis=1))\n",
    "\n",
    "    return log_data_"
   ]
  },
  {
   "cell_type": "markdown",
   "metadata": {},
   "source": [
    "***Note***: the folowing throws an error "
   ]
  },
  {
   "cell_type": "code",
   "execution_count": 14,
   "metadata": {},
   "outputs": [
    {
     "ename": "TypeError",
     "evalue": "index must be integers",
     "output_type": "error",
     "traceback": [
      "\u001b[0;31m---------------------------------------------------------------------------\u001b[0m",
      "\u001b[0;31mTypeError\u001b[0m                                 Traceback (most recent call last)",
      "\u001b[0;32m<ipython-input-14-666c7eaf01f1>\u001b[0m in \u001b[0;36m<module>\u001b[0;34m()\u001b[0m\n\u001b[1;32m      9\u001b[0m                      shape=(num_clusters,num_values, num_values), transform=t_stick_breaking(1e-9))\n\u001b[1;32m     10\u001b[0m     \u001b[0;31m# how do we aggregate the likelihood of all the data\u001b[0m\u001b[0;34m\u001b[0m\u001b[0;34m\u001b[0m\u001b[0m\n\u001b[0;32m---> 11\u001b[0;31m     \u001b[0mobs\u001b[0m \u001b[0;34m=\u001b[0m \u001b[0mpm\u001b[0m\u001b[0;34m.\u001b[0m\u001b[0mDensityDist\u001b[0m\u001b[0;34m(\u001b[0m\u001b[0;34m'obs'\u001b[0m\u001b[0;34m,\u001b[0m \u001b[0mlog_data\u001b[0m\u001b[0;34m(\u001b[0m\u001b[0mpi\u001b[0m\u001b[0;34m,\u001b[0m \u001b[0mtheta_i\u001b[0m\u001b[0;34m,\u001b[0m \u001b[0mtheta_t\u001b[0m\u001b[0;34m)\u001b[0m\u001b[0;34m,\u001b[0m \u001b[0mobserved\u001b[0m\u001b[0;34m=\u001b[0m\u001b[0mdata\u001b[0m\u001b[0;34m)\u001b[0m\u001b[0;34m\u001b[0m\u001b[0m\n\u001b[0m",
      "\u001b[0;32m~/Documents/pymc3/pymc3/distributions/distribution.py\u001b[0m in \u001b[0;36m__new__\u001b[0;34m(cls, name, *args, **kwargs)\u001b[0m\n\u001b[1;32m     40\u001b[0m             \u001b[0mtotal_size\u001b[0m \u001b[0;34m=\u001b[0m \u001b[0mkwargs\u001b[0m\u001b[0;34m.\u001b[0m\u001b[0mpop\u001b[0m\u001b[0;34m(\u001b[0m\u001b[0;34m'total_size'\u001b[0m\u001b[0;34m,\u001b[0m \u001b[0;32mNone\u001b[0m\u001b[0;34m)\u001b[0m\u001b[0;34m\u001b[0m\u001b[0m\n\u001b[1;32m     41\u001b[0m             \u001b[0mdist\u001b[0m \u001b[0;34m=\u001b[0m \u001b[0mcls\u001b[0m\u001b[0;34m.\u001b[0m\u001b[0mdist\u001b[0m\u001b[0;34m(\u001b[0m\u001b[0;34m*\u001b[0m\u001b[0margs\u001b[0m\u001b[0;34m,\u001b[0m \u001b[0;34m**\u001b[0m\u001b[0mkwargs\u001b[0m\u001b[0;34m)\u001b[0m\u001b[0;34m\u001b[0m\u001b[0m\n\u001b[0;32m---> 42\u001b[0;31m             \u001b[0;32mreturn\u001b[0m \u001b[0mmodel\u001b[0m\u001b[0;34m.\u001b[0m\u001b[0mVar\u001b[0m\u001b[0;34m(\u001b[0m\u001b[0mname\u001b[0m\u001b[0;34m,\u001b[0m \u001b[0mdist\u001b[0m\u001b[0;34m,\u001b[0m \u001b[0mdata\u001b[0m\u001b[0;34m,\u001b[0m \u001b[0mtotal_size\u001b[0m\u001b[0;34m)\u001b[0m\u001b[0;34m\u001b[0m\u001b[0m\n\u001b[0m\u001b[1;32m     43\u001b[0m         \u001b[0;32melse\u001b[0m\u001b[0;34m:\u001b[0m\u001b[0;34m\u001b[0m\u001b[0m\n\u001b[1;32m     44\u001b[0m             \u001b[0;32mraise\u001b[0m \u001b[0mTypeError\u001b[0m\u001b[0;34m(\u001b[0m\u001b[0;34m\"Name needs to be a string but got: {}\"\u001b[0m\u001b[0;34m.\u001b[0m\u001b[0mformat\u001b[0m\u001b[0;34m(\u001b[0m\u001b[0mname\u001b[0m\u001b[0;34m)\u001b[0m\u001b[0;34m)\u001b[0m\u001b[0;34m\u001b[0m\u001b[0m\n",
      "\u001b[0;32m~/Documents/pymc3/pymc3/model.py\u001b[0m in \u001b[0;36mVar\u001b[0;34m(self, name, dist, data, total_size)\u001b[0m\n\u001b[1;32m    836\u001b[0m                 var = ObservedRV(name=name, data=data,\n\u001b[1;32m    837\u001b[0m                                  \u001b[0mdistribution\u001b[0m\u001b[0;34m=\u001b[0m\u001b[0mdist\u001b[0m\u001b[0;34m,\u001b[0m\u001b[0;34m\u001b[0m\u001b[0m\n\u001b[0;32m--> 838\u001b[0;31m                                  total_size=total_size, model=self)\n\u001b[0m\u001b[1;32m    839\u001b[0m             \u001b[0mself\u001b[0m\u001b[0;34m.\u001b[0m\u001b[0mobserved_RVs\u001b[0m\u001b[0;34m.\u001b[0m\u001b[0mappend\u001b[0m\u001b[0;34m(\u001b[0m\u001b[0mvar\u001b[0m\u001b[0;34m)\u001b[0m\u001b[0;34m\u001b[0m\u001b[0m\n\u001b[1;32m    840\u001b[0m             \u001b[0;32mif\u001b[0m \u001b[0mvar\u001b[0m\u001b[0;34m.\u001b[0m\u001b[0mmissing_values\u001b[0m\u001b[0;34m:\u001b[0m\u001b[0;34m\u001b[0m\u001b[0m\n",
      "\u001b[0;32m~/Documents/pymc3/pymc3/model.py\u001b[0m in \u001b[0;36m__init__\u001b[0;34m(self, type, owner, index, name, data, distribution, total_size, model)\u001b[0m\n\u001b[1;32m   1317\u001b[0m \u001b[0;34m\u001b[0m\u001b[0m\n\u001b[1;32m   1318\u001b[0m             \u001b[0mself\u001b[0m\u001b[0;34m.\u001b[0m\u001b[0mmissing_values\u001b[0m \u001b[0;34m=\u001b[0m \u001b[0mdata\u001b[0m\u001b[0;34m.\u001b[0m\u001b[0mmissing_values\u001b[0m\u001b[0;34m\u001b[0m\u001b[0m\n\u001b[0;32m-> 1319\u001b[0;31m             \u001b[0mself\u001b[0m\u001b[0;34m.\u001b[0m\u001b[0mlogp_elemwiset\u001b[0m \u001b[0;34m=\u001b[0m \u001b[0mdistribution\u001b[0m\u001b[0;34m.\u001b[0m\u001b[0mlogp\u001b[0m\u001b[0;34m(\u001b[0m\u001b[0mdata\u001b[0m\u001b[0;34m)\u001b[0m\u001b[0;34m\u001b[0m\u001b[0m\n\u001b[0m\u001b[1;32m   1320\u001b[0m             \u001b[0;31m# The logp might need scaling in minibatches.\u001b[0m\u001b[0;34m\u001b[0m\u001b[0;34m\u001b[0m\u001b[0m\n\u001b[1;32m   1321\u001b[0m             \u001b[0;31m# This is done in `Factor`.\u001b[0m\u001b[0;34m\u001b[0m\u001b[0;34m\u001b[0m\u001b[0m\n",
      "\u001b[0;32m<ipython-input-13-735f20c29027>\u001b[0m in \u001b[0;36mlog_data_\u001b[0;34m(docs)\u001b[0m\n\u001b[1;32m      3\u001b[0m     \u001b[0;32mdef\u001b[0m \u001b[0mlog_data_\u001b[0m\u001b[0;34m(\u001b[0m\u001b[0mdocs\u001b[0m\u001b[0;34m)\u001b[0m\u001b[0;34m:\u001b[0m\u001b[0;34m\u001b[0m\u001b[0m\n\u001b[1;32m      4\u001b[0m         \u001b[0mt1\u001b[0m \u001b[0;34m=\u001b[0m \u001b[0mtt\u001b[0m\u001b[0;34m.\u001b[0m\u001b[0mlog\u001b[0m\u001b[0;34m(\u001b[0m\u001b[0mpi\u001b[0m\u001b[0;34m)\u001b[0m\u001b[0;34m*\u001b[0m\u001b[0mtt\u001b[0m\u001b[0;34m.\u001b[0m\u001b[0mones\u001b[0m\u001b[0;34m(\u001b[0m\u001b[0;34m(\u001b[0m\u001b[0;36m10\u001b[0m\u001b[0;34m,\u001b[0m \u001b[0;36m1\u001b[0m\u001b[0;34m)\u001b[0m\u001b[0;34m)\u001b[0m\u001b[0;34m\u001b[0m\u001b[0m\n\u001b[0;32m----> 5\u001b[0;31m         \u001b[0mt2\u001b[0m \u001b[0;34m=\u001b[0m \u001b[0mtt\u001b[0m\u001b[0;34m.\u001b[0m\u001b[0mlog\u001b[0m\u001b[0;34m(\u001b[0m\u001b[0mtheta_init\u001b[0m\u001b[0;34m[\u001b[0m\u001b[0;34m:\u001b[0m\u001b[0;34m,\u001b[0m \u001b[0mdocs\u001b[0m\u001b[0;34m[\u001b[0m\u001b[0;34m:\u001b[0m\u001b[0;34m,\u001b[0m \u001b[0;36m0\u001b[0m\u001b[0;34m]\u001b[0m\u001b[0;34m]\u001b[0m\u001b[0;34m)\u001b[0m\u001b[0;34m.\u001b[0m\u001b[0mT\u001b[0m\u001b[0;34m\u001b[0m\u001b[0m\n\u001b[0m\u001b[1;32m      6\u001b[0m         \u001b[0mt3\u001b[0m \u001b[0;34m=\u001b[0m \u001b[0mtt\u001b[0m\u001b[0;34m.\u001b[0m\u001b[0msum\u001b[0m\u001b[0;34m(\u001b[0m\u001b[0mtheta_trans\u001b[0m\u001b[0;34m[\u001b[0m\u001b[0;34m:\u001b[0m\u001b[0;34m,\u001b[0m \u001b[0mdocs\u001b[0m\u001b[0;34m[\u001b[0m\u001b[0;34m:\u001b[0m\u001b[0;34m,\u001b[0m \u001b[0;34m:\u001b[0m\u001b[0;34m-\u001b[0m\u001b[0;36m1\u001b[0m\u001b[0;34m]\u001b[0m\u001b[0;34m,\u001b[0m \u001b[0mdocs\u001b[0m\u001b[0;34m[\u001b[0m\u001b[0;34m:\u001b[0m\u001b[0;34m,\u001b[0m \u001b[0;36m1\u001b[0m\u001b[0;34m:\u001b[0m\u001b[0;34m]\u001b[0m\u001b[0;34m]\u001b[0m\u001b[0;34m,\u001b[0m \u001b[0maxis\u001b[0m\u001b[0;34m=\u001b[0m\u001b[0;36m2\u001b[0m\u001b[0;34m)\u001b[0m\u001b[0;34m.\u001b[0m\u001b[0mT\u001b[0m\u001b[0;34m\u001b[0m\u001b[0m\n\u001b[1;32m      7\u001b[0m         \u001b[0;32mreturn\u001b[0m \u001b[0mtt\u001b[0m\u001b[0;34m.\u001b[0m\u001b[0msum\u001b[0m\u001b[0;34m(\u001b[0m\u001b[0mpmmath\u001b[0m\u001b[0;34m.\u001b[0m\u001b[0mlogsumexp\u001b[0m\u001b[0;34m(\u001b[0m\u001b[0mt1\u001b[0m\u001b[0;34m+\u001b[0m\u001b[0mt2\u001b[0m\u001b[0;34m+\u001b[0m\u001b[0mt3\u001b[0m\u001b[0;34m,\u001b[0m \u001b[0maxis\u001b[0m\u001b[0;34m=\u001b[0m\u001b[0;36m1\u001b[0m\u001b[0;34m)\u001b[0m\u001b[0;34m)\u001b[0m\u001b[0;34m\u001b[0m\u001b[0m\n",
      "\u001b[0;32m~/anaconda3/lib/python3.6/site-packages/theano/tensor/var.py\u001b[0m in \u001b[0;36m__getitem__\u001b[0;34m(self, args)\u001b[0m\n\u001b[1;32m    568\u001b[0m                             \u001b[0mTensorVariable\u001b[0m\u001b[0;34m,\u001b[0m \u001b[0mTensorConstant\u001b[0m\u001b[0;34m,\u001b[0m\u001b[0;34m\u001b[0m\u001b[0m\n\u001b[1;32m    569\u001b[0m                             theano.tensor.sharedvar.TensorSharedVariable))):\n\u001b[0;32m--> 570\u001b[0;31m                 \u001b[0;32mreturn\u001b[0m \u001b[0mself\u001b[0m\u001b[0;34m.\u001b[0m\u001b[0mtake\u001b[0m\u001b[0;34m(\u001b[0m\u001b[0margs\u001b[0m\u001b[0;34m[\u001b[0m\u001b[0maxis\u001b[0m\u001b[0;34m]\u001b[0m\u001b[0;34m,\u001b[0m \u001b[0maxis\u001b[0m\u001b[0;34m)\u001b[0m\u001b[0;34m\u001b[0m\u001b[0m\n\u001b[0m\u001b[1;32m    571\u001b[0m             \u001b[0;32melse\u001b[0m\u001b[0;34m:\u001b[0m\u001b[0;34m\u001b[0m\u001b[0m\n\u001b[1;32m    572\u001b[0m                 \u001b[0;32mreturn\u001b[0m \u001b[0mtheano\u001b[0m\u001b[0;34m.\u001b[0m\u001b[0mtensor\u001b[0m\u001b[0;34m.\u001b[0m\u001b[0msubtensor\u001b[0m\u001b[0;34m.\u001b[0m\u001b[0madvanced_subtensor\u001b[0m\u001b[0;34m(\u001b[0m\u001b[0mself\u001b[0m\u001b[0;34m,\u001b[0m \u001b[0;34m*\u001b[0m\u001b[0margs\u001b[0m\u001b[0;34m)\u001b[0m\u001b[0;34m\u001b[0m\u001b[0m\n",
      "\u001b[0;32m~/anaconda3/lib/python3.6/site-packages/theano/tensor/var.py\u001b[0m in \u001b[0;36mtake\u001b[0;34m(self, indices, axis, mode)\u001b[0m\n\u001b[1;32m    612\u001b[0m \u001b[0;34m\u001b[0m\u001b[0m\n\u001b[1;32m    613\u001b[0m     \u001b[0;32mdef\u001b[0m \u001b[0mtake\u001b[0m\u001b[0;34m(\u001b[0m\u001b[0mself\u001b[0m\u001b[0;34m,\u001b[0m \u001b[0mindices\u001b[0m\u001b[0;34m,\u001b[0m \u001b[0maxis\u001b[0m\u001b[0;34m=\u001b[0m\u001b[0;32mNone\u001b[0m\u001b[0;34m,\u001b[0m \u001b[0mmode\u001b[0m\u001b[0;34m=\u001b[0m\u001b[0;34m'raise'\u001b[0m\u001b[0;34m)\u001b[0m\u001b[0;34m:\u001b[0m\u001b[0;34m\u001b[0m\u001b[0m\n\u001b[0;32m--> 614\u001b[0;31m         \u001b[0;32mreturn\u001b[0m \u001b[0mtheano\u001b[0m\u001b[0;34m.\u001b[0m\u001b[0mtensor\u001b[0m\u001b[0;34m.\u001b[0m\u001b[0msubtensor\u001b[0m\u001b[0;34m.\u001b[0m\u001b[0mtake\u001b[0m\u001b[0;34m(\u001b[0m\u001b[0mself\u001b[0m\u001b[0;34m,\u001b[0m \u001b[0mindices\u001b[0m\u001b[0;34m,\u001b[0m \u001b[0maxis\u001b[0m\u001b[0;34m,\u001b[0m \u001b[0mmode\u001b[0m\u001b[0;34m)\u001b[0m\u001b[0;34m\u001b[0m\u001b[0m\n\u001b[0m\u001b[1;32m    615\u001b[0m \u001b[0;34m\u001b[0m\u001b[0m\n\u001b[1;32m    616\u001b[0m     \u001b[0;31m# COPYING\u001b[0m\u001b[0;34m\u001b[0m\u001b[0;34m\u001b[0m\u001b[0m\n",
      "\u001b[0;32m~/anaconda3/lib/python3.6/site-packages/theano/tensor/subtensor.py\u001b[0m in \u001b[0;36mtake\u001b[0;34m(a, indices, axis, mode)\u001b[0m\n\u001b[1;32m   2438\u001b[0m             \u001b[0mshuffle\u001b[0m\u001b[0;34m[\u001b[0m\u001b[0maxis\u001b[0m\u001b[0;34m]\u001b[0m \u001b[0;34m=\u001b[0m \u001b[0;36m0\u001b[0m\u001b[0;34m\u001b[0m\u001b[0m\n\u001b[1;32m   2439\u001b[0m             return advanced_subtensor1(\n\u001b[0;32m-> 2440\u001b[0;31m                 a.dimshuffle(shuffle), indices).dimshuffle(shuffle)\n\u001b[0m\u001b[1;32m   2441\u001b[0m     \u001b[0;32mif\u001b[0m \u001b[0maxis\u001b[0m \u001b[0;32mis\u001b[0m \u001b[0;32mNone\u001b[0m\u001b[0;34m:\u001b[0m\u001b[0;34m\u001b[0m\u001b[0m\n\u001b[1;32m   2442\u001b[0m         \u001b[0mshape\u001b[0m \u001b[0;34m=\u001b[0m \u001b[0mindices\u001b[0m\u001b[0;34m.\u001b[0m\u001b[0mshape\u001b[0m\u001b[0;34m\u001b[0m\u001b[0m\n",
      "\u001b[0;32m~/anaconda3/lib/python3.6/site-packages/theano/gof/op.py\u001b[0m in \u001b[0;36m__call__\u001b[0;34m(self, *inputs, **kwargs)\u001b[0m\n\u001b[1;32m    613\u001b[0m         \"\"\"\n\u001b[1;32m    614\u001b[0m         \u001b[0mreturn_list\u001b[0m \u001b[0;34m=\u001b[0m \u001b[0mkwargs\u001b[0m\u001b[0;34m.\u001b[0m\u001b[0mpop\u001b[0m\u001b[0;34m(\u001b[0m\u001b[0;34m'return_list'\u001b[0m\u001b[0;34m,\u001b[0m \u001b[0;32mFalse\u001b[0m\u001b[0;34m)\u001b[0m\u001b[0;34m\u001b[0m\u001b[0m\n\u001b[0;32m--> 615\u001b[0;31m         \u001b[0mnode\u001b[0m \u001b[0;34m=\u001b[0m \u001b[0mself\u001b[0m\u001b[0;34m.\u001b[0m\u001b[0mmake_node\u001b[0m\u001b[0;34m(\u001b[0m\u001b[0;34m*\u001b[0m\u001b[0minputs\u001b[0m\u001b[0;34m,\u001b[0m \u001b[0;34m**\u001b[0m\u001b[0mkwargs\u001b[0m\u001b[0;34m)\u001b[0m\u001b[0;34m\u001b[0m\u001b[0m\n\u001b[0m\u001b[1;32m    616\u001b[0m \u001b[0;34m\u001b[0m\u001b[0m\n\u001b[1;32m    617\u001b[0m         \u001b[0;32mif\u001b[0m \u001b[0mconfig\u001b[0m\u001b[0;34m.\u001b[0m\u001b[0mcompute_test_value\u001b[0m \u001b[0;34m!=\u001b[0m \u001b[0;34m'off'\u001b[0m\u001b[0;34m:\u001b[0m\u001b[0;34m\u001b[0m\u001b[0m\n",
      "\u001b[0;32m~/anaconda3/lib/python3.6/site-packages/theano/tensor/subtensor.py\u001b[0m in \u001b[0;36mmake_node\u001b[0;34m(self, x, ilist)\u001b[0m\n\u001b[1;32m   1701\u001b[0m         \u001b[0milist_\u001b[0m \u001b[0;34m=\u001b[0m \u001b[0mtheano\u001b[0m\u001b[0;34m.\u001b[0m\u001b[0mtensor\u001b[0m\u001b[0;34m.\u001b[0m\u001b[0mas_tensor_variable\u001b[0m\u001b[0;34m(\u001b[0m\u001b[0milist\u001b[0m\u001b[0;34m)\u001b[0m\u001b[0;34m\u001b[0m\u001b[0m\n\u001b[1;32m   1702\u001b[0m         \u001b[0;32mif\u001b[0m \u001b[0milist_\u001b[0m\u001b[0;34m.\u001b[0m\u001b[0mtype\u001b[0m\u001b[0;34m.\u001b[0m\u001b[0mdtype\u001b[0m \u001b[0;32mnot\u001b[0m \u001b[0;32min\u001b[0m \u001b[0mtheano\u001b[0m\u001b[0;34m.\u001b[0m\u001b[0mtensor\u001b[0m\u001b[0;34m.\u001b[0m\u001b[0minteger_dtypes\u001b[0m\u001b[0;34m:\u001b[0m\u001b[0;34m\u001b[0m\u001b[0m\n\u001b[0;32m-> 1703\u001b[0;31m             \u001b[0;32mraise\u001b[0m \u001b[0mTypeError\u001b[0m\u001b[0;34m(\u001b[0m\u001b[0;34m'index must be integers'\u001b[0m\u001b[0;34m)\u001b[0m\u001b[0;34m\u001b[0m\u001b[0m\n\u001b[0m\u001b[1;32m   1704\u001b[0m         \u001b[0;32mif\u001b[0m \u001b[0milist_\u001b[0m\u001b[0;34m.\u001b[0m\u001b[0mtype\u001b[0m\u001b[0;34m.\u001b[0m\u001b[0mndim\u001b[0m \u001b[0;34m!=\u001b[0m \u001b[0;36m1\u001b[0m\u001b[0;34m:\u001b[0m\u001b[0;34m\u001b[0m\u001b[0m\n\u001b[1;32m   1705\u001b[0m             \u001b[0;32mraise\u001b[0m \u001b[0mTypeError\u001b[0m\u001b[0;34m(\u001b[0m\u001b[0;34m'index must be vector'\u001b[0m\u001b[0;34m)\u001b[0m\u001b[0;34m\u001b[0m\u001b[0m\n",
      "\u001b[0;31mTypeError\u001b[0m: index must be integers"
     ]
    }
   ],
   "source": [
    "with pm.Model() as model:\n",
    "    # the posterior distribution of a multinomial with a dirichlet prior is another dirichlet prior\n",
    "    pi = pm.Dirichlet('pi', a=pm.floatX((1.0 / num_clusters) * np.ones(num_clusters)),\n",
    "                      shape=(num_clusters), transform=t_stick_breaking(1e-9))\n",
    "    theta_i = pm.Dirichlet('theta_i', a=pm.floatX((1.0 / num_values) * np.ones((num_clusters, num_values))),\n",
    "                           shape=(num_clusters, num_values), transform=t_stick_breaking(1e-9))\n",
    "\n",
    "    theta_t = pm.Dirichlet('theta_t', a=pm.floatX((1.0 / num_values) * np.ones((num_clusters, num_values, num_values))),\n",
    "                           shape=(num_clusters, num_values, num_values), transform=t_stick_breaking(1e-9))\n",
    "    # how do we aggregate the likelihood of all the data\n",
    "    obs = pm.DensityDist('obs', log_data(pi, theta_i, theta_t), observed=data)"
   ]
  },
  {
   "cell_type": "code",
   "execution_count": 18,
   "metadata": {},
   "outputs": [],
   "source": [
    "# log likelihood\n",
    "def log_data2(pi, theta_init, theta_trans, docs):\n",
    "    t1 = tt.log(pi)*tt.ones((10, 1))\n",
    "    t2 = tt.log(theta_init[:, docs[:, 0]]).T\n",
    "    t3 = tt.sum(theta_trans[:, docs[:, :-1], docs[:, 1:]], axis=2).T\n",
    "    return tt.sum(pmmath.logsumexp(t1+t2+t3, axis=1))"
   ]
  },
  {
   "cell_type": "code",
   "execution_count": 16,
   "metadata": {},
   "outputs": [],
   "source": [
    "with pm.Model() as model:\n",
    "    # the posterior distribution of a multinomial with a dirichlet prior is another dirichlet prior\n",
    "    pi = pm.Dirichlet('pi', \n",
    "                      a=pm.floatX((1.0 / num_clusters) * np.ones(num_clusters)),\n",
    "                      shape=(num_clusters), \n",
    "                      transform=t_stick_breaking(1e-9))\n",
    "\n",
    "    theta_i = pm.Dirichlet('theta_i', \n",
    "                           a=pm.floatX((1.0 / num_values) * np.ones((num_clusters, num_values))),\n",
    "                           shape=(num_clusters, num_values), \n",
    "                           transform=t_stick_breaking(1e-9))\n",
    "\n",
    "    theta_t = pm.Dirichlet('theta_t', \n",
    "                           a=pm.floatX((1.0 / num_values) * np.ones((num_clusters, num_values, num_values))),\n",
    "                           shape=(num_clusters, num_values, num_values), \n",
    "                           transform=t_stick_breaking(1e-9))\n",
    "\n",
    "    # how do we aggregate the likelihood of all the data\n",
    "    obs = pm.Potential('obs', log_data2(pi, theta_i, theta_t, data))"
   ]
  },
  {
   "cell_type": "markdown",
   "metadata": {},
   "source": [
    "For more information about using `Potential` or `DensityDist` see eg https://discourse.pymc.io/t/how-to-set-up-a-custom-likelihood-function-for-two-variables/906/6"
   ]
  },
  {
   "cell_type": "code",
   "execution_count": 17,
   "metadata": {},
   "outputs": [
    {
     "name": "stderr",
     "output_type": "stream",
     "text": [
      "logp = 354.69, ||grad|| = 0.0014682: 100%|██████████| 33/33 [00:00<00:00, 994.78it/s]  \n"
     ]
    },
    {
     "data": {
      "text/plain": [
       "{'pi_stickbreaking__': array([ 3.78111530e+01, -4.36856298e-05]),\n",
       " 'theta_i_stickbreaking__': array([[ 3.56671026e-01,  2.52984702e-05],\n",
       "        [ 5.52092135e+01, -5.88735623e-04],\n",
       "        [ 5.52091996e+01, -5.88815902e-04]]),\n",
       " 'theta_t_stickbreaking__': array([[[ -211.59862826, -1009.76971025],\n",
       "         [ -706.97172163,   492.46613401],\n",
       "         [  857.2059972 ,  -492.41810017]],\n",
       " \n",
       "        [[ -211.59862718, -1009.76970873],\n",
       "         [ -706.971721  ,   492.46613604],\n",
       "         [  857.20599593,  -492.41810219]],\n",
       " \n",
       "        [[ -211.59862718, -1009.76970873],\n",
       "         [ -706.971721  ,   492.46613604],\n",
       "         [  857.20599593,  -492.41810219]]]),\n",
       " 'pi': array([9.99999999e-01, 4.99989120e-10, 5.00010963e-10]),\n",
       " 'theta_i': array([[4.16665715e-01, 2.91670832e-01, 2.91663453e-01],\n",
       "        [9.99999999e-01, 4.99852857e-10, 5.00147225e-10],\n",
       "        [9.99999999e-01, 4.99852837e-10, 5.00147245e-10]]),\n",
       " 'theta_t': array([[[1.00000000e-09, 9.99999999e-10, 9.99999998e-01],\n",
       "         [1.00000000e-09, 9.99999998e-01, 1.00000008e-09],\n",
       "         [9.99999999e-01, 1.00000008e-18, 1.00000008e-09]],\n",
       " \n",
       "        [[1.00000000e-09, 9.99999999e-10, 9.99999998e-01],\n",
       "         [1.00000000e-09, 9.99999998e-01, 1.00000008e-09],\n",
       "         [9.99999999e-01, 1.00000008e-18, 1.00000008e-09]],\n",
       " \n",
       "        [[1.00000000e-09, 9.99999999e-10, 9.99999998e-01],\n",
       "         [1.00000000e-09, 9.99999998e-01, 1.00000008e-09],\n",
       "         [9.99999999e-01, 1.00000008e-18, 1.00000008e-09]]])}"
      ]
     },
     "execution_count": 17,
     "metadata": {},
     "output_type": "execute_result"
    }
   ],
   "source": [
    "with model:\n",
    "    map1 = pm.find_MAP()\n",
    "map1"
   ]
  },
  {
   "cell_type": "code",
   "execution_count": null,
   "metadata": {},
   "outputs": [],
   "source": []
  }
 ],
 "metadata": {
  "kernelspec": {
   "display_name": "Python 3",
   "language": "python",
   "name": "python3"
  },
  "language_info": {
   "codemirror_mode": {
    "name": "ipython",
    "version": 3
   },
   "file_extension": ".py",
   "mimetype": "text/x-python",
   "name": "python",
   "nbconvert_exporter": "python",
   "pygments_lexer": "ipython3",
   "version": "3.6.5"
  }
 },
 "nbformat": 4,
 "nbformat_minor": 2
}
