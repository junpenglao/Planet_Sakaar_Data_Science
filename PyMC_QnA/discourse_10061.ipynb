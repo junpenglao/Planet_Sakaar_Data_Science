{
 "cells": [
  {
   "cell_type": "code",
   "execution_count": 1,
   "metadata": {},
   "outputs": [
    {
     "name": "stderr",
     "output_type": "stream",
     "text": [
      "WARNING (aesara.tensor.blas): Using NumPy C-API based implementation for BLAS functions.\n"
     ]
    }
   ],
   "source": [
    "import numpy as np\n",
    "\n",
    "import pymc as pm\n",
    "import aesara\n",
    "import aesara.tensor as at\n",
    "\n",
    "import arviz as az"
   ]
  },
  {
   "cell_type": "code",
   "execution_count": 2,
   "metadata": {},
   "outputs": [
    {
     "name": "stdout",
     "output_type": "stream",
     "text": [
      "4.1.4\n",
      "2.7.9\n"
     ]
    }
   ],
   "source": [
    "print(pm.__version__)\n",
    "print(aesara.__version__)"
   ]
  },
  {
   "cell_type": "code",
   "execution_count": 4,
   "metadata": {},
   "outputs": [],
   "source": [
    "c, sigma = 10., 1.5\n",
    "X = np.random.normal(size=(100, 2))\n",
    "beta = np.asarray([-3., 4.])\n",
    "y = X @ beta + c + np.random.normal(0, sigma, size=100)"
   ]
  },
  {
   "cell_type": "code",
   "execution_count": 5,
   "metadata": {},
   "outputs": [],
   "source": [
    "with pm.Model() as m:\n",
    "    i = pm.Normal('c', 0, 100)\n",
    "    β = pm.Normal('β', 0, 100, size=2)\n",
    "    σ = pm.HalfNormal('σ', 10)\n",
    "    obs = pm.Normal('y', X @ β + i, σ, observed=y)\n",
    "    # trace = pm.sample(1000)\n",
    "# az.plot_trace(trace);"
   ]
  },
  {
   "cell_type": "code",
   "execution_count": 6,
   "metadata": {},
   "outputs": [
    {
     "data": {
      "text/plain": [
       "(array(-397.28626688),\n",
       " array([ 9.24825597, -3.12307039,  3.3779111 , 15.6715735 ]))"
      ]
     },
     "execution_count": 6,
     "metadata": {},
     "output_type": "execute_result"
    }
   ],
   "source": [
    "init_point = m.initial_point()\n",
    "\n",
    "val_and_grad = m.logp_dlogp_function()\n",
    "val_and_grad.set_extra_values({})\n",
    "q = pm.blocking.DictToArrayBijection.map({v.name: init_point[v.name] for v in m.value_vars})\n",
    "val_and_grad(q)  # val_and_grad(q.data)"
   ]
  },
  {
   "cell_type": "code",
   "execution_count": 7,
   "metadata": {},
   "outputs": [
    {
     "data": {
      "text/plain": [
       "(array(-397.28626688),\n",
       " array([ 9.24825597, -3.12307039,  3.3779111 , 15.6715735 ]))"
      ]
     },
     "execution_count": 7,
     "metadata": {},
     "output_type": "execute_result"
    }
   ],
   "source": [
    "# same output as:\n",
    "m.compile_logp()(init_point), m.compile_dlogp()(init_point)"
   ]
  },
  {
   "cell_type": "code",
   "execution_count": 33,
   "metadata": {},
   "outputs": [
    {
     "data": {
      "text/plain": [
       "array([ 42.58979265, -14.38227066,  15.5558555 , 537.29245186])"
      ]
     },
     "execution_count": 33,
     "metadata": {},
     "output_type": "execute_result"
    }
   ],
   "source": [
    "hessian = m.d2logp()\n",
    "vars = pm.aesaraf.cont_inputs(hessian)\n",
    "value_var = at.concatenate([at.flatten(v) for v in vars], axis=0)\n",
    "# value_var = [m.rvs_to_values.get(var) for var in m.free_RVs]\n",
    "hvp = hessian @ value_var\n",
    "hvp_fn = m.compile_fn(hvp)\n",
    "hvp_fn(init_point)"
   ]
  },
  {
   "cell_type": "code",
   "execution_count": 34,
   "metadata": {},
   "outputs": [
    {
     "data": {
      "text/plain": [
       "array([ 42.58979265, -14.38227066,  15.5558555 , 537.29245186])"
      ]
     },
     "execution_count": 34,
     "metadata": {},
     "output_type": "execute_result"
    }
   ],
   "source": [
    "# same output as:\n",
    "m.compile_d2logp()(init_point) @ q.data"
   ]
  },
  {
   "cell_type": "code",
   "execution_count": 41,
   "metadata": {},
   "outputs": [],
   "source": [
    "# Flatten and replace value (similar to ValueGradFunction in pm.Model)\n",
    "flatten_var = at.vector(name='flatten_var')\n",
    "split_point = np.concatenate([\n",
    "    np.asarray([0]), \n",
    "    np.cumsum([\n",
    "        np.prod(v) \n",
    "        for _, v, _ in q.point_map_info\n",
    "    ])\n",
    "], axis=-1).astype(int)\n",
    "\n",
    "vars_replace = []\n",
    "for i, (_, v, _) in enumerate(q.point_map_info):\n",
    "    vars_replace.append(at.reshape(flatten_var[split_point[i]:split_point[i+1]], v))\n",
    "\n",
    "hvp_clone = aesara.clone_replace(hvp, dict(zip(vars, vars_replace)))\n",
    "hvp_fn2 = aesara.function([flatten_var], [hvp_clone])"
   ]
  },
  {
   "cell_type": "code",
   "execution_count": 42,
   "metadata": {},
   "outputs": [
    {
     "data": {
      "text/plain": [
       "[array([ 42.58979265, -14.38227066,  15.5558555 , 537.29245186])]"
      ]
     },
     "execution_count": 42,
     "metadata": {},
     "output_type": "execute_result"
    }
   ],
   "source": [
    "hvp_fn2(q.data)"
   ]
  }
 ],
 "metadata": {
  "kernelspec": {
   "display_name": "Python 3 (ipykernel)",
   "language": "python",
   "name": "python3"
  },
  "language_info": {
   "codemirror_mode": {
    "name": "ipython",
    "version": 3
   },
   "file_extension": ".py",
   "mimetype": "text/x-python",
   "name": "python",
   "nbconvert_exporter": "python",
   "pygments_lexer": "ipython3",
   "version": "3.9.9"
  },
  "vscode": {
   "interpreter": {
    "hash": "048912e989d3122349b72d4b377d6cfb3d6510252a82dfc6720674d87d4b18a5"
   }
  }
 },
 "nbformat": 4,
 "nbformat_minor": 4
}
