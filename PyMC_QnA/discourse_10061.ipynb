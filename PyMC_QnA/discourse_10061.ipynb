{
 "cells": [
  {
   "cell_type": "code",
   "execution_count": 1,
   "metadata": {},
   "outputs": [
    {
     "name": "stderr",
     "output_type": "stream",
     "text": [
      "WARNING (aesara.tensor.blas): Using NumPy C-API based implementation for BLAS functions.\n"
     ]
    }
   ],
   "source": [
    "import numpy as np\n",
    "\n",
    "import pymc as pm\n",
    "import aesara\n",
    "import aesara.tensor as at\n",
    "\n",
    "import arviz as az"
   ]
  },
  {
   "cell_type": "code",
   "execution_count": 2,
   "metadata": {},
   "outputs": [
    {
     "name": "stdout",
     "output_type": "stream",
     "text": [
      "4.1.4\n",
      "2.7.9\n"
     ]
    }
   ],
   "source": [
    "print(pm.__version__)\n",
    "print(aesara.__version__)"
   ]
  },
  {
   "cell_type": "code",
   "execution_count": 3,
   "metadata": {},
   "outputs": [],
   "source": [
    "c, sigma = 10., 1.5\n",
    "X = np.random.normal(size=(100, 2))\n",
    "beta = np.asarray([-3., 4.])\n",
    "y = X @ beta + c + np.random.normal(0, sigma, size=100)"
   ]
  },
  {
   "cell_type": "code",
   "execution_count": 4,
   "metadata": {},
   "outputs": [],
   "source": [
    "with pm.Model() as m:\n",
    "    i = pm.Normal('c', 0, 100)\n",
    "    β = pm.Normal('β', 0, 100, size=2)\n",
    "    σ = pm.HalfNormal('σ', 10)\n",
    "    obs = pm.Normal('y', X @ β + i, σ, observed=y)\n",
    "    # trace = pm.sample(1000)\n",
    "# az.plot_trace(trace);"
   ]
  },
  {
   "cell_type": "code",
   "execution_count": 5,
   "metadata": {},
   "outputs": [
    {
     "data": {
      "text/plain": [
       "(array(-403.07851477),\n",
       " array([10.11309994, -3.25584444,  3.55693003, 27.25606927]))"
      ]
     },
     "execution_count": 5,
     "metadata": {},
     "output_type": "execute_result"
    }
   ],
   "source": [
    "init_point = m.initial_point()\n",
    "\n",
    "val_and_grad = m.logp_dlogp_function()\n",
    "val_and_grad.set_extra_values({})\n",
    "q = pm.blocking.DictToArrayBijection.map({v.name: init_point[v.name] for v in m.value_vars})\n",
    "val_and_grad(q)  # val_and_grad(q.data)"
   ]
  },
  {
   "cell_type": "code",
   "execution_count": 6,
   "metadata": {},
   "outputs": [
    {
     "data": {
      "text/plain": [
       "(array(-403.07851477),\n",
       " array([10.11309994, -3.25584444,  3.55693003, 27.25606927]))"
      ]
     },
     "execution_count": 6,
     "metadata": {},
     "output_type": "execute_result"
    }
   ],
   "source": [
    "# same output as:\n",
    "m.compile_logp()(init_point), m.compile_dlogp()(init_point)"
   ]
  },
  {
   "cell_type": "code",
   "execution_count": 7,
   "metadata": {},
   "outputs": [
    {
     "data": {
      "text/plain": [
       "array([ 46.57254631, -14.99371772,  16.38026813, 590.64102638])"
      ]
     },
     "execution_count": 7,
     "metadata": {},
     "output_type": "execute_result"
    }
   ],
   "source": [
    "hessian = m.d2logp()\n",
    "vars = pm.aesaraf.cont_inputs(hessian)\n",
    "value_var = at.concatenate([at.flatten(v) for v in vars], axis=0)\n",
    "# value_var = [m.rvs_to_values.get(var) for var in m.free_RVs]\n",
    "hvp = m.compile_fn(hessian @ value_var)\n",
    "hvp(init_point)"
   ]
  },
  {
   "cell_type": "code",
   "execution_count": 8,
   "metadata": {},
   "outputs": [
    {
     "data": {
      "text/plain": [
       "array([ 46.57254631, -14.99371772,  16.38026813, 590.64102638])"
      ]
     },
     "execution_count": 8,
     "metadata": {},
     "output_type": "execute_result"
    }
   ],
   "source": [
    "# same output as:\n",
    "m.compile_d2logp()(init_point) @ q.data"
   ]
  },
  {
   "cell_type": "code",
   "execution_count": null,
   "metadata": {},
   "outputs": [],
   "source": []
  }
 ],
 "metadata": {
  "kernelspec": {
   "display_name": "Python 3 (ipykernel)",
   "language": "python",
   "name": "python3"
  },
  "language_info": {
   "codemirror_mode": {
    "name": "ipython",
    "version": 3
   },
   "file_extension": ".py",
   "mimetype": "text/x-python",
   "name": "python",
   "nbconvert_exporter": "python",
   "pygments_lexer": "ipython3",
   "version": "3.9.9"
  },
  "vscode": {
   "interpreter": {
    "hash": "048912e989d3122349b72d4b377d6cfb3d6510252a82dfc6720674d87d4b18a5"
   }
  }
 },
 "nbformat": 4,
 "nbformat_minor": 4
}
