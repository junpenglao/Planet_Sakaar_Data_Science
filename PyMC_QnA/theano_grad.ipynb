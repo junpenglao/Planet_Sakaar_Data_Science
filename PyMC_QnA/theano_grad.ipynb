{
 "cells": [
  {
   "cell_type": "markdown",
   "metadata": {},
   "source": [
    "https://discourse.pymc.io/t/theano-gradient-beta-0-alpha-beta-samples-are-from-a-beta-dist-which-takes-as-input-alpha-returns-disconnectedinputerror/880/3"
   ]
  },
  {
   "cell_type": "code",
   "execution_count": 1,
   "metadata": {},
   "outputs": [
    {
     "name": "stderr",
     "output_type": "stream",
     "text": [
      "/Library/Frameworks/Python.framework/Versions/3.5/lib/python3.5/site-packages/h5py/__init__.py:36: FutureWarning: Conversion of the second argument of issubdtype from `float` to `np.floating` is deprecated. In future, it will be treated as `np.float64 == np.dtype(float).type`.\n",
      "  from ._conv import register_converters as _register_converters\n"
     ]
    }
   ],
   "source": [
    "import pymc3 as pm\n",
    "import numpy as np\n",
    "import theano.tensor as tt\n",
    "import theano\n",
    "from theano.gof.graph import inputs"
   ]
  },
  {
   "cell_type": "code",
   "execution_count": 2,
   "metadata": {},
   "outputs": [],
   "source": [
    "with pm.Model() as m:\n",
    "    a = pm.Gamma('a', 1., 1.)\n",
    "    b = pm.Beta('b', 1., a, shape=1)"
   ]
  },
  {
   "cell_type": "code",
   "execution_count": 3,
   "metadata": {},
   "outputs": [],
   "source": [
    "db = theano.grad(b.distribution.logp(.5), a)"
   ]
  },
  {
   "cell_type": "code",
   "execution_count": 4,
   "metadata": {},
   "outputs": [],
   "source": [
    "f = theano.function([a], db)"
   ]
  },
  {
   "cell_type": "code",
   "execution_count": 5,
   "metadata": {},
   "outputs": [
    {
     "data": {
      "text/plain": [
       "array(-0.59314718)"
      ]
     },
     "execution_count": 5,
     "metadata": {},
     "output_type": "execute_result"
    }
   ],
   "source": [
    "f(10)"
   ]
  },
  {
   "cell_type": "code",
   "execution_count": 6,
   "metadata": {},
   "outputs": [],
   "source": [
    "with pm.Model() as m:\n",
    "    mu = pm.Normal('mu', 0, 100)\n",
    "    sd = pm.Gamma('sd', 1., 1.)\n",
    "    obs = pm.Normal('y', mu, sd, observed=np.random.randn(10)*3.+1.)"
   ]
  },
  {
   "cell_type": "code",
   "execution_count": 7,
   "metadata": {},
   "outputs": [],
   "source": [
    "dy = theano.grad(obs.logpt, m.free_RVs)"
   ]
  },
  {
   "cell_type": "code",
   "execution_count": 8,
   "metadata": {},
   "outputs": [
    {
     "data": {
      "text/plain": [
       "[(d__logp_y/dmu), (d__logp_y/dsd_log__)]"
      ]
     },
     "execution_count": 8,
     "metadata": {},
     "output_type": "execute_result"
    }
   ],
   "source": [
    "dy"
   ]
  },
  {
   "cell_type": "code",
   "execution_count": 9,
   "metadata": {},
   "outputs": [],
   "source": [
    "f = theano.function(m.free_RVs, dy)"
   ]
  },
  {
   "cell_type": "code",
   "execution_count": 10,
   "metadata": {},
   "outputs": [
    {
     "data": {
      "text/plain": [
       "[array(1.96299356), array(0.97634763)]"
      ]
     },
     "execution_count": 10,
     "metadata": {},
     "output_type": "execute_result"
    }
   ],
   "source": [
    "f(0, 1)"
   ]
  },
  {
   "cell_type": "code",
   "execution_count": 11,
   "metadata": {},
   "outputs": [
    {
     "data": {
      "text/plain": [
       "array(1.96299356)"
      ]
     },
     "execution_count": 11,
     "metadata": {},
     "output_type": "execute_result"
    }
   ],
   "source": [
    "dy = theano.grad(obs.logpt, mu)\n",
    "f = theano.function(m.free_RVs, dy)\n",
    "f(0, 1)"
   ]
  },
  {
   "cell_type": "code",
   "execution_count": 12,
   "metadata": {},
   "outputs": [
    {
     "data": {
      "text/plain": [
       "array(6.46896284)"
      ]
     },
     "execution_count": 12,
     "metadata": {},
     "output_type": "execute_result"
    }
   ],
   "source": [
    "dy = theano.grad(obs.logpt, sd)\n",
    "f = theano.function(m.free_RVs, dy)\n",
    "f(0, 1)"
   ]
  },
  {
   "cell_type": "code",
   "execution_count": 12,
   "metadata": {},
   "outputs": [
    {
     "data": {
      "text/plain": [
       "array(14.50466953)"
      ]
     },
     "execution_count": 12,
     "metadata": {},
     "output_type": "execute_result"
    }
   ],
   "source": [
    "f(0, np.log(1))"
   ]
  },
  {
   "cell_type": "code",
   "execution_count": 13,
   "metadata": {},
   "outputs": [
    {
     "data": {
      "text/plain": [
       "array(0.97634763)"
      ]
     },
     "execution_count": 13,
     "metadata": {},
     "output_type": "execute_result"
    }
   ],
   "source": [
    "dy = theano.grad(obs.logpt, m.free_RVs[1])\n",
    "f = theano.function(m.free_RVs, dy)\n",
    "f(0, 1)"
   ]
  },
  {
   "cell_type": "code",
   "execution_count": 15,
   "metadata": {},
   "outputs": [],
   "source": [
    "with pm.Model() as m:\n",
    "    mu0 = pm.Normal('mu0', 0, 1)\n",
    "    mu1 = pm.Normal('mu1', mu0, 1)\n",
    "    sd = pm.Gamma('sd', 1., 1.)\n",
    "    obs = pm.Normal('y', mu1, sd, observed=np.random.randn(10)*3.+1.)"
   ]
  },
  {
   "cell_type": "code",
   "execution_count": 17,
   "metadata": {},
   "outputs": [
    {
     "ename": "DisconnectedInputError",
     "evalue": "",
     "output_type": "error",
     "traceback": [
      "\u001b[0;31m---------------------------------------------------------------------------\u001b[0m",
      "\u001b[0;31mDisconnectedInputError\u001b[0m                    Traceback (most recent call last)",
      "\u001b[0;32m<ipython-input-17-d9ca54b4ae37>\u001b[0m in \u001b[0;36m<module>\u001b[0;34m()\u001b[0m\n\u001b[0;32m----> 1\u001b[0;31m \u001b[0mdy\u001b[0m \u001b[0;34m=\u001b[0m \u001b[0mtheano\u001b[0m\u001b[0;34m.\u001b[0m\u001b[0mgrad\u001b[0m\u001b[0;34m(\u001b[0m\u001b[0mobs\u001b[0m\u001b[0;34m.\u001b[0m\u001b[0mlogpt\u001b[0m\u001b[0;34m,\u001b[0m \u001b[0mm\u001b[0m\u001b[0;34m.\u001b[0m\u001b[0mfree_RVs\u001b[0m\u001b[0;34m)\u001b[0m\u001b[0;34m\u001b[0m\u001b[0m\n\u001b[0m\u001b[1;32m      2\u001b[0m \u001b[0mdy\u001b[0m\u001b[0;34m\u001b[0m\u001b[0m\n",
      "\u001b[0;32m/Library/Frameworks/Python.framework/Versions/3.5/lib/python3.5/site-packages/theano/gradient.py\u001b[0m in \u001b[0;36mgrad\u001b[0;34m(cost, wrt, consider_constant, disconnected_inputs, add_names, known_grads, return_disconnected, null_gradients)\u001b[0m\n\u001b[1;32m    587\u001b[0m         \u001b[0;32mif\u001b[0m \u001b[0melem\u001b[0m \u001b[0;32mnot\u001b[0m \u001b[0;32min\u001b[0m \u001b[0mvar_to_app_to_idx\u001b[0m \u001b[0;32mand\u001b[0m \u001b[0melem\u001b[0m \u001b[0;32mis\u001b[0m \u001b[0;32mnot\u001b[0m \u001b[0mcost\u001b[0m\u001b[0;31m \u001b[0m\u001b[0;31m\\\u001b[0m\u001b[0;34m\u001b[0m\u001b[0m\n\u001b[1;32m    588\u001b[0m                 \u001b[0;32mand\u001b[0m \u001b[0melem\u001b[0m \u001b[0;32mnot\u001b[0m \u001b[0;32min\u001b[0m \u001b[0mgrad_dict\u001b[0m\u001b[0;34m:\u001b[0m\u001b[0;34m\u001b[0m\u001b[0m\n\u001b[0;32m--> 589\u001b[0;31m             \u001b[0mhandle_disconnected\u001b[0m\u001b[0;34m(\u001b[0m\u001b[0melem\u001b[0m\u001b[0;34m)\u001b[0m\u001b[0;34m\u001b[0m\u001b[0m\n\u001b[0m\u001b[1;32m    590\u001b[0m             \u001b[0mgrad_dict\u001b[0m\u001b[0;34m[\u001b[0m\u001b[0melem\u001b[0m\u001b[0;34m]\u001b[0m \u001b[0;34m=\u001b[0m \u001b[0mdisconnected_type\u001b[0m\u001b[0;34m(\u001b[0m\u001b[0;34m)\u001b[0m\u001b[0;34m\u001b[0m\u001b[0m\n\u001b[1;32m    591\u001b[0m \u001b[0;34m\u001b[0m\u001b[0m\n",
      "\u001b[0;32m/Library/Frameworks/Python.framework/Versions/3.5/lib/python3.5/site-packages/theano/gradient.py\u001b[0m in \u001b[0;36mhandle_disconnected\u001b[0;34m(var)\u001b[0m\n\u001b[1;32m    574\u001b[0m             \u001b[0;32melif\u001b[0m \u001b[0mdisconnected_inputs\u001b[0m \u001b[0;34m==\u001b[0m \u001b[0;34m'raise'\u001b[0m\u001b[0;34m:\u001b[0m\u001b[0;34m\u001b[0m\u001b[0m\n\u001b[1;32m    575\u001b[0m                 \u001b[0mmessage\u001b[0m \u001b[0;34m=\u001b[0m \u001b[0mutils\u001b[0m\u001b[0;34m.\u001b[0m\u001b[0mget_variable_trace_string\u001b[0m\u001b[0;34m(\u001b[0m\u001b[0mvar\u001b[0m\u001b[0;34m)\u001b[0m\u001b[0;34m\u001b[0m\u001b[0m\n\u001b[0;32m--> 576\u001b[0;31m                 \u001b[0;32mraise\u001b[0m \u001b[0mDisconnectedInputError\u001b[0m\u001b[0;34m(\u001b[0m\u001b[0mmessage\u001b[0m\u001b[0;34m)\u001b[0m\u001b[0;34m\u001b[0m\u001b[0m\n\u001b[0m\u001b[1;32m    577\u001b[0m             \u001b[0;32melse\u001b[0m\u001b[0;34m:\u001b[0m\u001b[0;34m\u001b[0m\u001b[0m\n\u001b[1;32m    578\u001b[0m                 raise ValueError(\"Invalid value for keyword \"\n",
      "\u001b[0;31mDisconnectedInputError\u001b[0m: "
     ]
    }
   ],
   "source": [
    "dy = theano.grad(obs.logpt, m.free_RVs)\n",
    "dy"
   ]
  },
  {
   "cell_type": "code",
   "execution_count": 20,
   "metadata": {},
   "outputs": [
    {
     "data": {
      "text/plain": [
       "[(d__logp_y/dmu1), (d__logp_y/dsd_log__)]"
      ]
     },
     "execution_count": 20,
     "metadata": {},
     "output_type": "execute_result"
    }
   ],
   "source": [
    "dy = theano.grad(obs.logpt, m.free_RVs[1:])\n",
    "dy"
   ]
  },
  {
   "cell_type": "code",
   "execution_count": 23,
   "metadata": {},
   "outputs": [
    {
     "data": {
      "text/plain": [
       "[for{cpu,scan_fn}.0, for{cpu,scan_fn}.1]"
      ]
     },
     "execution_count": 23,
     "metadata": {},
     "output_type": "execute_result"
    }
   ],
   "source": [
    "dy = theano.gradient.jacobian(obs.logp_elemwiset, m.free_RVs[1:])\n",
    "dy"
   ]
  },
  {
   "cell_type": "code",
   "execution_count": 24,
   "metadata": {},
   "outputs": [
    {
     "data": {
      "text/plain": [
       "[array([-0.10896697,  0.52816218,  1.64376887,  0.27480795,  0.70866816,\n",
       "         0.31964908,  0.06533298, -0.13050971,  0.13942747,  0.04516425]),\n",
       " array([-0.91226382,  1.06121627, 18.96505294, -0.44198286,  2.71086196,\n",
       "        -0.24501926, -0.96846056, -0.87414381, -0.85635661, -0.98492773])]"
      ]
     },
     "execution_count": 24,
     "metadata": {},
     "output_type": "execute_result"
    }
   ],
   "source": [
    "f = theano.function(m.free_RVs[1:], dy)\n",
    "f(0, 1)"
   ]
  },
  {
   "cell_type": "code",
   "execution_count": 15,
   "metadata": {},
   "outputs": [
    {
     "name": "stdout",
     "output_type": "stream",
     "text": [
      "env: THEANO_FLAGS=device=cpu,floatX=float32\n"
     ]
    },
    {
     "data": {
      "text/plain": [
       "<matplotlib.collections.PathCollection at 0x7f79d332cbe0>"
      ]
     },
     "execution_count": 15,
     "metadata": {},
     "output_type": "execute_result"
    },
    {
     "data": {
      "image/png": "[encoded data removed]",
      "text/plain": [
       "<matplotlib.figure.Figure at 0x7f79d3af8240>"
      ]
     },
     "metadata": {},
     "output_type": "display_data"
    }
   ],
   "source": [
    "%matplotlib inline\n",
    "%env THEANO_FLAGS=device=cpu,floatX=float32\n",
    "import theano\n",
    "\n",
    "import pymc3 as pm\n",
    "from pymc3 import Normal, Metropolis, sample, MvNormal, Dirichlet, \\\n",
    "    DensityDist, find_MAP, NUTS, Slice\n",
    "import theano.tensor as tt\n",
    "from theano.tensor.nlinalg import det\n",
    "import numpy as np\n",
    "import matplotlib.pyplot as plt\n",
    "import seaborn as sns\n",
    "\n",
    "n_samples = 100\n",
    "rng = np.random.RandomState(123)\n",
    "ms = np.array([[-1, -1.5], [1, 1]])\n",
    "ps = np.array([0.2, 0.8])\n",
    "\n",
    "zs = np.array([rng.multinomial(1, ps) for _ in range(n_samples)]).T\n",
    "xs = [z[:, np.newaxis] * rng.multivariate_normal(m, np.eye(2), size=n_samples)\n",
    "      for z, m in zip(zs, ms)]\n",
    "data = np.sum(np.dstack(xs), axis=2)\n",
    "\n",
    "plt.figure(figsize=(5, 5))\n",
    "plt.scatter(data[:, 0], data[:, 1], c='g', alpha=0.5)\n",
    "plt.scatter(ms[0, 0], ms[0, 1], c='r', s=100)\n",
    "plt.scatter(ms[1, 0], ms[1, 1], c='b', s=100);"
   ]
  },
  {
   "cell_type": "code",
   "execution_count": 16,
   "metadata": {},
   "outputs": [],
   "source": [
    "from pymc3.math import logsumexp\n",
    "\n",
    "# Log likelihood of normal distribution\n",
    "def logp_normal(mu, tau, value):\n",
    "    # log probability of individual samples\n",
    "    k = tau.shape[0]\n",
    "    delta = lambda mu: value - mu\n",
    "    return (-1 / 2.) * (k * tt.log(2 * np.pi) + tt.log(1./det(tau)) +\n",
    "                         (delta(mu).dot(tau) * delta(mu)).sum(axis=1))\n",
    "\n",
    "# Log likelihood of Gaussian mixture distribution\n",
    "def logp_gmix(mus, pi, tau):\n",
    "    def logp_(value):\n",
    "        logps = [tt.log(pi[i]) + logp_normal(mu, tau, value)\n",
    "                 for i, mu in enumerate(mus)]\n",
    "\n",
    "        return tt.sum(logsumexp(tt.stacklists(logps)[:, :n_samples], axis=0))\n",
    "\n",
    "    return logp_\n",
    "\n",
    "def stick_breaking(beta):\n",
    "    portion_remaining = tt.concatenate([[1], tt.extra_ops.cumprod(1 - beta)[:-1]])\n",
    "\n",
    "    return beta * portion_remaining\n",
    "\n",
    "with pm.Model() as model:\n",
    "    mus = [MvNormal('mu_%d' % i,\n",
    "                    mu=pm.floatX(np.zeros(2)),\n",
    "                    tau=pm.floatX(0.1 * np.eye(2)),\n",
    "                    shape=(2,))\n",
    "           for i in range(2)]\n",
    "#     pi = Dirichlet('pi', a=pm.floatX(0.1 * np.ones(2)), shape=(2,))\n",
    "    alpha = pm.Gamma('alpha', 1., 1.)\n",
    "    beta = pm.Beta('beta', 1., alpha, shape=2)\n",
    "    pi = pm.Deterministic('w', stick_breaking(beta))\n",
    "    xs = DensityDist('x', logp_gmix(mus, pi, np.eye(2)), observed=data)"
   ]
  },
  {
   "cell_type": "code",
   "execution_count": 17,
   "metadata": {},
   "outputs": [],
   "source": [
    "dy = theano.grad(xs.logpt, pi)\n",
    "f = theano.function(model.free_RVs, dy, on_unused_input='ignore')"
   ]
  },
  {
   "cell_type": "code",
   "execution_count": 18,
   "metadata": {},
   "outputs": [
    {
     "data": {
      "text/plain": [
       "[mu_0, mu_1, alpha_log__, beta_logodds__]"
      ]
     },
     "execution_count": 18,
     "metadata": {},
     "output_type": "execute_result"
    }
   ],
   "source": [
    "model.free_RVs"
   ]
  },
  {
   "cell_type": "code",
   "execution_count": 19,
   "metadata": {},
   "outputs": [
    {
     "data": {
      "text/plain": [
       "array([0., 0.])"
      ]
     },
     "execution_count": 19,
     "metadata": {},
     "output_type": "execute_result"
    }
   ],
   "source": [
    "model.free_RVs[0].tag.test_value"
   ]
  },
  {
   "cell_type": "code",
   "execution_count": 20,
   "metadata": {},
   "outputs": [
    {
     "data": {
      "text/plain": [
       "0.0"
      ]
     },
     "execution_count": 20,
     "metadata": {},
     "output_type": "execute_result"
    }
   ],
   "source": [
    "model.free_RVs[2].tag.test_value"
   ]
  },
  {
   "cell_type": "code",
   "execution_count": 21,
   "metadata": {},
   "outputs": [
    {
     "data": {
      "text/plain": [
       "array([0., 0.])"
      ]
     },
     "execution_count": 21,
     "metadata": {},
     "output_type": "execute_result"
    }
   ],
   "source": [
    "model.free_RVs[3].tag.test_value"
   ]
  },
  {
   "cell_type": "code",
   "execution_count": 22,
   "metadata": {},
   "outputs": [
    {
     "data": {
      "text/plain": [
       "array([100.60819327,  19.47223224])"
      ]
     },
     "execution_count": 22,
     "metadata": {},
     "output_type": "execute_result"
    }
   ],
   "source": [
    "f(np.array([0., 0.]), np.array([5., 0.]), 0., np.array([5., 0.]))"
   ]
  },
  {
   "cell_type": "code",
   "execution_count": 23,
   "metadata": {},
   "outputs": [
    {
     "name": "stderr",
     "output_type": "stream",
     "text": [
      "/usr/local/lib/python3.5/dist-packages/theano/gradient.py:589: UserWarning: grad method was asked to compute the gradient with respect to a variable that is not part of the computational graph of the cost, or is used only by a non-differentiable operator: alpha\n",
      "  handle_disconnected(elem)\n",
      "/usr/local/lib/python3.5/dist-packages/theano/gradient.py:615: UserWarning: grad method was asked to compute the gradient with respect to a variable that is not part of the computational graph of the cost, or is used only by a non-differentiable operator: <DisconnectedType>\n",
      "  handle_disconnected(rval[i])\n"
     ]
    }
   ],
   "source": [
    "dy = theano.grad(xs.logpt, alpha, disconnected_inputs='warn')"
   ]
  },
  {
   "cell_type": "code",
   "execution_count": 24,
   "metadata": {},
   "outputs": [],
   "source": [
    "dy = theano.grad(model.logpt, alpha, disconnected_inputs='warn')"
   ]
  },
  {
   "cell_type": "code",
   "execution_count": 25,
   "metadata": {},
   "outputs": [
    {
     "data": {
      "text/plain": [
       "[Sum{acc_dtype=float64}(Sum{acc_dtype=float64}.0)]"
      ]
     },
     "execution_count": 25,
     "metadata": {},
     "output_type": "execute_result"
    }
   ],
   "source": [
    "xs.logpt.get_parents()"
   ]
  },
  {
   "cell_type": "code",
   "execution_count": 26,
   "metadata": {},
   "outputs": [
    {
     "name": "stdout",
     "output_type": "stream",
     "text": [
      "Sum{acc_dtype=float64} [id A] '__logp_x'   \n",
      " |Sum{acc_dtype=float64} [id B] ''   \n",
      "   |Elemwise{add,no_inplace} [id C] ''   \n",
      "     |Elemwise{log,no_inplace} [id D] ''   \n",
      "     | |InplaceDimShuffle{x,0} [id E] ''   \n",
      "     |   |Sum{axis=[0], acc_dtype=float64} [id F] ''   \n",
      "     |     |Elemwise{exp,no_inplace} [id G] ''   \n",
      "     |       |Elemwise{sub,no_inplace} [id H] ''   \n",
      "     |         |Subtensor{::, :int64:} [id I] ''   \n",
      "     |         | |Join [id J] ''   \n",
      "     |         | | |TensorConstant{0} [id K]\n",
      "     |         | | |InplaceDimShuffle{x,0} [id L] ''   \n",
      "     |         | | | |Elemwise{add,no_inplace} [id M] ''   \n",
      "     |         | | |   |InplaceDimShuffle{x} [id N] ''   \n",
      "     |         | | |   | |Elemwise{log,no_inplace} [id O] ''   \n",
      "     |         | | |   |   |Subtensor{int64} [id P] ''   \n",
      "     |         | | |   |     |Elemwise{mul,no_inplace} [id Q] 'w'   \n",
      "     |         | | |   |     | |ViewOp [id R] 'beta'   \n",
      "     |         | | |   |     | | |sigmoid [id S] ''   \n",
      "     |         | | |   |     | |   |beta_logodds__ [id T]\n",
      "     |         | | |   |     | |Join [id U] ''   \n",
      "     |         | | |   |     |   |TensorConstant{0} [id K]\n",
      "     |         | | |   |     |   |TensorConstant{(1,) of 1} [id V]\n",
      "     |         | | |   |     |   |Subtensor{:int64:} [id W] ''   \n",
      "     |         | | |   |     |     |CumOp{None, mul} [id X] ''   \n",
      "     |         | | |   |     |     | |Elemwise{sub,no_inplace} [id Y] ''   \n",
      "     |         | | |   |     |     |   |InplaceDimShuffle{x} [id Z] ''   \n",
      "     |         | | |   |     |     |   | |TensorConstant{1} [id BA]\n",
      "     |         | | |   |     |     |   |ViewOp [id R] 'beta'   \n",
      "     |         | | |   |     |     |Constant{-1} [id BB]\n",
      "     |         | | |   |     |Constant{0} [id BC]\n",
      "     |         | | |   |Elemwise{mul,no_inplace} [id BD] ''   \n",
      "     |         | | |     |InplaceDimShuffle{x} [id BE] ''   \n",
      "     |         | | |     | |TensorConstant{-0.5} [id BF]\n",
      "     |         | | |     |Elemwise{add,no_inplace} [id BG] ''   \n",
      "     |         | | |       |InplaceDimShuffle{x} [id BH] ''   \n",
      "     |         | | |       | |Elemwise{add,no_inplace} [id BI] ''   \n",
      "     |         | | |       |   |Elemwise{mul,no_inplace} [id BJ] ''   \n",
      "     |         | | |       |   | |TensorConstant{2} [id BK]\n",
      "     |         | | |       |   | |Elemwise{log,no_inplace} [id BL] ''   \n",
      "     |         | | |       |   |   |TensorConstant{6.283185307179586} [id BM]\n",
      "     |         | | |       |   |Elemwise{log,no_inplace} [id BN] ''   \n",
      "     |         | | |       |     |Elemwise{true_div,no_inplace} [id BO] ''   \n",
      "     |         | | |       |       |TensorConstant{1.0} [id BP]\n",
      "     |         | | |       |       |Det [id BQ] ''   \n",
      "     |         | | |       |         |TensorConstant{[[1. 0.]\n",
      " [0. 1.]]} [id BR]\n",
      "     |         | | |       |Sum{axis=[1], acc_dtype=float64} [id BS] ''   \n",
      "     |         | | |         |Elemwise{mul,no_inplace} [id BT] ''   \n",
      "     |         | | |           |dot [id BU] ''   \n",
      "     |         | | |           | |Elemwise{sub,no_inplace} [id BV] ''   \n",
      "     |         | | |           | | |TensorConstant{[[-0.32907..03037933]]} [id BW]\n",
      "     |         | | |           | | |InplaceDimShuffle{x,0} [id BX] ''   \n",
      "     |         | | |           | |   |mu_0 [id BY]\n",
      "     |         | | |           | |TensorConstant{[[1. 0.]\n",
      " [0. 1.]]} [id BZ]\n",
      "     |         | | |           |Elemwise{sub,no_inplace} [id CA] ''   \n",
      "     |         | | |             |TensorConstant{[[-0.32907..03037933]]} [id BW]\n",
      "     |         | | |             |InplaceDimShuffle{x,0} [id CB] ''   \n",
      "     |         | | |               |mu_0 [id BY]\n",
      "     |         | | |InplaceDimShuffle{x,0} [id CC] ''   \n",
      "     |         | |   |Elemwise{add,no_inplace} [id CD] ''   \n",
      "     |         | |     |InplaceDimShuffle{x} [id CE] ''   \n",
      "     |         | |     | |Elemwise{log,no_inplace} [id CF] ''   \n",
      "     |         | |     |   |Subtensor{int64} [id CG] ''   \n",
      "     |         | |     |     |Elemwise{mul,no_inplace} [id Q] 'w'   \n",
      "     |         | |     |     |Constant{1} [id CH]\n",
      "     |         | |     |Elemwise{mul,no_inplace} [id CI] ''   \n",
      "     |         | |       |InplaceDimShuffle{x} [id CJ] ''   \n",
      "     |         | |       | |TensorConstant{-0.5} [id BF]\n",
      "     |         | |       |Elemwise{add,no_inplace} [id CK] ''   \n",
      "     |         | |         |InplaceDimShuffle{x} [id CL] ''   \n",
      "     |         | |         | |Elemwise{add,no_inplace} [id CM] ''   \n",
      "     |         | |         |   |Elemwise{mul,no_inplace} [id CN] ''   \n",
      "     |         | |         |   | |TensorConstant{2} [id BK]\n",
      "     |         | |         |   | |Elemwise{log,no_inplace} [id CO] ''   \n",
      "     |         | |         |   |   |TensorConstant{6.283185307179586} [id BM]\n",
      "     |         | |         |   |Elemwise{log,no_inplace} [id CP] ''   \n",
      "     |         | |         |     |Elemwise{true_div,no_inplace} [id CQ] ''   \n",
      "     |         | |         |       |TensorConstant{1.0} [id BP]\n",
      "     |         | |         |       |Det [id CR] ''   \n",
      "     |         | |         |         |TensorConstant{[[1. 0.]\n",
      " [0. 1.]]} [id CS]\n",
      "     |         | |         |Sum{axis=[1], acc_dtype=float64} [id CT] ''   \n",
      "     |         | |           |Elemwise{mul,no_inplace} [id CU] ''   \n",
      "     |         | |             |dot [id CV] ''   \n",
      "     |         | |             | |Elemwise{sub,no_inplace} [id CW] ''   \n",
      "     |         | |             | | |TensorConstant{[[-0.32907..03037933]]} [id BW]\n",
      "     |         | |             | | |InplaceDimShuffle{x,0} [id CX] ''   \n",
      "     |         | |             | |   |mu_1 [id CY]\n",
      "     |         | |             | |TensorConstant{[[1. 0.]\n",
      " [0. 1.]]} [id CZ]\n",
      "     |         | |             |Elemwise{sub,no_inplace} [id DA] ''   \n",
      "     |         | |               |TensorConstant{[[-0.32907..03037933]]} [id BW]\n",
      "     |         | |               |InplaceDimShuffle{x,0} [id DB] ''   \n",
      "     |         | |                 |mu_1 [id CY]\n",
      "     |         | |Constant{100} [id DC]\n",
      "     |         |InplaceDimShuffle{x,0} [id DD] ''   \n",
      "     |           |MaxAndArgmax{axis=(0,)}.0 [id DE] 'max'   \n",
      "     |             |Subtensor{::, :int64:} [id I] ''   \n",
      "     |InplaceDimShuffle{x,0} [id DD] ''   \n"
     ]
    }
   ],
   "source": [
    "theano.printing.debugprint(xs.logpt)"
   ]
  },
  {
   "cell_type": "code",
   "execution_count": 27,
   "metadata": {
    "scrolled": false
   },
   "outputs": [
    {
     "name": "stdout",
     "output_type": "stream",
     "text": [
      "Elemwise{add,no_inplace} [id A] '__logp'   \n",
      " |Sum{acc_dtype=float64} [id B] ''   \n",
      " | |MakeVector{dtype='float64'} [id C] ''   \n",
      " |   |Sum{acc_dtype=float64} [id D] '__logp_mu_0'   \n",
      " |   | |Elemwise{switch,no_inplace} [id E] ''   \n",
      " |   |   |Elemwise{mul,no_inplace} [id F] ''   \n",
      " |   |   | |TensorConstant{1} [id G]\n",
      " |   |   | |Elemwise{mul,no_inplace} [id H] ''   \n",
      " |   |   |   |TensorConstant{1} [id G]\n",
      " |   |   |   |All [id I] ''   \n",
      " |   |   |     |Elemwise{gt,no_inplace} [id J] ''   \n",
      " |   |   |       |ExtractDiag{offset=0, axis1=0, axis2=1, view=False} [id K] ''   \n",
      " |   |   |       | |Cholesky{lower=True, destructive=False, nofail=True} [id L] ''   \n",
      " |   |   |       |   |TensorConstant{[[0.1 0. ]..[0.  0.1]]} [id M]\n",
      " |   |   |       |InplaceDimShuffle{x} [id N] ''   \n",
      " |   |   |         |TensorConstant{0} [id O]\n",
      " |   |   |Elemwise{sub,no_inplace} [id P] ''   \n",
      " |   |   | |Elemwise{sub,no_inplace} [id Q] ''   \n",
      " |   |   | | |Elemwise{mul,no_inplace} [id R] ''   \n",
      " |   |   | | | |Elemwise{mul,no_inplace} [id S] ''   \n",
      " |   |   | | | | |TensorConstant{-0.5} [id T]\n",
      " |   |   | | | | |Elemwise{Cast{float64}} [id U] ''   \n",
      " |   |   | | | |   |Subtensor{int64} [id V] ''   \n",
      " |   |   | | | |     |Shape [id W] ''   \n",
      " |   |   | | | |     | |mu_0 [id X]\n",
      " |   |   | | | |     |Constant{-1} [id Y]\n",
      " |   |   | | | |TensorConstant{1.8378770664093453} [id Z]\n",
      " |   |   | | |Elemwise{mul,no_inplace} [id BA] ''   \n",
      " |   |   | |   |TensorConstant{0.5} [id BB]\n",
      " |   |   | |   |Subtensor{int64} [id BC] ''   \n",
      " |   |   | |     |Sum{axis=[1], acc_dtype=float64} [id BD] ''   \n",
      " |   |   | |     | |Elemwise{pow,no_inplace} [id BE] ''   \n",
      " |   |   | |     |   |dot [id BF] ''   \n",
      " |   |   | |     |   | |Elemwise{sub,no_inplace} [id BG] ''   \n",
      " |   |   | |     |   | | |InplaceDimShuffle{x,0} [id BH] ''   \n",
      " |   |   | |     |   | | | |mu_0 [id X]\n",
      " |   |   | |     |   | | |InplaceDimShuffle{x,0} [id BI] ''   \n",
      " |   |   | |     |   | |   |TensorConstant{(2,) of 0.0} [id BJ]\n",
      " |   |   | |     |   | |Elemwise{switch,no_inplace} [id BK] ''   \n",
      " |   |   | |     |   |   |InplaceDimShuffle{x,x} [id BL] ''   \n",
      " |   |   | |     |   |   | |All [id I] ''   \n",
      " |   |   | |     |   |   |Cholesky{lower=True, destructive=False, nofail=True} [id L] ''   \n",
      " |   |   | |     |   |   |InplaceDimShuffle{x,x} [id BM] ''   \n",
      " |   |   | |     |   |     |TensorConstant{1} [id G]\n",
      " |   |   | |     |   |InplaceDimShuffle{x,x} [id BN] ''   \n",
      " |   |   | |     |     |TensorConstant{2} [id BO]\n",
      " |   |   | |     |Constant{0} [id BP]\n",
      " |   |   | |Elemwise{neg,no_inplace} [id BQ] ''   \n",
      " |   |   |   |Sum{acc_dtype=float64} [id BR] ''   \n",
      " |   |   |     |Elemwise{log,no_inplace} [id BS] ''   \n",
      " |   |   |       |ExtractDiag{offset=0, axis1=0, axis2=1, view=False} [id BT] ''   \n",
      " |   |   |         |Elemwise{switch,no_inplace} [id BK] ''   \n",
      " |   |   |TensorConstant{-inf} [id BU]\n",
      " |   |Sum{acc_dtype=float64} [id BV] '__logp_mu_1'   \n",
      " |   | |Elemwise{switch,no_inplace} [id BW] ''   \n",
      " |   |   |Elemwise{mul,no_inplace} [id BX] ''   \n",
      " |   |   | |TensorConstant{1} [id G]\n",
      " |   |   | |Elemwise{mul,no_inplace} [id BY] ''   \n",
      " |   |   |   |TensorConstant{1} [id G]\n",
      " |   |   |   |All [id BZ] ''   \n",
      " |   |   |     |Elemwise{gt,no_inplace} [id CA] ''   \n",
      " |   |   |       |ExtractDiag{offset=0, axis1=0, axis2=1, view=False} [id CB] ''   \n",
      " |   |   |       | |Cholesky{lower=True, destructive=False, nofail=True} [id CC] ''   \n",
      " |   |   |       |   |TensorConstant{[[0.1 0. ]..[0.  0.1]]} [id CD]\n",
      " |   |   |       |InplaceDimShuffle{x} [id CE] ''   \n",
      " |   |   |         |TensorConstant{0} [id O]\n",
      " |   |   |Elemwise{sub,no_inplace} [id CF] ''   \n",
      " |   |   | |Elemwise{sub,no_inplace} [id CG] ''   \n",
      " |   |   | | |Elemwise{mul,no_inplace} [id CH] ''   \n",
      " |   |   | | | |Elemwise{mul,no_inplace} [id CI] ''   \n",
      " |   |   | | | | |TensorConstant{-0.5} [id T]\n",
      " |   |   | | | | |Elemwise{Cast{float64}} [id CJ] ''   \n",
      " |   |   | | | |   |Subtensor{int64} [id CK] ''   \n",
      " |   |   | | | |     |Shape [id CL] ''   \n",
      " |   |   | | | |     | |mu_1 [id CM]\n",
      " |   |   | | | |     |Constant{-1} [id CN]\n",
      " |   |   | | | |TensorConstant{1.8378770664093453} [id Z]\n",
      " |   |   | | |Elemwise{mul,no_inplace} [id CO] ''   \n",
      " |   |   | |   |TensorConstant{0.5} [id BB]\n",
      " |   |   | |   |Subtensor{int64} [id CP] ''   \n",
      " |   |   | |     |Sum{axis=[1], acc_dtype=float64} [id CQ] ''   \n",
      " |   |   | |     | |Elemwise{pow,no_inplace} [id CR] ''   \n",
      " |   |   | |     |   |dot [id CS] ''   \n",
      " |   |   | |     |   | |Elemwise{sub,no_inplace} [id CT] ''   \n",
      " |   |   | |     |   | | |InplaceDimShuffle{x,0} [id CU] ''   \n",
      " |   |   | |     |   | | | |mu_1 [id CM]\n",
      " |   |   | |     |   | | |InplaceDimShuffle{x,0} [id CV] ''   \n",
      " |   |   | |     |   | |   |TensorConstant{(2,) of 0.0} [id CW]\n",
      " |   |   | |     |   | |Elemwise{switch,no_inplace} [id CX] ''   \n",
      " |   |   | |     |   |   |InplaceDimShuffle{x,x} [id CY] ''   \n",
      " |   |   | |     |   |   | |All [id BZ] ''   \n",
      " |   |   | |     |   |   |Cholesky{lower=True, destructive=False, nofail=True} [id CC] ''   \n",
      " |   |   | |     |   |   |InplaceDimShuffle{x,x} [id CZ] ''   \n",
      " |   |   | |     |   |     |TensorConstant{1} [id G]\n",
      " |   |   | |     |   |InplaceDimShuffle{x,x} [id DA] ''   \n",
      " |   |   | |     |     |TensorConstant{2} [id BO]\n",
      " |   |   | |     |Constant{0} [id DB]\n",
      " |   |   | |Elemwise{neg,no_inplace} [id DC] ''   \n",
      " |   |   |   |Sum{acc_dtype=float64} [id DD] ''   \n",
      " |   |   |     |Elemwise{log,no_inplace} [id DE] ''   \n",
      " |   |   |       |ExtractDiag{offset=0, axis1=0, axis2=1, view=False} [id DF] ''   \n",
      " |   |   |         |Elemwise{switch,no_inplace} [id CX] ''   \n",
      " |   |   |TensorConstant{-inf} [id DG]\n",
      " |   |Sum{acc_dtype=float64} [id DH] '__logp_alpha_log__'   \n",
      " |   | |Elemwise{add,no_inplace} [id DI] ''   \n",
      " |   |   |Elemwise{switch,no_inplace} [id DJ] ''   \n",
      " |   |   | |Elemwise{mul,no_inplace} [id DK] ''   \n",
      " |   |   | | |Elemwise{mul,no_inplace} [id DL] ''   \n",
      " |   |   | | | |Elemwise{mul,no_inplace} [id DM] ''   \n",
      " |   |   | | | | |TensorConstant{1} [id G]\n",
      " |   |   | | | | |Elemwise{mul,no_inplace} [id DN] ''   \n",
      " |   |   | | | |   |TensorConstant{1} [id G]\n",
      " |   |   | | | |   |Elemwise{ge,no_inplace} [id DO] ''   \n",
      " |   |   | | | |     |Elemwise{exp,no_inplace} [id DP] ''   \n",
      " |   |   | | | |     | |alpha_log__ [id DQ]\n",
      " |   |   | | | |     |TensorConstant{0} [id O]\n",
      " |   |   | | | |Elemwise{mul,no_inplace} [id DR] ''   \n",
      " |   |   | | |   |TensorConstant{1} [id G]\n",
      " |   |   | | |   |Elemwise{gt,no_inplace} [id DS] ''   \n",
      " |   |   | | |     |TensorConstant{1.0} [id DT]\n",
      " |   |   | | |     |TensorConstant{0} [id O]\n",
      " |   |   | | |Elemwise{mul,no_inplace} [id DU] ''   \n",
      " |   |   | |   |TensorConstant{1} [id G]\n",
      " |   |   | |   |Elemwise{gt,no_inplace} [id DV] ''   \n",
      " |   |   | |     |TensorConstant{1.0} [id DT]\n",
      " |   |   | |     |TensorConstant{0} [id O]\n",
      " |   |   | |Elemwise{add,no_inplace} [id DW] ''   \n",
      " |   |   | | |Elemwise{sub,no_inplace} [id DX] ''   \n",
      " |   |   | | | |Elemwise{add,no_inplace} [id DY] ''   \n",
      " |   |   | | | | |Elemwise{neg,no_inplace} [id DZ] ''   \n",
      " |   |   | | | | | |gammaln [id EA] ''   \n",
      " |   |   | | | | |   |TensorConstant{1.0} [id DT]\n",
      " |   |   | | | | |Elemwise{switch,no_inplace} [id EB] ''   \n",
      " |   |   | | | |   |Elemwise{eq,no_inplace} [id EC] ''   \n",
      " |   |   | | | |   | |TensorConstant{1.0} [id DT]\n",
      " |   |   | | | |   | |TensorConstant{0} [id O]\n",
      " |   |   | | | |   |TensorConstant{-inf} [id ED]\n",
      " |   |   | | | |   |Elemwise{mul,no_inplace} [id EE] ''   \n",
      " |   |   | | | |     |TensorConstant{1.0} [id DT]\n",
      " |   |   | | | |     |Elemwise{log,no_inplace} [id EF] ''   \n",
      " |   |   | | | |       |TensorConstant{1.0} [id DT]\n",
      " |   |   | | | |Elemwise{mul,no_inplace} [id EG] ''   \n",
      " |   |   | | |   |TensorConstant{1.0} [id DT]\n",
      " |   |   | | |   |Elemwise{exp,no_inplace} [id DP] ''   \n",
      " |   |   | | |Elemwise{switch,no_inplace} [id EH] ''   \n",
      " |   |   | |   |Elemwise{eq,no_inplace} [id EI] ''   \n",
      " |   |   | |   | |Elemwise{exp,no_inplace} [id DP] ''   \n",
      " |   |   | |   | |TensorConstant{0} [id O]\n",
      " |   |   | |   |TensorConstant{-inf} [id EJ]\n",
      " |   |   | |   |Elemwise{mul,no_inplace} [id EK] ''   \n",
      " |   |   | |     |Elemwise{sub,no_inplace} [id EL] ''   \n",
      " |   |   | |     | |TensorConstant{1.0} [id DT]\n",
      " |   |   | |     | |TensorConstant{1} [id G]\n",
      " |   |   | |     |Elemwise{log,no_inplace} [id EM] ''   \n",
      " |   |   | |       |Elemwise{exp,no_inplace} [id DP] ''   \n",
      " |   |   | |TensorConstant{-inf} [id EN]\n",
      " |   |   |alpha_log__ [id DQ]\n",
      " |   |Sum{acc_dtype=float64} [id EO] '__logp_beta_logodds__'   \n",
      " |   | |Elemwise{add,no_inplace} [id EP] ''   \n",
      " |   |   |Elemwise{switch,no_inplace} [id EQ] ''   \n",
      " |   |   | |Elemwise{mul,no_inplace} [id ER] ''   \n",
      " |   |   | | |Elemwise{mul,no_inplace} [id ES] ''   \n",
      " |   |   | | | |Elemwise{mul,no_inplace} [id ET] ''   \n",
      " |   |   | | | | |Elemwise{mul,no_inplace} [id EU] ''   \n",
      " |   |   | | | | | |InplaceDimShuffle{x} [id EV] ''   \n",
      " |   |   | | | | | | |TensorConstant{1} [id G]\n",
      " |   |   | | | | | |Elemwise{mul,no_inplace} [id EW] ''   \n",
      " |   |   | | | | |   |InplaceDimShuffle{x} [id EX] ''   \n",
      " |   |   | | | | |   | |TensorConstant{1} [id G]\n",
      " |   |   | | | | |   |Elemwise{ge,no_inplace} [id EY] ''   \n",
      " |   |   | | | | |     |sigmoid [id EZ] ''   \n",
      " |   |   | | | | |     | |beta_logodds__ [id FA]\n",
      " |   |   | | | | |     |InplaceDimShuffle{x} [id FB] ''   \n",
      " |   |   | | | | |       |TensorConstant{0} [id O]\n",
      " |   |   | | | | |Elemwise{mul,no_inplace} [id FC] ''   \n",
      " |   |   | | | |   |InplaceDimShuffle{x} [id FD] ''   \n",
      " |   |   | | | |   | |TensorConstant{1} [id G]\n",
      " |   |   | | | |   |Elemwise{le,no_inplace} [id FE] ''   \n",
      " |   |   | | | |     |sigmoid [id EZ] ''   \n",
      " |   |   | | | |     |InplaceDimShuffle{x} [id FF] ''   \n",
      " |   |   | | | |       |TensorConstant{1} [id G]\n",
      " |   |   | | | |InplaceDimShuffle{x} [id FG] ''   \n",
      " |   |   | | |   |Elemwise{mul,no_inplace} [id FH] ''   \n",
      " |   |   | | |     |TensorConstant{1} [id G]\n",
      " |   |   | | |     |Elemwise{gt,no_inplace} [id FI] ''   \n",
      " |   |   | | |       |TensorConstant{1.0} [id DT]\n",
      " |   |   | | |       |TensorConstant{0} [id O]\n",
      " |   |   | | |InplaceDimShuffle{x} [id FJ] ''   \n",
      " |   |   | |   |Elemwise{mul,no_inplace} [id FK] ''   \n",
      " |   |   | |     |TensorConstant{1} [id G]\n",
      " |   |   | |     |Elemwise{gt,no_inplace} [id FL] ''   \n",
      " |   |   | |       |ViewOp [id FM] 'alpha'   \n",
      " |   |   | |       | |Elemwise{exp,no_inplace} [id FN] ''   \n",
      " |   |   | |       |   |alpha_log__ [id DQ]\n",
      " |   |   | |       |TensorConstant{0} [id O]\n",
      " |   |   | |Elemwise{sub,no_inplace} [id FO] ''   \n",
      " |   |   | | |Elemwise{add,no_inplace} [id FP] ''   \n",
      " |   |   | | | |Elemwise{switch,no_inplace} [id FQ] ''   \n",
      " |   |   | | | | |InplaceDimShuffle{x} [id FR] ''   \n",
      " |   |   | | | | | |Elemwise{eq,no_inplace} [id FS] ''   \n",
      " |   |   | | | | |   |TensorConstant{1.0} [id DT]\n",
      " |   |   | | | | |   |TensorConstant{1} [id G]\n",
      " |   |   | | | | |InplaceDimShuffle{x} [id FT] ''   \n",
      " |   |   | | | | | |TensorConstant{0} [id O]\n",
      " |   |   | | | | |Elemwise{mul,no_inplace} [id FU] ''   \n",
      " |   |   | | | |   |InplaceDimShuffle{x} [id FV] ''   \n",
      " |   |   | | | |   | |Elemwise{sub,no_inplace} [id FW] ''   \n",
      " |   |   | | | |   |   |TensorConstant{1.0} [id DT]\n",
      " |   |   | | | |   |   |TensorConstant{1} [id G]\n",
      " |   |   | | | |   |Elemwise{log,no_inplace} [id FX] ''   \n",
      " |   |   | | | |     |sigmoid [id EZ] ''   \n",
      " |   |   | | | |Elemwise{switch,no_inplace} [id FY] ''   \n",
      " |   |   | | |   |InplaceDimShuffle{x} [id FZ] ''   \n",
      " |   |   | | |   | |Elemwise{eq,no_inplace} [id GA] ''   \n",
      " |   |   | | |   |   |ViewOp [id FM] 'alpha'   \n",
      " |   |   | | |   |   |TensorConstant{1} [id G]\n",
      " |   |   | | |   |InplaceDimShuffle{x} [id GB] ''   \n",
      " |   |   | | |   | |TensorConstant{0} [id O]\n",
      " |   |   | | |   |Elemwise{mul,no_inplace} [id GC] ''   \n",
      " |   |   | | |     |InplaceDimShuffle{x} [id GD] ''   \n",
      " |   |   | | |     | |Elemwise{sub,no_inplace} [id GE] ''   \n",
      " |   |   | | |     |   |ViewOp [id FM] 'alpha'   \n",
      " |   |   | | |     |   |TensorConstant{1} [id G]\n",
      " |   |   | | |     |Elemwise{log1p,no_inplace} [id GF] ''   \n",
      " |   |   | | |       |Elemwise{neg,no_inplace} [id GG] ''   \n",
      " |   |   | | |         |sigmoid [id EZ] ''   \n",
      " |   |   | | |InplaceDimShuffle{x} [id GH] ''   \n",
      " |   |   | |   |Elemwise{sub,no_inplace} [id GI] ''   \n",
      " |   |   | |     |Elemwise{add,no_inplace} [id GJ] ''   \n",
      " |   |   | |     | |gammaln [id GK] ''   \n",
      " |   |   | |     | | |TensorConstant{1.0} [id DT]\n",
      " |   |   | |     | |gammaln [id GL] ''   \n",
      " |   |   | |     |   |ViewOp [id FM] 'alpha'   \n",
      " |   |   | |     |gammaln [id GM] ''   \n",
      " |   |   | |       |Elemwise{add,no_inplace} [id GN] ''   \n",
      " |   |   | |         |TensorConstant{1.0} [id DT]\n",
      " |   |   | |         |ViewOp [id FM] 'alpha'   \n",
      " |   |   | |InplaceDimShuffle{x} [id GO] ''   \n",
      " |   |   |   |TensorConstant{-inf} [id GP]\n",
      " |   |   |Elemwise{log,no_inplace} [id GQ] ''   \n",
      " |   |     |Elemwise{abs_,no_inplace} [id GR] ''   \n",
      " |   |       |Reshape{1} [id GS] ''   \n",
      " |   |         |Reshape{1} [id GT] ''   \n",
      " |   |         | |Elemwise{mul} [id GU] ''   \n",
      " |   |         | | |Elemwise{mul} [id GV] ''   \n",
      " |   |         | | | |Elemwise{second} [id GW] ''   \n",
      " |   |         | | | | |sigmoid [id GX] ''   \n",
      " |   |         | | | | | |beta_logodds__ [id FA]\n",
      " |   |         | | | | |InplaceDimShuffle{x} [id GY] ''   \n",
      " |   |         | | | |   |Elemwise{second,no_inplace} [id GZ] ''   \n",
      " |   |         | | | |     |Sum{acc_dtype=float64} [id HA] ''   \n",
      " |   |         | | | |     | |sigmoid [id GX] ''   \n",
      " |   |         | | | |     |TensorConstant{1.0} [id HB]\n",
      " |   |         | | | |Elemwise{scalar_sigmoid} [id HC] ''   \n",
      " |   |         | | |   |beta_logodds__ [id FA]\n",
      " |   |         | | |Elemwise{sub} [id HD] ''   \n",
      " |   |         | |   |InplaceDimShuffle{x} [id HE] ''   \n",
      " |   |         | |   | |TensorConstant{1.0} [id DT]\n",
      " |   |         | |   |Elemwise{scalar_sigmoid} [id HF] ''   \n",
      " |   |         | |     |beta_logodds__ [id FA]\n",
      " |   |         | |TensorConstant{(1,) of -1} [id HG]\n",
      " |   |         |Shape [id HH] ''   \n",
      " |   |           |beta_logodds__ [id FA]\n",
      " |   |Sum{acc_dtype=float64} [id HI] '__logp_x'   \n",
      " |     |Sum{acc_dtype=float64} [id HJ] ''   \n",
      " |       |Elemwise{add,no_inplace} [id HK] ''   \n",
      " |         |Elemwise{log,no_inplace} [id HL] ''   \n",
      " |         | |InplaceDimShuffle{x,0} [id HM] ''   \n",
      " |         |   |Sum{axis=[0], acc_dtype=float64} [id HN] ''   \n",
      " |         |     |Elemwise{exp,no_inplace} [id HO] ''   \n",
      " |         |       |Elemwise{sub,no_inplace} [id HP] ''   \n",
      " |         |         |Subtensor{::, :int64:} [id HQ] ''   \n",
      " |         |         | |Join [id HR] ''   \n",
      " |         |         | | |TensorConstant{0} [id O]\n",
      " |         |         | | |InplaceDimShuffle{x,0} [id HS] ''   \n",
      " |         |         | | | |Elemwise{add,no_inplace} [id HT] ''   \n",
      " |         |         | | |   |InplaceDimShuffle{x} [id HU] ''   \n",
      " |         |         | | |   | |Elemwise{log,no_inplace} [id HV] ''   \n",
      " |         |         | | |   |   |Subtensor{int64} [id HW] ''   \n",
      " |         |         | | |   |     |Elemwise{mul,no_inplace} [id HX] 'w'   \n",
      " |         |         | | |   |     | |ViewOp [id HY] 'beta'   \n",
      " |         |         | | |   |     | | |sigmoid [id HZ] ''   \n",
      " |         |         | | |   |     | |   |beta_logodds__ [id FA]\n",
      " |         |         | | |   |     | |Join [id IA] ''   \n",
      " |         |         | | |   |     |   |TensorConstant{0} [id O]\n",
      " |         |         | | |   |     |   |TensorConstant{(1,) of 1} [id IB]\n",
      " |         |         | | |   |     |   |Subtensor{:int64:} [id IC] ''   \n",
      " |         |         | | |   |     |     |CumOp{None, mul} [id ID] ''   \n",
      " |         |         | | |   |     |     | |Elemwise{sub,no_inplace} [id IE] ''   \n",
      " |         |         | | |   |     |     |   |InplaceDimShuffle{x} [id IF] ''   \n",
      " |         |         | | |   |     |     |   | |TensorConstant{1} [id G]\n",
      " |         |         | | |   |     |     |   |ViewOp [id HY] 'beta'   \n",
      " |         |         | | |   |     |     |Constant{-1} [id IG]\n",
      " |         |         | | |   |     |Constant{0} [id IH]\n",
      " |         |         | | |   |Elemwise{mul,no_inplace} [id II] ''   \n",
      " |         |         | | |     |InplaceDimShuffle{x} [id IJ] ''   \n",
      " |         |         | | |     | |TensorConstant{-0.5} [id T]\n",
      " |         |         | | |     |Elemwise{add,no_inplace} [id IK] ''   \n",
      " |         |         | | |       |InplaceDimShuffle{x} [id IL] ''   \n",
      " |         |         | | |       | |Elemwise{add,no_inplace} [id IM] ''   \n",
      " |         |         | | |       |   |Elemwise{mul,no_inplace} [id IN] ''   \n",
      " |         |         | | |       |   | |TensorConstant{2} [id BO]\n",
      " |         |         | | |       |   | |Elemwise{log,no_inplace} [id IO] ''   \n",
      " |         |         | | |       |   |   |TensorConstant{6.283185307179586} [id IP]\n",
      " |         |         | | |       |   |Elemwise{log,no_inplace} [id IQ] ''   \n",
      " |         |         | | |       |     |Elemwise{true_div,no_inplace} [id IR] ''   \n",
      " |         |         | | |       |       |TensorConstant{1.0} [id DT]\n",
      " |         |         | | |       |       |Det [id IS] ''   \n",
      " |         |         | | |       |         |TensorConstant{[[1. 0.]\n",
      " [0. 1.]]} [id IT]\n",
      " |         |         | | |       |Sum{axis=[1], acc_dtype=float64} [id IU] ''   \n",
      " |         |         | | |         |Elemwise{mul,no_inplace} [id IV] ''   \n",
      " |         |         | | |           |dot [id IW] ''   \n",
      " |         |         | | |           | |Elemwise{sub,no_inplace} [id IX] ''   \n",
      " |         |         | | |           | | |TensorConstant{[[-0.32907..03037933]]} [id IY]\n",
      " |         |         | | |           | | |InplaceDimShuffle{x,0} [id IZ] ''   \n",
      " |         |         | | |           | |   |mu_0 [id X]\n",
      " |         |         | | |           | |TensorConstant{[[1. 0.]\n",
      " [0. 1.]]} [id JA]\n",
      " |         |         | | |           |Elemwise{sub,no_inplace} [id JB] ''   \n",
      " |         |         | | |             |TensorConstant{[[-0.32907..03037933]]} [id IY]\n",
      " |         |         | | |             |InplaceDimShuffle{x,0} [id JC] ''   \n",
      " |         |         | | |               |mu_0 [id X]\n",
      " |         |         | | |InplaceDimShuffle{x,0} [id JD] ''   \n",
      " |         |         | |   |Elemwise{add,no_inplace} [id JE] ''   \n",
      " |         |         | |     |InplaceDimShuffle{x} [id JF] ''   \n",
      " |         |         | |     | |Elemwise{log,no_inplace} [id JG] ''   \n",
      " |         |         | |     |   |Subtensor{int64} [id JH] ''   \n",
      " |         |         | |     |     |Elemwise{mul,no_inplace} [id HX] 'w'   \n",
      " |         |         | |     |     |Constant{1} [id JI]\n",
      " |         |         | |     |Elemwise{mul,no_inplace} [id JJ] ''   \n",
      " |         |         | |       |InplaceDimShuffle{x} [id JK] ''   \n",
      " |         |         | |       | |TensorConstant{-0.5} [id T]\n",
      " |         |         | |       |Elemwise{add,no_inplace} [id JL] ''   \n",
      " |         |         | |         |InplaceDimShuffle{x} [id JM] ''   \n",
      " |         |         | |         | |Elemwise{add,no_inplace} [id JN] ''   \n",
      " |         |         | |         |   |Elemwise{mul,no_inplace} [id JO] ''   \n",
      " |         |         | |         |   | |TensorConstant{2} [id BO]\n",
      " |         |         | |         |   | |Elemwise{log,no_inplace} [id JP] ''   \n",
      " |         |         | |         |   |   |TensorConstant{6.283185307179586} [id IP]\n",
      " |         |         | |         |   |Elemwise{log,no_inplace} [id JQ] ''   \n",
      " |         |         | |         |     |Elemwise{true_div,no_inplace} [id JR] ''   \n",
      " |         |         | |         |       |TensorConstant{1.0} [id DT]\n",
      " |         |         | |         |       |Det [id JS] ''   \n",
      " |         |         | |         |         |TensorConstant{[[1. 0.]\n",
      " [0. 1.]]} [id JT]\n",
      " |         |         | |         |Sum{axis=[1], acc_dtype=float64} [id JU] ''   \n",
      " |         |         | |           |Elemwise{mul,no_inplace} [id JV] ''   \n",
      " |         |         | |             |dot [id JW] ''   \n",
      " |         |         | |             | |Elemwise{sub,no_inplace} [id JX] ''   \n",
      " |         |         | |             | | |TensorConstant{[[-0.32907..03037933]]} [id IY]\n",
      " |         |         | |             | | |InplaceDimShuffle{x,0} [id JY] ''   \n",
      " |         |         | |             | |   |mu_1 [id CM]\n",
      " |         |         | |             | |TensorConstant{[[1. 0.]\n",
      " [0. 1.]]} [id JZ]\n",
      " |         |         | |             |Elemwise{sub,no_inplace} [id KA] ''   \n",
      " |         |         | |               |TensorConstant{[[-0.32907..03037933]]} [id IY]\n",
      " |         |         | |               |InplaceDimShuffle{x,0} [id KB] ''   \n",
      " |         |         | |                 |mu_1 [id CM]\n",
      " |         |         | |Constant{100} [id KC]\n",
      " |         |         |InplaceDimShuffle{x,0} [id KD] ''   \n",
      " |         |           |MaxAndArgmax{axis=(0,)}.0 [id KE] 'max'   \n",
      " |         |             |Subtensor{::, :int64:} [id HQ] ''   \n",
      " |         |InplaceDimShuffle{x,0} [id KD] ''   \n",
      " |Sum{acc_dtype=float64} [id KF] ''   \n",
      "   |TensorConstant{[]} [id KG]\n"
     ]
    }
   ],
   "source": [
    "theano.printing.debugprint(model.logpt)"
   ]
  },
  {
   "cell_type": "code",
   "execution_count": 29,
   "metadata": {},
   "outputs": [
    {
     "data": {
      "text/plain": [
       "[TensorConstant{0},\n",
       " beta_logodds__,\n",
       " TensorConstant{(1,) of 1},\n",
       " TensorConstant{1},\n",
       " Constant{-1},\n",
       " Constant{0},\n",
       " TensorConstant{-0.5},\n",
       " TensorConstant{2},\n",
       " TensorConstant{6.283185307179586},\n",
       " TensorConstant{1.0},\n",
       " TensorConstant{[[1. 0.]\n",
       "  [0. 1.]]},\n",
       " TensorConstant{[[-0.32907..03037933]]},\n",
       " mu_0,\n",
       " TensorConstant{[[1. 0.]\n",
       "  [0. 1.]]},\n",
       " Constant{1},\n",
       " TensorConstant{[[1. 0.]\n",
       "  [0. 1.]]},\n",
       " mu_1,\n",
       " TensorConstant{[[1. 0.]\n",
       "  [0. 1.]]},\n",
       " Constant{100}]"
      ]
     },
     "execution_count": 29,
     "metadata": {},
     "output_type": "execute_result"
    }
   ],
   "source": [
    "inputs([xs.logpt])"
   ]
  },
  {
   "cell_type": "code",
   "execution_count": 35,
   "metadata": {},
   "outputs": [
    {
     "data": {
      "text/plain": [
       "[TensorConstant{1},\n",
       " beta_logodds__,\n",
       " TensorConstant{0},\n",
       " TensorConstant{1.0},\n",
       " alpha_log__,\n",
       " TensorConstant{-inf},\n",
       " TensorConstant{1.0},\n",
       " TensorConstant{(1,) of -1}]"
      ]
     },
     "execution_count": 35,
     "metadata": {},
     "output_type": "execute_result"
    }
   ],
   "source": [
    "inputs([model.free_RVs[3].logpt])"
   ]
  },
  {
   "cell_type": "code",
   "execution_count": 30,
   "metadata": {},
   "outputs": [
    {
     "data": {
      "text/plain": [
       "[TensorConstant{1},\n",
       " TensorConstant{[[0.1 0. ]..[0.  0.1]]},\n",
       " TensorConstant{0},\n",
       " TensorConstant{-0.5},\n",
       " mu_0,\n",
       " Constant{-1},\n",
       " TensorConstant{1.8378770664093453},\n",
       " TensorConstant{0.5},\n",
       " TensorConstant{(2,) of 0.0},\n",
       " TensorConstant{2},\n",
       " Constant{0},\n",
       " TensorConstant{-inf},\n",
       " TensorConstant{[[0.1 0. ]..[0.  0.1]]},\n",
       " mu_1,\n",
       " Constant{-1},\n",
       " TensorConstant{(2,) of 0.0},\n",
       " Constant{0},\n",
       " TensorConstant{-inf},\n",
       " alpha_log__,\n",
       " TensorConstant{1.0},\n",
       " TensorConstant{-inf},\n",
       " TensorConstant{-inf},\n",
       " TensorConstant{-inf},\n",
       " beta_logodds__,\n",
       " TensorConstant{-inf},\n",
       " TensorConstant{1.0},\n",
       " TensorConstant{(1,) of -1},\n",
       " TensorConstant{(1,) of 1},\n",
       " Constant{-1},\n",
       " Constant{0},\n",
       " TensorConstant{6.283185307179586},\n",
       " TensorConstant{[[1. 0.]\n",
       "  [0. 1.]]},\n",
       " TensorConstant{[[-0.32907..03037933]]},\n",
       " TensorConstant{[[1. 0.]\n",
       "  [0. 1.]]},\n",
       " Constant{1},\n",
       " TensorConstant{[[1. 0.]\n",
       "  [0. 1.]]},\n",
       " TensorConstant{[[1. 0.]\n",
       "  [0. 1.]]},\n",
       " Constant{100},\n",
       " TensorConstant{[]}]"
      ]
     },
     "execution_count": 30,
     "metadata": {},
     "output_type": "execute_result"
    }
   ],
   "source": [
    "inputs([model.logpt])"
   ]
  }
 ],
 "metadata": {
  "kernelspec": {
   "display_name": "Python 3",
   "language": "python",
   "name": "python3"
  },
  "language_info": {
   "codemirror_mode": {
    "name": "ipython",
    "version": 3
   },
   "file_extension": ".py",
   "mimetype": "text/x-python",
   "name": "python",
   "nbconvert_exporter": "python",
   "pygments_lexer": "ipython3",
   "version": "3.5.1"
  }
 },
 "nbformat": 4,
 "nbformat_minor": 2
}
