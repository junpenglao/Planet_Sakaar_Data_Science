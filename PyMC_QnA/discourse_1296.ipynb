{
 "cells": [
  {
   "cell_type": "markdown",
   "metadata": {},
   "source": [
    "https://discourse.pymc.io/t/nan-occured-in-optimization-in-a-vonmises-mixture-model/1296"
   ]
  },
  {
   "cell_type": "code",
   "execution_count": 1,
   "metadata": {},
   "outputs": [
    {
     "name": "stderr",
     "output_type": "stream",
     "text": [
      "/usr/local/lib/python3.5/dist-packages/h5py/__init__.py:36: FutureWarning: Conversion of the second argument of issubdtype from `float` to `np.floating` is deprecated. In future, it will be treated as `np.float64 == np.dtype(float).type`.\n",
      "  from ._conv import register_converters as _register_converters\n"
     ]
    }
   ],
   "source": [
    "%pylab inline\n",
    "\n",
    "import pymc3 as pm\n",
    "import pymc3.distributions.transforms as tr"
   ]
  },
  {
   "cell_type": "code",
   "execution_count": 2,
   "metadata": {},
   "outputs": [
    {
     "name": "stderr",
     "output_type": "stream",
     "text": [
      "Average Loss = 0.76491:  34%|███▎      | 3362/10000 [00:01<00:02, 2705.00it/s]\n"
     ]
    },
    {
     "ename": "FloatingPointError",
     "evalue": "NaN occurred in optimization. \nThe current approximation of RV `w_stickbreaking__`.ravel()[0] is NaN.\nTry tracking this parameter: http://docs.pymc.io/notebooks/variational_api_quickstart.html#Tracking-parameters",
     "output_type": "error",
     "traceback": [
      "\u001b[0;31m---------------------------------------------------------------------------\u001b[0m",
      "\u001b[0;31mFloatingPointError\u001b[0m                        Traceback (most recent call last)",
      "\u001b[0;32m<ipython-input-2-d87181d4c27e>\u001b[0m in \u001b[0;36m<module>\u001b[0;34m()\u001b[0m\n\u001b[1;32m      7\u001b[0m     \u001b[0mvm\u001b[0m \u001b[0;34m=\u001b[0m \u001b[0mpm\u001b[0m\u001b[0;34m.\u001b[0m\u001b[0mMixture\u001b[0m\u001b[0;34m(\u001b[0m\u001b[0;34m'vm'\u001b[0m\u001b[0;34m,\u001b[0m \u001b[0mw\u001b[0m\u001b[0;34m,\u001b[0m \u001b[0mvm_comps\u001b[0m\u001b[0;34m)\u001b[0m\u001b[0;34m\u001b[0m\u001b[0m\n\u001b[1;32m      8\u001b[0m \u001b[0;34m\u001b[0m\u001b[0m\n\u001b[0;32m----> 9\u001b[0;31m     \u001b[0mapprox\u001b[0m \u001b[0;34m=\u001b[0m \u001b[0mpm\u001b[0m\u001b[0;34m.\u001b[0m\u001b[0mfit\u001b[0m\u001b[0;34m(\u001b[0m\u001b[0mobj_optimizer\u001b[0m\u001b[0;34m=\u001b[0m\u001b[0mpm\u001b[0m\u001b[0;34m.\u001b[0m\u001b[0madagrad_window\u001b[0m\u001b[0;34m(\u001b[0m\u001b[0mlearning_rate\u001b[0m\u001b[0;34m=\u001b[0m\u001b[0;36m1e-3\u001b[0m\u001b[0;34m)\u001b[0m\u001b[0;34m)\u001b[0m\u001b[0;34m\u001b[0m\u001b[0m\n\u001b[0m",
      "\u001b[0;32m~/Documents/Github/pymc3/pymc3/variational/inference.py\u001b[0m in \u001b[0;36mfit\u001b[0;34m(n, local_rv, method, model, random_seed, start, inf_kwargs, **kwargs)\u001b[0m\n\u001b[1;32m    786\u001b[0m                         \u001b[0;34m'or Inference instance'\u001b[0m \u001b[0;34m%\u001b[0m\u001b[0;34m\u001b[0m\u001b[0m\n\u001b[1;32m    787\u001b[0m                         set(_select.keys()))\n\u001b[0;32m--> 788\u001b[0;31m     \u001b[0;32mreturn\u001b[0m \u001b[0minference\u001b[0m\u001b[0;34m.\u001b[0m\u001b[0mfit\u001b[0m\u001b[0;34m(\u001b[0m\u001b[0mn\u001b[0m\u001b[0;34m,\u001b[0m \u001b[0;34m**\u001b[0m\u001b[0mkwargs\u001b[0m\u001b[0;34m)\u001b[0m\u001b[0;34m\u001b[0m\u001b[0m\n\u001b[0m",
      "\u001b[0;32m~/Documents/Github/pymc3/pymc3/variational/inference.py\u001b[0m in \u001b[0;36mfit\u001b[0;34m(self, n, score, callbacks, progressbar, **kwargs)\u001b[0m\n\u001b[1;32m    133\u001b[0m         \u001b[0;32mwith\u001b[0m \u001b[0mtqdm\u001b[0m\u001b[0;34m.\u001b[0m\u001b[0mtrange\u001b[0m\u001b[0;34m(\u001b[0m\u001b[0mn\u001b[0m\u001b[0;34m,\u001b[0m \u001b[0mdisable\u001b[0m\u001b[0;34m=\u001b[0m\u001b[0;32mnot\u001b[0m \u001b[0mprogressbar\u001b[0m\u001b[0;34m)\u001b[0m \u001b[0;32mas\u001b[0m \u001b[0mprogress\u001b[0m\u001b[0;34m:\u001b[0m\u001b[0;34m\u001b[0m\u001b[0m\n\u001b[1;32m    134\u001b[0m             \u001b[0;32mif\u001b[0m \u001b[0mscore\u001b[0m\u001b[0;34m:\u001b[0m\u001b[0;34m\u001b[0m\u001b[0m\n\u001b[0;32m--> 135\u001b[0;31m                 \u001b[0mstate\u001b[0m \u001b[0;34m=\u001b[0m \u001b[0mself\u001b[0m\u001b[0;34m.\u001b[0m\u001b[0m_iterate_with_loss\u001b[0m\u001b[0;34m(\u001b[0m\u001b[0;36m0\u001b[0m\u001b[0;34m,\u001b[0m \u001b[0mn\u001b[0m\u001b[0;34m,\u001b[0m \u001b[0mstep_func\u001b[0m\u001b[0;34m,\u001b[0m \u001b[0mprogress\u001b[0m\u001b[0;34m,\u001b[0m \u001b[0mcallbacks\u001b[0m\u001b[0;34m)\u001b[0m\u001b[0;34m\u001b[0m\u001b[0m\n\u001b[0m\u001b[1;32m    136\u001b[0m             \u001b[0;32melse\u001b[0m\u001b[0;34m:\u001b[0m\u001b[0;34m\u001b[0m\u001b[0m\n\u001b[1;32m    137\u001b[0m                 \u001b[0mstate\u001b[0m \u001b[0;34m=\u001b[0m \u001b[0mself\u001b[0m\u001b[0;34m.\u001b[0m\u001b[0m_iterate_without_loss\u001b[0m\u001b[0;34m(\u001b[0m\u001b[0;36m0\u001b[0m\u001b[0;34m,\u001b[0m \u001b[0mn\u001b[0m\u001b[0;34m,\u001b[0m \u001b[0mstep_func\u001b[0m\u001b[0;34m,\u001b[0m \u001b[0mprogress\u001b[0m\u001b[0;34m,\u001b[0m \u001b[0mcallbacks\u001b[0m\u001b[0;34m)\u001b[0m\u001b[0;34m\u001b[0m\u001b[0m\n",
      "\u001b[0;32m~/Documents/Github/pymc3/pymc3/variational/inference.py\u001b[0m in \u001b[0;36m_iterate_with_loss\u001b[0;34m(self, s, n, step_func, progress, callbacks)\u001b[0m\n\u001b[1;32m    211\u001b[0m                                       ' is NaN.'.format(*name_slc[ii]))\n\u001b[1;32m    212\u001b[0m                     \u001b[0merrmsg\u001b[0m\u001b[0;34m.\u001b[0m\u001b[0mappend\u001b[0m\u001b[0;34m(\u001b[0m\u001b[0msuggest_solution\u001b[0m\u001b[0;34m)\u001b[0m\u001b[0;34m\u001b[0m\u001b[0m\n\u001b[0;32m--> 213\u001b[0;31m                     \u001b[0;32mraise\u001b[0m \u001b[0mFloatingPointError\u001b[0m\u001b[0;34m(\u001b[0m\u001b[0;34m'\\n'\u001b[0m\u001b[0;34m.\u001b[0m\u001b[0mjoin\u001b[0m\u001b[0;34m(\u001b[0m\u001b[0merrmsg\u001b[0m\u001b[0;34m)\u001b[0m\u001b[0;34m)\u001b[0m\u001b[0;34m\u001b[0m\u001b[0m\n\u001b[0m\u001b[1;32m    214\u001b[0m                 \u001b[0mscores\u001b[0m\u001b[0;34m[\u001b[0m\u001b[0mi\u001b[0m\u001b[0;34m]\u001b[0m \u001b[0;34m=\u001b[0m \u001b[0me\u001b[0m\u001b[0;34m\u001b[0m\u001b[0m\n\u001b[1;32m    215\u001b[0m                 \u001b[0;32mif\u001b[0m \u001b[0mi\u001b[0m \u001b[0;34m%\u001b[0m \u001b[0;36m10\u001b[0m \u001b[0;34m==\u001b[0m \u001b[0;36m0\u001b[0m\u001b[0;34m:\u001b[0m\u001b[0;34m\u001b[0m\u001b[0m\n",
      "\u001b[0;31mFloatingPointError\u001b[0m: NaN occurred in optimization. \nThe current approximation of RV `w_stickbreaking__`.ravel()[0] is NaN.\nTry tracking this parameter: http://docs.pymc.io/notebooks/variational_api_quickstart.html#Tracking-parameters"
     ]
    }
   ],
   "source": [
    "with pm.Model() as model:\n",
    "    mu_1 = pm.VonMises('mu_1', mu=0, kappa=1)\n",
    "    kappa_1 = pm.Gamma('kappa_1', 1, 1)\n",
    "    vm_1 = pm.VonMises.dist(mu=mu_1, kappa=kappa_1)\n",
    "    w = pm.Dirichlet('w', np.ones(2))\n",
    "    vm_comps = [vm_1, vm_1]\n",
    "    vm = pm.Mixture('vm', w, vm_comps)\n",
    "    \n",
    "    approx = pm.fit(obj_optimizer=pm.adagrad_window(learning_rate=1e-3))"
   ]
  },
  {
   "cell_type": "code",
   "execution_count": 3,
   "metadata": {},
   "outputs": [
    {
     "data": {
      "text/plain": [
       "kappa_1_log__       -1.00\n",
       "mu_1_circular__     -1.07\n",
       "vm                  -1.07\n",
       "w_stickbreaking__   -1.39\n",
       "Name: Log-probability of test_point, dtype: float64"
      ]
     },
     "execution_count": 3,
     "metadata": {},
     "output_type": "execute_result"
    }
   ],
   "source": [
    "model.check_test_point()"
   ]
  },
  {
   "cell_type": "code",
   "execution_count": 4,
   "metadata": {},
   "outputs": [],
   "source": [
    "with pm.Model() as model1:\n",
    "    mu_1 = pm.VonMises('mu_1', mu=0, kappa=1)\n",
    "    kappa_1 = pm.Gamma('kappa_1', 1, 1)\n",
    "    vm_1 = pm.VonMises.dist(mu=mu_1, kappa=kappa_1)\n",
    "    w = np.ones(2)*.5 # pm.Dirichlet('w', np.ones(2))\n",
    "    vm_comps = [vm_1, vm_1]\n",
    "    vm = pm.Mixture('vm', w, vm_comps, transform=tr.circular)"
   ]
  },
  {
   "cell_type": "code",
   "execution_count": 5,
   "metadata": {},
   "outputs": [
    {
     "name": "stderr",
     "output_type": "stream",
     "text": [
      "Average Loss = 0.29266: 100%|██████████| 10000/10000 [00:02<00:00, 3371.16it/s]\n",
      "Finished [100%]: Average Loss = 0.28407\n"
     ]
    }
   ],
   "source": [
    "with model1:\n",
    "    approx = pm.fit(obj_optimizer=pm.adagrad_window(learning_rate=1e-3))"
   ]
  },
  {
   "cell_type": "code",
   "execution_count": 6,
   "metadata": {},
   "outputs": [],
   "source": [
    "with pm.Model() as model2:\n",
    "    mu_1 = pm.VonMises('mu_1', mu=0, kappa=1)\n",
    "    kappa_1 = pm.Gamma('kappa_1', 1, 1)\n",
    "    vm_1 = pm.VonMises('vm_1', mu=mu_1, kappa=kappa_1)"
   ]
  },
  {
   "cell_type": "code",
   "execution_count": 7,
   "metadata": {},
   "outputs": [
    {
     "name": "stderr",
     "output_type": "stream",
     "text": [
      "Average Loss = 0.30454: 100%|██████████| 10000/10000 [00:02<00:00, 3710.58it/s]\n",
      "Finished [100%]: Average Loss = 0.29964\n"
     ]
    }
   ],
   "source": [
    "with model2:\n",
    "    approx = pm.fit(obj_optimizer=pm.adagrad_window(learning_rate=1e-3))"
   ]
  },
  {
   "cell_type": "code",
   "execution_count": 12,
   "metadata": {},
   "outputs": [
    {
     "name": "stderr",
     "output_type": "stream",
     "text": [
      "Average Loss = -6.2384: 100%|██████████| 100000/100000 [02:27<00:00, 678.84it/s] \n",
      "Finished [100%]: Average Loss = -6.2392\n"
     ]
    }
   ],
   "source": [
    "with pm.Model() as model_:\n",
    "    mu_1 = pm.VonMises('mu_1', mu=0, kappa=1)\n",
    "    kappa_1 = pm.Gamma('kappa_1', 1, 1)\n",
    "    vm_1 = pm.VonMises.dist(mu=mu_1, kappa=kappa_1)\n",
    "    w = pm.Dirichlet('w', np.ones(2))\n",
    "    vm_comps = [vm_1, vm_1]\n",
    "    vm = pm.Mixture('vm', w, vm_comps, transform=tr.circular)\n",
    "    approx = pm.fit(100000, obj_n_mc=10, \n",
    "                   obj_optimizer=pm.adagrad_window(learning_rate=1e-2)\n",
    "                   )"
   ]
  },
  {
   "cell_type": "code",
   "execution_count": 13,
   "metadata": {},
   "outputs": [
    {
     "data": {
      "image/png": "[encoded data removed]",
      "text/plain": [
       "<Figure size 432x288 with 1 Axes>"
      ]
     },
     "metadata": {},
     "output_type": "display_data"
    }
   ],
   "source": [
    "plt.plot(approx.hist);"
   ]
  },
  {
   "cell_type": "code",
   "execution_count": null,
   "metadata": {},
   "outputs": [],
   "source": []
  }
 ],
 "metadata": {
  "kernelspec": {
   "display_name": "Python 3",
   "language": "python",
   "name": "python3"
  },
  "language_info": {
   "codemirror_mode": {
    "name": "ipython",
    "version": 3
   },
   "file_extension": ".py",
   "mimetype": "text/x-python",
   "name": "python",
   "nbconvert_exporter": "python",
   "pygments_lexer": "ipython3",
   "version": "3.5.2"
  }
 },
 "nbformat": 4,
 "nbformat_minor": 2
}
