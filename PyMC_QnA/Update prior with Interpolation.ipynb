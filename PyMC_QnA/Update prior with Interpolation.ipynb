{
 "cells": [
  {
   "cell_type": "markdown",
   "metadata": {},
   "source": [
    "https://discourse.pymc.io/t/data-aggregation-in-crowdsensing-application/1072/18"
   ]
  },
  {
   "cell_type": "code",
   "execution_count": 1,
   "metadata": {},
   "outputs": [
    {
     "name": "stderr",
     "output_type": "stream",
     "text": [
      "/Library/Frameworks/Python.framework/Versions/3.5/lib/python3.5/site-packages/h5py/__init__.py:36: FutureWarning: Conversion of the second argument of issubdtype from `float` to `np.floating` is deprecated. In future, it will be treated as `np.float64 == np.dtype(float).type`.\n",
      "  from ._conv import register_converters as _register_converters\n"
     ]
    }
   ],
   "source": [
    "import numpy as np\n",
    "import matplotlib.pyplot as plt\n",
    "import pymc3 as pm\n",
    "from pymc3.distributions import Interpolated\n",
    "from scipy import stats\n",
    "\n",
    "\n",
    "def from_posterior(param, samples):\n",
    "    smin, smax = np.min(samples), np.max(samples)\n",
    "    width = smax - smin\n",
    "    x = np.linspace(smin, smax, 100)\n",
    "    y = stats.gaussian_kde(samples)(x)\n",
    "\n",
    "    x = np.concatenate([[x[0] - 3 * width], x, [x[-1] + 3 * width]])\n",
    "    y = np.concatenate([[0], y, [0]])\n",
    "    return Interpolated(param, x, y)"
   ]
  },
  {
   "cell_type": "code",
   "execution_count": 17,
   "metadata": {},
   "outputs": [],
   "source": [
    "# Initialize random number generator\n",
    "np.random.seed(123)\n",
    "\n",
    "# Target values\n",
    "t = [38.095, 13.346, 30.106, 13.353]\n",
    "\n",
    "# Users' precision in term of sigma\n",
    "s = [0.01, 0.05, 0.03, 0.12]\n",
    "\n",
    "# Number of measures for each target\n",
    "n_measures = 10\n",
    "\n",
    "# Simulate some data\n",
    "measures = []\n",
    "for i in range(0, 4):\n",
    "    y1 = t[i] + np.random.randn(n_measures) * s[0]\n",
    "    y2 = t[i] + np.random.randn(n_measures) * s[1]\n",
    "    y3 = t[i] + np.random.randn(n_measures) * s[2]\n",
    "    y4 = t[i] + np.random.randn(n_measures) * s[3]\n",
    "    x = np.array([y1, y2, y3, y4])\n",
    "    measures.append(x)"
   ]
  },
  {
   "cell_type": "code",
   "execution_count": 18,
   "metadata": {},
   "outputs": [
    {
     "name": "stderr",
     "output_type": "stream",
     "text": [
      "Auto-assigning NUTS sampler...\n",
      "Initializing NUTS using jitter+adapt_diag...\n",
      "Multiprocess sampling (2 chains in 2 jobs)\n",
      "NUTS: [sigma4_log__, sigma3_log__, sigma2_log__, sigma1_log__, rho_log__, mu]\n",
      "100%|██████████| 1500/1500 [00:23<00:00, 64.08it/s] \n",
      "The acceptance probability does not match the target. It is 0.9522403790083452, but should be close to 0.8. Try to increase the number of tuning steps.\n",
      "The acceptance probability does not match the target. It is 0.9583093119784403, but should be close to 0.8. Try to increase the number of tuning steps.\n"
     ]
    }
   ],
   "source": [
    "with pm.Model() as hierachical_model:\n",
    "    # Latent mean and sigma, I want to estimate these parameters\n",
    "    mu = pm.Normal('mu', 0., 100.)\n",
    "    rho = pm.HalfNormal('rho', 10.)\n",
    "\n",
    "    sigma1 = pm.HalfNormal('sigma1', rho)\n",
    "    sigma2 = pm.HalfNormal('sigma2', rho)\n",
    "    sigma3 = pm.HalfNormal('sigma3', rho)\n",
    "    sigma4 = pm.HalfNormal('sigma4', rho)\n",
    "\n",
    "    like1 = pm.Normal('like1', mu, sigma1, observed=measures[0][0])\n",
    "    like2 = pm.Normal('like2', mu, sigma2, observed=measures[0][1])\n",
    "    like3 = pm.Normal('like3', mu, sigma3, observed=measures[0][2])\n",
    "    like4 = pm.Normal('like4', mu, sigma4, observed=measures[0][3])\n",
    "\n",
    "    trace = pm.sample(1000)"
   ]
  },
  {
   "cell_type": "code",
   "execution_count": 19,
   "metadata": {
    "scrolled": false
   },
   "outputs": [
    {
     "name": "stderr",
     "output_type": "stream",
     "text": [
      "Auto-assigning NUTS sampler...\n",
      "Initializing NUTS using adapt_diag...\n",
      "Multiprocess sampling (2 chains in 2 jobs)\n",
      "NUTS: [sigma4_interval__, sigma3_interval__, sigma2_interval__, sigma1_interval__, mu]\n",
      "100%|██████████| 1500/1500 [01:18<00:00, 27.55it/s]\n",
      "The acceptance probability does not match the target. It is 0.9779216336696305, but should be close to 0.8. Try to increase the number of tuning steps.\n",
      "The acceptance probability does not match the target. It is 0.9844412091908469, but should be close to 0.8. Try to increase the number of tuning steps.\n",
      "The estimated number of effective samples is smaller than 200 for some parameters.\n",
      "Auto-assigning NUTS sampler...\n",
      "Initializing NUTS using adapt_diag...\n",
      "Multiprocess sampling (2 chains in 2 jobs)\n",
      "NUTS: [sigma4_interval__, sigma3_interval__, sigma2_interval__, sigma1_interval__, mu]\n",
      "100%|██████████| 1500/1500 [04:07<00:00,  2.73it/s]\n",
      "The acceptance probability does not match the target. It is 0.9997121841109345, but should be close to 0.8. Try to increase the number of tuning steps.\n",
      "The chain reached the maximum tree depth. Increase max_treedepth, increase target_accept or reparameterize.\n",
      "The acceptance probability does not match the target. It is 0.9999765663758933, but should be close to 0.8. Try to increase the number of tuning steps.\n",
      "The chain reached the maximum tree depth. Increase max_treedepth, increase target_accept or reparameterize.\n",
      "The gelman-rubin statistic is larger than 1.4 for some parameters. The sampler did not converge.\n",
      "The estimated number of effective samples is smaller than 200 for some parameters.\n",
      "Auto-assigning NUTS sampler...\n",
      "Initializing NUTS using adapt_diag...\n",
      "Multiprocess sampling (2 chains in 2 jobs)\n",
      "NUTS: [sigma4_interval__, sigma3_interval__, sigma2_interval__, sigma1_interval__, mu]\n",
      "100%|██████████| 1500/1500 [00:50<00:00, 29.76it/s]\n",
      "The number of effective samples is smaller than 25% for some parameters.\n"
     ]
    }
   ],
   "source": [
    "for j in range(1,4):\n",
    "\n",
    "    with pm.Model() as model:\n",
    "        # Latent mean and sigma, I want to estimate these parameters\n",
    "        mu = pm.Normal('mu', 0., 100.)\n",
    "\n",
    "        # Priors are posteriors from previous iteration\n",
    "        sigma1 = from_posterior('sigma1', trace['sigma1'])\n",
    "        sigma2 = from_posterior('sigma2', trace['sigma2'])\n",
    "        sigma3 = from_posterior('sigma3', trace['sigma3'])\n",
    "        sigma4 = from_posterior('sigma4', trace['sigma4'])\n",
    "    \n",
    "        like1 = pm.Normal('like1', mu, sigma1, observed=measures[j][0])\n",
    "        like2 = pm.Normal('like2', mu, sigma2, observed=measures[j][1])\n",
    "        like3 = pm.Normal('like3', mu, sigma3, observed=measures[j][2])\n",
    "        like4 = pm.Normal('like4', mu, sigma4, observed=measures[j][3])\n",
    "        \n",
    "        trace = pm.sample(1000, init='adapt_diag')"
   ]
  },
  {
   "cell_type": "markdown",
   "metadata": {},
   "source": [
    "https://discourse.pymc.io/t/performance-speedup-for-updating-posterior-with-new-data/1097"
   ]
  },
  {
   "cell_type": "code",
   "execution_count": 1,
   "metadata": {},
   "outputs": [
    {
     "name": "stderr",
     "output_type": "stream",
     "text": [
      "/usr/local/lib/python3.5/dist-packages/h5py/__init__.py:36: FutureWarning: Conversion of the second argument of issubdtype from `float` to `np.floating` is deprecated. In future, it will be treated as `np.float64 == np.dtype(float).type`.\n",
      "  from ._conv import register_converters as _register_converters\n"
     ]
    }
   ],
   "source": [
    "import matplotlib.pyplot as plt\n",
    "import numpy as np\n",
    "import pandas as pd\n",
    "import matplotlib as mpl\n",
    "from io import BytesIO\n",
    "import pymc3 as pm\n",
    "from pymc3.distributions import Interpolated\n",
    "import theano\n",
    "from scipy import stats"
   ]
  },
  {
   "cell_type": "code",
   "execution_count": 2,
   "metadata": {},
   "outputs": [],
   "source": [
    "def plot_traces(trcs, varnames=None):\n",
    "    '''Plot traces with overlaid means and values'''\n",
    "\n",
    "    nrows = len(trcs.varnames)\n",
    "    if varnames is not None:\n",
    "        nrows = len(varnames)\n",
    "\n",
    "    ax = pm.traceplot(trcs, varnames=varnames, figsize=(12, nrows * 1.4),\n",
    "                      lines={k: v['mean'] for k, v in\n",
    "                             pm.df_summary(trcs, varnames=varnames).iterrows()})\n",
    "\n",
    "    for i, mn in enumerate(pm.df_summary(trcs, varnames=varnames)['mean']):\n",
    "        ax[i, 0].annotate('{:.2f}'.format(mn), xy=(mn, 0), xycoords='data',\n",
    "                          xytext=(5, 10), textcoords='offset points', rotation=90,\n",
    "                          va='bottom', fontsize='large', color='#AA0022')\n",
    "\n",
    "\n",
    "def strip_derived_rvs(rvs):\n",
    "    '''Remove PyMC3-generated RVs from a list'''\n",
    "\n",
    "    ret_rvs = []\n",
    "    for rv in rvs:\n",
    "        if not (re.search('_log', rv.name) or re.search('_interval', rv.name)):\n",
    "            ret_rvs.append(rv)\n",
    "    return ret_rvs\n",
    "\n",
    "\n",
    "def generate_data():\n",
    "    intercept = 2\n",
    "    x1 = np.random.random_sample(1)[0]\n",
    "    true_coeff = -2\n",
    "    theta = np.exp(intercept + true_coeff * x1)\n",
    "    output = np.random.poisson(theta)\n",
    "\n",
    "    return {'intercept': intercept, 'x1': x1, 'true_coeff': true_coeff, 'output': output, 'theta': theta}"
   ]
  },
  {
   "cell_type": "code",
   "execution_count": 3,
   "metadata": {},
   "outputs": [
    {
     "name": "stderr",
     "output_type": "stream",
     "text": [
      "Auto-assigning NUTS sampler...\n",
      "Initializing NUTS using jitter+adapt_diag...\n",
      "Multiprocess sampling (4 chains in 4 jobs)\n",
      "NUTS: [alpha_1, alpha_0]\n",
      "100%|██████████| 1500/1500 [00:01<00:00, 1098.19it/s]\n",
      "INFO (theano.gof.compilelock): Waiting for existing lock by process '15545' (I am process '15546')\n",
      "INFO (theano.gof.compilelock): To manually release the lock, delete /home/laoj/.theano/compiledir_Linux-4.4--generic-x86_64-with-Ubuntu-16.04-xenial-x86_64-3.5.2-64/lock_dir\n",
      "INFO (theano.gof.compilelock): Waiting for existing lock by process '15545' (I am process '15547')\n",
      "INFO (theano.gof.compilelock): To manually release the lock, delete /home/laoj/.theano/compiledir_Linux-4.4--generic-x86_64-with-Ubuntu-16.04-xenial-x86_64-3.5.2-64/lock_dir\n",
      "INFO (theano.gof.compilelock): Waiting for existing lock by process '15546' (I am process '15547')\n",
      "INFO (theano.gof.compilelock): To manually release the lock, delete /home/laoj/.theano/compiledir_Linux-4.4--generic-x86_64-with-Ubuntu-16.04-xenial-x86_64-3.5.2-64/lock_dir\n"
     ]
    }
   ],
   "source": [
    "train = pd.DataFrame(data=[generate_data() for _ in range(100)], columns=generate_data().keys())\n",
    "\n",
    "output_shared = theano.shared(train['output'].values)\n",
    "x1_shared = theano.shared(train['x1'].values)\n",
    "\n",
    "with pm.Model() as model:\n",
    "    alpha_0 = pm.Normal('alpha_0', mu=0, sd=10)\n",
    "    alpha_1 = pm.Normal('alpha_1', mu=-1, sd=0.5)\n",
    "    theta = (alpha_0 + alpha_1 * x1_shared)\n",
    "\n",
    "    likelihood = pm.Poisson(\n",
    "        'output',\n",
    "        mu=np.exp(theta),\n",
    "        observed=output_shared,\n",
    "    )\n",
    "    trace = pm.sample(1000)"
   ]
  },
  {
   "cell_type": "code",
   "execution_count": 4,
   "metadata": {},
   "outputs": [],
   "source": [
    "traces = [trace]"
   ]
  },
  {
   "cell_type": "code",
   "execution_count": 5,
   "metadata": {},
   "outputs": [],
   "source": [
    "def from_posterior(param, samples):\n",
    "    smin, smax = np.min(samples), np.max(samples)\n",
    "    width = smax - smin\n",
    "    x = np.linspace(smin, smax, 100)\n",
    "    y = stats.gaussian_kde(samples)(x)\n",
    "    # what was never sampled should have a small probability but not 0,\n",
    "    # so we'll extend the domain and use linear approximation of density on it\n",
    "    x = np.concatenate([[x[0] - 3 * width], x, [x[-1] + 3 * width]])\n",
    "    y = np.concatenate([[0], y, [0]])\n",
    "    return Interpolated(param, x, y)"
   ]
  },
  {
   "cell_type": "code",
   "execution_count": 6,
   "metadata": {},
   "outputs": [
    {
     "name": "stderr",
     "output_type": "stream",
     "text": [
      "Auto-assigning NUTS sampler...\n",
      "Initializing NUTS using adapt_diag...\n",
      "Multiprocess sampling (2 chains in 4 jobs)\n",
      "NUTS: [alpha_1_interval__, alpha_0_interval__]\n",
      "The estimated number of effective samples is smaller than 200 for some parameters.\n",
      "Auto-assigning NUTS sampler...\n",
      "Initializing NUTS using adapt_diag...\n",
      "Multiprocess sampling (2 chains in 4 jobs)\n",
      "NUTS: [alpha_1_interval__, alpha_0_interval__]\n",
      "The acceptance probability does not match the target. It is 0.8854694067622199, but should be close to 0.8. Try to increase the number of tuning steps.\n",
      "The acceptance probability does not match the target. It is 0.8816462965445194, but should be close to 0.8. Try to increase the number of tuning steps.\n",
      "The estimated number of effective samples is smaller than 200 for some parameters.\n",
      "Auto-assigning NUTS sampler...\n",
      "Initializing NUTS using adapt_diag...\n",
      "Multiprocess sampling (2 chains in 4 jobs)\n",
      "NUTS: [alpha_1_interval__, alpha_0_interval__]\n",
      "The estimated number of effective samples is smaller than 200 for some parameters.\n",
      "Auto-assigning NUTS sampler...\n",
      "Initializing NUTS using adapt_diag...\n",
      "Multiprocess sampling (2 chains in 4 jobs)\n",
      "NUTS: [alpha_1_interval__, alpha_0_interval__]\n",
      "There were 1 divergences after tuning. Increase `target_accept` or reparameterize.\n",
      "The number of effective samples is smaller than 25% for some parameters.\n",
      "Auto-assigning NUTS sampler...\n",
      "Initializing NUTS using adapt_diag...\n",
      "Multiprocess sampling (2 chains in 4 jobs)\n",
      "NUTS: [alpha_1_interval__, alpha_0_interval__]\n",
      "Auto-assigning NUTS sampler...\n",
      "Initializing NUTS using adapt_diag...\n",
      "Multiprocess sampling (2 chains in 4 jobs)\n",
      "NUTS: [alpha_1_interval__, alpha_0_interval__]\n",
      "Auto-assigning NUTS sampler...\n",
      "Initializing NUTS using adapt_diag...\n",
      "Multiprocess sampling (2 chains in 4 jobs)\n",
      "NUTS: [alpha_1_interval__, alpha_0_interval__]\n",
      "The acceptance probability does not match the target. It is 0.8814239795348761, but should be close to 0.8. Try to increase the number of tuning steps.\n",
      "The estimated number of effective samples is smaller than 200 for some parameters.\n",
      "Auto-assigning NUTS sampler...\n",
      "Initializing NUTS using adapt_diag...\n",
      "Multiprocess sampling (2 chains in 4 jobs)\n",
      "NUTS: [alpha_1_interval__, alpha_0_interval__]\n",
      "Auto-assigning NUTS sampler...\n",
      "Initializing NUTS using adapt_diag...\n",
      "Multiprocess sampling (2 chains in 4 jobs)\n",
      "NUTS: [alpha_1_interval__, alpha_0_interval__]\n",
      "Auto-assigning NUTS sampler...\n",
      "Initializing NUTS using adapt_diag...\n",
      "Multiprocess sampling (2 chains in 4 jobs)\n",
      "NUTS: [alpha_1_interval__, alpha_0_interval__]\n",
      "The estimated number of effective samples is smaller than 200 for some parameters.\n"
     ]
    }
   ],
   "source": [
    "for _ in range(10):\n",
    "    new_data = pd.DataFrame(data=[generate_data() for _ in range(1)], columns=generate_data().keys())\n",
    "    output_shared = theano.shared(new_data['output'].values)\n",
    "    x1_shared = theano.shared(new_data['x1'].values)\n",
    "\n",
    "    model = pm.Model()\n",
    "    with model:\n",
    "        # pm.glm.GLM.from_formula(formula=fml, data=new_data, family=pm.glm.families.NegativeBinomial())\n",
    "        alpha_0 = from_posterior('alpha_0', trace['alpha_0'])\n",
    "        alpha_1 = from_posterior('alpha_1', trace['alpha_1'])\n",
    "        theta = (alpha_0 + alpha_1 * x1_shared)\n",
    "\n",
    "        likelihood = pm.Poisson('output',\n",
    "                                mu=np.exp(theta),\n",
    "                                observed=output_shared\n",
    "                                )\n",
    "        trace = pm.sample(1000, init='adapt_diag', chains=2, cores=4, progressbar=False)\n",
    "        traces.append(trace)"
   ]
  },
  {
   "cell_type": "code",
   "execution_count": 7,
   "metadata": {},
   "outputs": [
    {
     "data": {
      "image/png": "[encoded data removed]",
      "text/plain": [
       "<matplotlib.figure.Figure at 0x7fe55e010e80>"
      ]
     },
     "metadata": {},
     "output_type": "display_data"
    }
   ],
   "source": [
    "cmap = mpl.cm.autumn\n",
    "\n",
    "for param in ['alpha_1']:\n",
    "    for update_i, trace in enumerate(traces):\n",
    "        samples = trace[param]\n",
    "        smin, smax = np.min(samples), np.max(samples)\n",
    "        x = np.linspace(smin, smax, 100)\n",
    "        y = stats.gaussian_kde(samples)(x)\n",
    "        plt.plot(x, y, color=cmap(1 - update_i / len(traces)))\n",
    "    plt.axvline({'alpha_1': -2}[param], c='k')\n",
    "    plt.ylabel('Frequency')\n",
    "    plt.title(param)\n",
    "    plt.show()"
   ]
  },
  {
   "cell_type": "code",
   "execution_count": 12,
   "metadata": {},
   "outputs": [
    {
     "name": "stderr",
     "output_type": "stream",
     "text": [
      "Auto-assigning NUTS sampler...\n",
      "Initializing NUTS using jitter+adapt_diag...\n",
      "Multiprocess sampling (4 chains in 4 jobs)\n",
      "NUTS: [alpha_1, alpha_0]\n",
      "100%|██████████| 1500/1500 [00:01<00:00, 1276.10it/s]\n",
      "The number of effective samples is smaller than 25% for some parameters.\n"
     ]
    }
   ],
   "source": [
    "train = pd.DataFrame(data=[generate_data() for _ in range(100)], columns=generate_data().keys())\n",
    "\n",
    "output_shared = theano.shared(train['output'].values)\n",
    "x1_shared = theano.shared(train['x1'].values)\n",
    "\n",
    "with pm.Model() as model:\n",
    "    alpha_0 = pm.Normal('alpha_0', mu=0, sd=10)\n",
    "    alpha_1 = pm.Normal('alpha_1', mu=-1, sd=0.5)\n",
    "    theta = (alpha_0 + alpha_1 * x1_shared)\n",
    "\n",
    "    likelihood = pm.Poisson(\n",
    "        'output',\n",
    "        mu=np.exp(theta),\n",
    "        observed=output_shared,\n",
    "    )\n",
    "    trace = pm.sample(1000)\n",
    "traces = [trace]"
   ]
  },
  {
   "cell_type": "code",
   "execution_count": 13,
   "metadata": {
    "scrolled": false
   },
   "outputs": [
    {
     "name": "stderr",
     "output_type": "stream",
     "text": [
      "Auto-assigning NUTS sampler...\n",
      "Initializing NUTS using jitter+adapt_diag...\n",
      "Multiprocess sampling (4 chains in 4 jobs)\n",
      "NUTS: [alpha_1, alpha_0]\n",
      "100%|██████████| 1500/1500 [00:00<00:00, 1764.37it/s]\n",
      "Auto-assigning NUTS sampler...\n",
      "Initializing NUTS using jitter+adapt_diag...\n",
      "Multiprocess sampling (4 chains in 4 jobs)\n",
      "NUTS: [alpha_1, alpha_0]\n",
      "100%|██████████| 1500/1500 [00:00<00:00, 1635.03it/s]\n",
      "The acceptance probability does not match the target. It is 0.8813474850517268, but should be close to 0.8. Try to increase the number of tuning steps.\n",
      "Auto-assigning NUTS sampler...\n",
      "Initializing NUTS using jitter+adapt_diag...\n",
      "Multiprocess sampling (4 chains in 4 jobs)\n",
      "NUTS: [alpha_1, alpha_0]\n",
      "100%|██████████| 1500/1500 [00:00<00:00, 1732.70it/s]\n",
      "The acceptance probability does not match the target. It is 0.8799913249954173, but should be close to 0.8. Try to increase the number of tuning steps.\n",
      "Auto-assigning NUTS sampler...\n",
      "Initializing NUTS using jitter+adapt_diag...\n",
      "Multiprocess sampling (4 chains in 4 jobs)\n",
      "NUTS: [alpha_1, alpha_0]\n",
      "100%|██████████| 1500/1500 [00:00<00:00, 1682.68it/s]\n",
      "The acceptance probability does not match the target. It is 0.8920101226860994, but should be close to 0.8. Try to increase the number of tuning steps.\n",
      "Auto-assigning NUTS sampler...\n",
      "Initializing NUTS using jitter+adapt_diag...\n",
      "Multiprocess sampling (4 chains in 4 jobs)\n",
      "NUTS: [alpha_1, alpha_0]\n",
      "100%|██████████| 1500/1500 [00:00<00:00, 1610.99it/s]\n",
      "Auto-assigning NUTS sampler...\n",
      "Initializing NUTS using jitter+adapt_diag...\n",
      "Multiprocess sampling (4 chains in 4 jobs)\n",
      "NUTS: [alpha_1, alpha_0]\n",
      "100%|██████████| 1500/1500 [00:00<00:00, 1639.00it/s]\n",
      "Auto-assigning NUTS sampler...\n",
      "Initializing NUTS using jitter+adapt_diag...\n",
      "Multiprocess sampling (4 chains in 4 jobs)\n",
      "NUTS: [alpha_1, alpha_0]\n",
      "100%|██████████| 1500/1500 [00:00<00:00, 1720.63it/s]\n",
      "Auto-assigning NUTS sampler...\n",
      "Initializing NUTS using jitter+adapt_diag...\n",
      "Multiprocess sampling (4 chains in 4 jobs)\n",
      "NUTS: [alpha_1, alpha_0]\n",
      "100%|██████████| 1500/1500 [00:00<00:00, 1814.01it/s]\n",
      "Auto-assigning NUTS sampler...\n",
      "Initializing NUTS using jitter+adapt_diag...\n",
      "Multiprocess sampling (4 chains in 4 jobs)\n",
      "NUTS: [alpha_1, alpha_0]\n",
      "100%|██████████| 1500/1500 [00:00<00:00, 1789.21it/s]\n",
      "Auto-assigning NUTS sampler...\n",
      "Initializing NUTS using jitter+adapt_diag...\n",
      "Multiprocess sampling (4 chains in 4 jobs)\n",
      "NUTS: [alpha_1, alpha_0]\n",
      "100%|██████████| 1500/1500 [00:00<00:00, 1872.58it/s]\n"
     ]
    }
   ],
   "source": [
    "new_data = pd.DataFrame(data=[generate_data() for _ in range(1)], columns=generate_data().keys())\n",
    "output_shared = theano.shared(new_data['output'].values)\n",
    "x1_shared = theano.shared(new_data['x1'].values)\n",
    "    \n",
    "mu0 = theano.shared(trace['alpha_0'].mean(), name='hyper_mu0')\n",
    "sd0 = theano.shared(trace['alpha_0'].std(), name='hyper_sd0')\n",
    "mu1 = theano.shared(trace['alpha_1'].mean(), name='hyper_mu1')\n",
    "sd1 = theano.shared(trace['alpha_1'].std(), name='hyper_sd1')\n",
    "\n",
    "with pm.Model() as update_model:\n",
    "    alpha_0 = pm.StudentT('alpha_0', mu=mu0, sd=sd0, nu=5, testval=0.)\n",
    "    alpha_1 = pm.StudentT('alpha_1', mu=mu1, sd=sd1, nu=5, testval=0.)\n",
    "    theta = (alpha_0 + alpha_1 * x1_shared)\n",
    "\n",
    "    likelihood = pm.Poisson(\n",
    "        'output',\n",
    "        mu=np.exp(theta),\n",
    "        observed=output_shared,\n",
    "    )\n",
    "    trace = pm.sample(1000)\n",
    "    traces.append(trace)\n",
    "    \n",
    "for _ in range(1, 10):\n",
    "    new_data = pd.DataFrame(data=[generate_data() for _ in range(1)], columns=generate_data().keys())\n",
    "    output_shared.set_value(new_data['output'].values)\n",
    "    x1_shared.set_value(new_data['x1'].values)\n",
    "    mu0.set_value(trace['alpha_0'].mean())\n",
    "    sd0.set_value(trace['alpha_0'].std())\n",
    "    mu1.set_value(trace['alpha_1'].mean())\n",
    "    sd1.set_value(trace['alpha_1'].std())\n",
    "    \n",
    "    with update_model:\n",
    "        trace = pm.sample(1000)\n",
    "        traces.append(trace)"
   ]
  },
  {
   "cell_type": "code",
   "execution_count": 14,
   "metadata": {},
   "outputs": [
    {
     "data": {
      "image/png": "[encoded data removed]",
      "text/plain": [
       "<matplotlib.figure.Figure at 0x7fe55b830be0>"
      ]
     },
     "metadata": {},
     "output_type": "display_data"
    }
   ],
   "source": [
    "cmap = mpl.cm.autumn\n",
    "\n",
    "for param in ['alpha_1']:\n",
    "    for update_i, trace in enumerate(traces):\n",
    "        samples = trace[param]\n",
    "        smin, smax = np.min(samples), np.max(samples)\n",
    "        x = np.linspace(smin, smax, 100)\n",
    "        y = stats.gaussian_kde(samples)(x)\n",
    "        plt.plot(x, y, color=cmap(1 - update_i / len(traces)))\n",
    "    plt.axvline({'alpha_1': -2}[param], c='k')\n",
    "    plt.ylabel('Frequency')\n",
    "    plt.xlim(-6, 2)\n",
    "    plt.title(param)\n",
    "    plt.show()"
   ]
  },
  {
   "cell_type": "code",
   "execution_count": 15,
   "metadata": {},
   "outputs": [
    {
     "data": {
      "text/html": [
       "<div>\n",
       "<style scoped>\n",
       "    .dataframe tbody tr th:only-of-type {\n",
       "        vertical-align: middle;\n",
       "    }\n",
       "\n",
       "    .dataframe tbody tr th {\n",
       "        vertical-align: top;\n",
       "    }\n",
       "\n",
       "    .dataframe thead th {\n",
       "        text-align: right;\n",
       "    }\n",
       "</style>\n",
       "<table border=\"1\" class=\"dataframe\">\n",
       "  <thead>\n",
       "    <tr style=\"text-align: right;\">\n",
       "      <th></th>\n",
       "      <th>mean</th>\n",
       "      <th>sd</th>\n",
       "      <th>mc_error</th>\n",
       "      <th>hpd_2.5</th>\n",
       "      <th>hpd_97.5</th>\n",
       "      <th>n_eff</th>\n",
       "      <th>Rhat</th>\n",
       "    </tr>\n",
       "  </thead>\n",
       "  <tbody>\n",
       "    <tr>\n",
       "      <th>alpha_0</th>\n",
       "      <td>1.770067</td>\n",
       "      <td>0.308789</td>\n",
       "      <td>0.005037</td>\n",
       "      <td>1.146387</td>\n",
       "      <td>2.343943</td>\n",
       "      <td>3041.836003</td>\n",
       "      <td>0.999759</td>\n",
       "    </tr>\n",
       "    <tr>\n",
       "      <th>alpha_1</th>\n",
       "      <td>-2.205137</td>\n",
       "      <td>0.844817</td>\n",
       "      <td>0.015880</td>\n",
       "      <td>-3.905351</td>\n",
       "      <td>-0.493144</td>\n",
       "      <td>2734.176850</td>\n",
       "      <td>0.999979</td>\n",
       "    </tr>\n",
       "  </tbody>\n",
       "</table>\n",
       "</div>"
      ],
      "text/plain": [
       "             mean        sd  mc_error   hpd_2.5  hpd_97.5        n_eff  \\\n",
       "alpha_0  1.770067  0.308789  0.005037  1.146387  2.343943  3041.836003   \n",
       "alpha_1 -2.205137  0.844817  0.015880 -3.905351 -0.493144  2734.176850   \n",
       "\n",
       "             Rhat  \n",
       "alpha_0  0.999759  \n",
       "alpha_1  0.999979  "
      ]
     },
     "execution_count": 15,
     "metadata": {},
     "output_type": "execute_result"
    }
   ],
   "source": [
    "pm.summary(trace)"
   ]
  }
 ],
 "metadata": {
  "kernelspec": {
   "display_name": "Python 3",
   "language": "python",
   "name": "python3"
  },
  "language_info": {
   "codemirror_mode": {
    "name": "ipython",
    "version": 3
   },
   "file_extension": ".py",
   "mimetype": "text/x-python",
   "name": "python",
   "nbconvert_exporter": "python",
   "pygments_lexer": "ipython3",
   "version": "3.5.2"
  }
 },
 "nbformat": 4,
 "nbformat_minor": 2
}
