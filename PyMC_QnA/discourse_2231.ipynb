{
 "cells": [
  {
   "cell_type": "code",
   "execution_count": 1,
   "metadata": {},
   "outputs": [],
   "source": [
    "import numpy as np\n",
    "import pymc3 as pm\n",
    "import theano.tensor as tt"
   ]
  },
  {
   "cell_type": "code",
   "execution_count": 19,
   "metadata": {},
   "outputs": [],
   "source": [
    "# set up model\n",
    "nd = 2\n",
    "ncomp = 3\n",
    "with pm.Model() as model0:\n",
    "    mus = pm.Normal('mus', shape=(nd, ncomp))\n",
    "    taus = pm.Gamma('taus', alpha=1, beta=1, shape=(nd, ncomp))\n",
    "    ws = pm.Dirichlet('ws', np.ones(ncomp))\n",
    "    mixture0 = pm.NormalMixture('m', \n",
    "                                w=ws, \n",
    "                                mu=mus, \n",
    "                                tau=taus,\n",
    "                                observed=np.random.randn(500, 2, 1))"
   ]
  },
  {
   "cell_type": "code",
   "execution_count": 20,
   "metadata": {},
   "outputs": [],
   "source": [
    "X = np.random.randn(500, 2, 1)\n",
    "logp_mixc = pm.NormalMixture.dist(w=ws, mu=mus, tau=taus)._comp_logp(X)\n",
    "comp_logp2 = pm.Normal.dist(mus, tau=taus).logp(X)\n",
    "logp_mix = pm.NormalMixture.dist(w=ws, mu=mus, tau=taus).logp(X)"
   ]
  },
  {
   "cell_type": "code",
   "execution_count": 21,
   "metadata": {},
   "outputs": [
    {
     "data": {
      "text/plain": [
       "(500, 2, 1)"
      ]
     },
     "execution_count": 21,
     "metadata": {},
     "output_type": "execute_result"
    }
   ],
   "source": [
    "logp_mix.tag.test_value.shape"
   ]
  },
  {
   "cell_type": "code",
   "execution_count": 23,
   "metadata": {},
   "outputs": [
    {
     "data": {
      "text/plain": [
       "(500, 2, 3)"
      ]
     },
     "execution_count": 23,
     "metadata": {},
     "output_type": "execute_result"
    }
   ],
   "source": [
    "comp_logp2.tag.test_value.shape"
   ]
  },
  {
   "cell_type": "code",
   "execution_count": 22,
   "metadata": {},
   "outputs": [
    {
     "data": {
      "text/plain": [
       "(500, 2, 3)"
      ]
     },
     "execution_count": 22,
     "metadata": {},
     "output_type": "execute_result"
    }
   ],
   "source": [
    "logp_mixc.tag.test_value.shape"
   ]
  },
  {
   "cell_type": "code",
   "execution_count": null,
   "metadata": {},
   "outputs": [],
   "source": []
  }
 ],
 "metadata": {
  "kernelspec": {
   "display_name": "Python 3",
   "language": "python",
   "name": "python3"
  },
  "language_info": {
   "codemirror_mode": {
    "name": "ipython",
    "version": 3
   },
   "file_extension": ".py",
   "mimetype": "text/x-python",
   "name": "python",
   "nbconvert_exporter": "python",
   "pygments_lexer": "ipython3",
   "version": "3.6.5"
  }
 },
 "nbformat": 4,
 "nbformat_minor": 2
}
