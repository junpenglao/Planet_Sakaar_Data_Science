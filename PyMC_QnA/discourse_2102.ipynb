{
 "cells": [
  {
   "cell_type": "code",
   "execution_count": 1,
   "metadata": {},
   "outputs": [],
   "source": [
    "import pymc3 as pm    \n",
    "import theano.tensor as tt\n",
    "from theano.compile.ops import as_op\n",
    "import numpy as np\n",
    "import scipy.stats as stats\n",
    "\n",
    "X = []\n",
    "X.extend(stats.multinomial.rvs(n=10, p=[0.1,0.2,0.3,0.4,0.0], size=100))\n",
    "X.extend(stats.multinomial.rvs(n=10, p=[0.1,0.2,0.2,0.3,0.2], size=25))\n",
    "X = np.array(X)"
   ]
  },
  {
   "cell_type": "code",
   "execution_count": 3,
   "metadata": {},
   "outputs": [
    {
     "data": {
      "text/plain": [
       "(125, 5)"
      ]
     },
     "execution_count": 3,
     "metadata": {},
     "output_type": "execute_result"
    }
   ],
   "source": [
    "X.shape"
   ]
  },
  {
   "cell_type": "code",
   "execution_count": null,
   "metadata": {},
   "outputs": [],
   "source": [
    "@as_op(itypes=[tt.lscalar, tt.dvector, tt.dvector], otypes=[tt.dvector])\n",
    "def mswitch(tau, p1, p2):\n",
    "    out = np.empty((len(X),5))\n",
    "    out[:tau] = p1.reshape(1,-1)\n",
    "    out[tau:] = p2.reshape(1,-1)\n",
    "    return out"
   ]
  },
  {
   "cell_type": "code",
   "execution_count": 7,
   "metadata": {},
   "outputs": [],
   "source": [
    "def mswitch(X, tau, p1, p2):\n",
    "    p = tt.zeros(X.shape)\n",
    "    p = tt.inc_subtensor(p[tt.arange(X.shape[0])<tau, ...], p1)\n",
    "    p = tt.inc_subtensor(p[tt.arange(X.shape[0])>=tau, ...], p2)\n",
    "    return p"
   ]
  },
  {
   "cell_type": "code",
   "execution_count": 8,
   "metadata": {},
   "outputs": [
    {
     "name": "stderr",
     "output_type": "stream",
     "text": [
      "Auto-assigning NUTS sampler...\n",
      "Initializing NUTS using jitter+adapt_diag...\n",
      "Multiprocess sampling (2 chains in 2 jobs)\n",
      "NUTS: [tau, p2, p1]\n",
      "Sampling 2 chains: 100%|██████████| 2000/2000 [05:35<00:00,  3.09draws/s]\n",
      "The chain reached the maximum tree depth. Increase max_treedepth, increase target_accept or reparameterize.\n",
      "The chain reached the maximum tree depth. Increase max_treedepth, increase target_accept or reparameterize.\n",
      "The estimated number of effective samples is smaller than 200 for some parameters.\n"
     ]
    }
   ],
   "source": [
    "with pm.Model() as model:\n",
    "    p1 = pm.Dirichlet('p1', np.ones(5))\n",
    "    p2 = pm.Dirichlet('p2', np.ones(5))\n",
    "    tau = pm.Uniform('tau', 0, X.shape[0])\n",
    "    p = mswitch(X, tau, p1, p2)\n",
    "    X_ = pm.Multinomial('X_',10, p, observed=X)\n",
    "\n",
    "    trace = pm.sample()"
   ]
  },
  {
   "cell_type": "code",
   "execution_count": null,
   "metadata": {},
   "outputs": [],
   "source": []
  }
 ],
 "metadata": {
  "kernelspec": {
   "display_name": "Python 3",
   "language": "python",
   "name": "python3"
  },
  "language_info": {
   "codemirror_mode": {
    "name": "ipython",
    "version": 3
   },
   "file_extension": ".py",
   "mimetype": "text/x-python",
   "name": "python",
   "nbconvert_exporter": "python",
   "pygments_lexer": "ipython3",
   "version": "3.6.5"
  }
 },
 "nbformat": 4,
 "nbformat_minor": 2
}
