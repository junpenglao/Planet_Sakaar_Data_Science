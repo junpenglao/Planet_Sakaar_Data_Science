{
 "cells": [
  {
   "cell_type": "code",
   "execution_count": 1,
   "metadata": {},
   "outputs": [],
   "source": [
    "import theano\n",
    "import theano.tensor as tt\n",
    "import pymc3 as pm\n",
    "import numpy as np"
   ]
  },
  {
   "cell_type": "code",
   "execution_count": 2,
   "metadata": {},
   "outputs": [
    {
     "data": {
      "text/plain": [
       "array([[ 0.23996979,  0.23996979, -0.97203886,  0.23996979,  0.23996979],\n",
       "       [ 0.        ,  1.86201468, -0.97203886,  0.99536964,  0.53849045],\n",
       "       [-0.        , -0.        , -0.97203886, -0.97203886, -0.97203886],\n",
       "       [ 0.        ,  0.        , -0.        ,  0.99536964,  0.53849045],\n",
       "       [ 0.        ,  0.        , -0.        ,  0.        ,  0.53849045]])"
      ]
     },
     "execution_count": 2,
     "metadata": {},
     "output_type": "execute_result"
    }
   ],
   "source": [
    "def transformation(X):\n",
    "    n = X.shape[0]\n",
    "    X_i = tt.tile(X[:, np.newaxis], [1, n])\n",
    "    X_j = tt.tile(X[np.newaxis, :], [n, 1])\n",
    "    Y_ij = tt.switch(X_i<=X_j, X_i, X_j)\n",
    "    return tt.triu(Y_ij)\n",
    "\n",
    "X = tt.vector()\n",
    "Y_ij = transformation(X)\n",
    "Y_ij.eval({X: np.random.randn(5)})"
   ]
  },
  {
   "cell_type": "code",
   "execution_count": 138,
   "metadata": {
    "scrolled": false
   },
   "outputs": [
    {
     "name": "stdout",
     "output_type": "stream",
     "text": [
      "[0.77869196 0.25313944 0.25313944 0.10087892 0.10087892 0.25313944\n",
      " 0.25313944 0.10087892 0.10087892 1.21431893 0.10087892 0.10087892\n",
      " 0.10087892 0.10087892 0.10978973]\n",
      "[[0.77869196 0.25313944 0.25313944 0.10087892 0.10087892]\n",
      " [0.         0.25313944 0.25313944 0.10087892 0.10087892]\n",
      " [0.         0.         1.21431893 0.10087892 0.10087892]\n",
      " [0.         0.         0.         0.10087892 0.10087892]\n",
      " [0.         0.         0.         0.         0.10978973]]\n"
     ]
    }
   ],
   "source": [
    "y_index = tt.imatrix()\n",
    "X = tt.vector()\n",
    "\n",
    "output, _ = theano.scan(fn=lambda idx, x: tt.min(x[idx[0]:idx[1]+1]),\n",
    "                        sequences=y_index,\n",
    "                        non_sequences=X)\n",
    "Y_ij = pm.expand_packed_triangular(n, output, lower=False)\n",
    "\n",
    "\n",
    "n = 5\n",
    "idxs_array = np.asarray(np.triu_indices(n), dtype=np.int32).T\n",
    "x_value = np.random.randn(n)\n",
    "print(output.eval({y_index: idxs_array, X: x_value}))\n",
    "print(Y_ij.eval({y_index: idxs_array, X: x_value}))"
   ]
  },
  {
   "cell_type": "code",
   "execution_count": null,
   "metadata": {},
   "outputs": [],
   "source": []
  }
 ],
 "metadata": {
  "kernelspec": {
   "display_name": "Python 3",
   "language": "python",
   "name": "python3"
  },
  "language_info": {
   "codemirror_mode": {
    "name": "ipython",
    "version": 3
   },
   "file_extension": ".py",
   "mimetype": "text/x-python",
   "name": "python",
   "nbconvert_exporter": "python",
   "pygments_lexer": "ipython3",
   "version": "3.6.7"
  }
 },
 "nbformat": 4,
 "nbformat_minor": 2
}
