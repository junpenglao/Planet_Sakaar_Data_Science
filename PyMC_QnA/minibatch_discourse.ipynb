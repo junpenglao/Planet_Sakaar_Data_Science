{
 "cells": [
  {
   "cell_type": "code",
   "execution_count": 34,
   "metadata": {},
   "outputs": [],
   "source": [
    "import pandas as pd \n",
    "import pymc3 as pm\n",
    "from sklearn.preprocessing import LabelEncoder\n",
    "from theano import shared\n",
    "import theano.tensor as tt\n",
    "\n",
    "measurement = pd.read_csv('anonymized_data.csv')\n",
    "\n",
    "predictors = ['network', 'content_id', 'genre_id', 'weekday_id', 'stratified_hour_id']\n",
    "\n",
    "train = measurement.loc[measurement.leave_out_set == 0]\n",
    "test = measurement.loc[measurement.leave_out_set == 1]\n",
    "\n",
    "# This is to mimic encoding done in actual program so as to be used during model construction\n",
    "encoders = {}\n",
    "\n",
    "for predictor in predictors:\n",
    "    encoder = LabelEncoder()\n",
    "    encoder.fit(measurement[predictor])\n",
    "    encoders[predictor] = encoder"
   ]
  },
  {
   "cell_type": "code",
   "execution_count": 62,
   "metadata": {},
   "outputs": [],
   "source": [
    "def construct_model(model_variables, encoders):\n",
    "    with pm.Model() as model:\n",
    "        intercept = pm.Normal(\n",
    "            'intercept', mu=0.0, tau=1 / (2 ** 2), shape=1\n",
    "        )\n",
    "\n",
    "        network_coeff_sigma = pm.HalfNormal('network_coeff_sigma', sd=5)\n",
    "        network_coeff_offset = pm.Normal(\n",
    "            'network_coeff_offset', mu=0, sd=1, \n",
    "            shape=encoders['network'].classes_.size\n",
    "        )\n",
    "        network_coeff = pm.Deterministic(\n",
    "            'network_coeff', \n",
    "            0.0 + network_coeff_offset * network_coeff_sigma\n",
    "        )\n",
    "\n",
    "        content_id_coeff_sigma = pm.HalfNormal('content_id_coeff_sigma', sd=5)\n",
    "        content_id_coeff_offset = pm.Normal(\n",
    "            'content_id_coeff_offset', mu=0, sd=1, \n",
    "            shape=encoders['content_id'].classes_.size\n",
    "        )\n",
    "        content_id_coeff = pm.Deterministic(\n",
    "            'content_id_coeff', \n",
    "            0.0 + content_id_coeff_offset * content_id_coeff_sigma\n",
    "        )\n",
    "\n",
    "        genre_id_coeff_sigma = pm.HalfNormal('genre_id_coeff_sigma', sd=5)\n",
    "        genre_id_coeff_offset = pm.Normal(\n",
    "            'genre_id_coeff_offset', mu=0, sd=1, \n",
    "            shape=encoders['genre_id'].classes_.size\n",
    "        )\n",
    "        genre_id_coeff = pm.Deterministic(\n",
    "            'genre_id_coeff', \n",
    "            0.0 + genre_id_coeff_offset * genre_id_coeff_sigma\n",
    "        )\n",
    "\n",
    "        weekday_id_coeff_sigma = pm.HalfNormal('weekday_id_coeff_sigma', sd=5)\n",
    "        weekday_id_coeff_offset = pm.Normal(\n",
    "            'weekday_id_coeff_offset', mu=0, sd=1, \n",
    "            shape=encoders['weekday_id'].classes_.size\n",
    "        )\n",
    "        weekday_id_coeff = pm.Deterministic(\n",
    "            'weekday_id_coeff', \n",
    "            0.0 + weekday_id_coeff_offset * weekday_id_coeff_sigma\n",
    "        )\n",
    "\n",
    "        stratified_hour_id_coeff_sigma = pm.HalfNormal('stratified_hour_id_coeff_sigma', sd=5)\n",
    "        stratified_hour_id_coeff_offset = pm.Normal(\n",
    "            'stratified_hour_id_coeff_offset', mu=0, sd=1, \n",
    "            shape=encoders['stratified_hour_id'].classes_.size\n",
    "        )\n",
    "        stratified_hour_id_coeff = pm.Deterministic(\n",
    "            'stratified_hour_id_coeff', \n",
    "            0.0 + stratified_hour_id_coeff_offset * stratified_hour_id_coeff_sigma\n",
    "        )\n",
    "\n",
    "        # Parameters for categories\n",
    "        link_argument = (\n",
    "            intercept + \n",
    "            network_coeff[model_variables['network']] +\n",
    "            content_id_coeff[model_variables['content_id']] +\n",
    "            genre_id_coeff[model_variables['genre_id']] + \n",
    "            weekday_id_coeff[model_variables['weekday_id']] +\n",
    "            stratified_hour_id_coeff[model_variables['stratified_hour_id']]\n",
    "        )\n",
    "        omega = pm.Deterministic('omega', pm.invlogit(link_argument))\n",
    "        kappa = pm.HalfStudentT('kappa', nu=3, sd=3)\n",
    "\n",
    "        # Mean parameter for individual data \n",
    "        mu = pm.Beta(\n",
    "            'mu', alpha=omega * kappa + 1, beta=(1 - omega) * kappa + 1, \n",
    "            )\n",
    "\n",
    "        likelihood = pm.Binomial(\n",
    "            'likelihood', \n",
    "            p=mu, \n",
    "            n=tt.cast(model_variables['n'], 'int64'), \n",
    "            observed=tt.cast(model_variables['y_obs'], 'int64'),\n",
    "#             total_size=model_variables['y_obs'].shared.eval().size\n",
    "        )\n",
    "\n",
    "        # Rescale coefficients to be deflections from baseline\n",
    "#         b_0 = pm.Deterministic('b_0', tt.mean(link_argument))\n",
    "#         b_1 = pm.Deterministic('b_1', link_argument[model_variables['network']] - b_0)\n",
    "#         b_2 = pm.Deterministic('b_2', link_argument[model_variables['content_id']] - b_0)\n",
    "#         b_3 = pm.Deterministic('b_3', link_argument[model_variables['genre_id']] - b_0)\n",
    "#         b_4 = pm.Deterministic('b_4', link_argument[model_variables['weekday_id']] - b_0)\n",
    "#         b_5 = pm.Deterministic('b_5', link_argument[model_variables['stratified_hour_id']] - b_0)\n",
    "        \n",
    "    return model"
   ]
  },
  {
   "cell_type": "code",
   "execution_count": 64,
   "metadata": {},
   "outputs": [
    {
     "data": {
      "text/plain": [
       "(87301,)"
      ]
     },
     "execution_count": 64,
     "metadata": {},
     "output_type": "execute_result"
    }
   ],
   "source": [
    "model.omega.tag.test_value.shape"
   ]
  },
  {
   "cell_type": "code",
   "execution_count": 63,
   "metadata": {},
   "outputs": [
    {
     "ename": "TypeError",
     "evalue": "For compute_test_value, one input test value does not have the requested type.\n\nThe error when converting the test value to that variable type:\nWrong number of dimensions: expected 0, got 1 with shape (87301,).",
     "output_type": "error",
     "traceback": [
      "\u001b[0;31m---------------------------------------------------------------------------\u001b[0m",
      "\u001b[0;31mTypeError\u001b[0m                                 Traceback (most recent call last)",
      "\u001b[0;32m<ipython-input-63-b772aa3053c5>\u001b[0m in \u001b[0;36m<module>\u001b[0;34m()\u001b[0m\n\u001b[1;32m      9\u001b[0m \u001b[0mmodel_variables\u001b[0m\u001b[0;34m[\u001b[0m\u001b[0;34m'n'\u001b[0m\u001b[0;34m]\u001b[0m \u001b[0;34m=\u001b[0m \u001b[0mshared\u001b[0m\u001b[0;34m(\u001b[0m\u001b[0mtrain\u001b[0m\u001b[0;34m.\u001b[0m\u001b[0mn\u001b[0m\u001b[0;34m.\u001b[0m\u001b[0mvalues\u001b[0m\u001b[0;34m)\u001b[0m\u001b[0;34m\u001b[0m\u001b[0m\n\u001b[1;32m     10\u001b[0m \u001b[0;34m\u001b[0m\u001b[0m\n\u001b[0;32m---> 11\u001b[0;31m \u001b[0mmodel\u001b[0m \u001b[0;34m=\u001b[0m \u001b[0mconstruct_model\u001b[0m\u001b[0;34m(\u001b[0m\u001b[0mmodel_variables\u001b[0m\u001b[0;34m,\u001b[0m \u001b[0mencoders\u001b[0m\u001b[0;34m)\u001b[0m\u001b[0;34m\u001b[0m\u001b[0m\n\u001b[0m\u001b[1;32m     12\u001b[0m \u001b[0;34m\u001b[0m\u001b[0m\n\u001b[1;32m     13\u001b[0m \u001b[0;32mfor\u001b[0m \u001b[0mRV\u001b[0m \u001b[0;32min\u001b[0m \u001b[0mmodel\u001b[0m\u001b[0;34m.\u001b[0m\u001b[0mbasic_RVs\u001b[0m\u001b[0;34m:\u001b[0m\u001b[0;34m\u001b[0m\u001b[0m\n",
      "\u001b[0;32m<ipython-input-62-7d553973fe7f>\u001b[0m in \u001b[0;36mconstruct_model\u001b[0;34m(model_variables, encoders)\u001b[0m\n\u001b[1;32m     69\u001b[0m         \u001b[0;31m# Mean parameter for individual data\u001b[0m\u001b[0;34m\u001b[0m\u001b[0;34m\u001b[0m\u001b[0m\n\u001b[1;32m     70\u001b[0m         mu = pm.Beta(\n\u001b[0;32m---> 71\u001b[0;31m             \u001b[0;34m'mu'\u001b[0m\u001b[0;34m,\u001b[0m \u001b[0malpha\u001b[0m\u001b[0;34m=\u001b[0m\u001b[0momega\u001b[0m \u001b[0;34m*\u001b[0m \u001b[0mkappa\u001b[0m \u001b[0;34m+\u001b[0m \u001b[0;36m1\u001b[0m\u001b[0;34m,\u001b[0m \u001b[0mbeta\u001b[0m\u001b[0;34m=\u001b[0m\u001b[0;34m(\u001b[0m\u001b[0;36m1\u001b[0m \u001b[0;34m-\u001b[0m \u001b[0momega\u001b[0m\u001b[0;34m)\u001b[0m \u001b[0;34m*\u001b[0m \u001b[0mkappa\u001b[0m \u001b[0;34m+\u001b[0m \u001b[0;36m1\u001b[0m\u001b[0;34m,\u001b[0m\u001b[0;34m\u001b[0m\u001b[0m\n\u001b[0m\u001b[1;32m     72\u001b[0m             )\n\u001b[1;32m     73\u001b[0m \u001b[0;34m\u001b[0m\u001b[0m\n",
      "\u001b[0;32m~/Documents/Github/pymc3/pymc3/distributions/distribution.py\u001b[0m in \u001b[0;36m__new__\u001b[0;34m(cls, name, *args, **kwargs)\u001b[0m\n\u001b[1;32m     35\u001b[0m             \u001b[0mtotal_size\u001b[0m \u001b[0;34m=\u001b[0m \u001b[0mkwargs\u001b[0m\u001b[0;34m.\u001b[0m\u001b[0mpop\u001b[0m\u001b[0;34m(\u001b[0m\u001b[0;34m'total_size'\u001b[0m\u001b[0;34m,\u001b[0m \u001b[0;32mNone\u001b[0m\u001b[0;34m)\u001b[0m\u001b[0;34m\u001b[0m\u001b[0m\n\u001b[1;32m     36\u001b[0m             \u001b[0mdist\u001b[0m \u001b[0;34m=\u001b[0m \u001b[0mcls\u001b[0m\u001b[0;34m.\u001b[0m\u001b[0mdist\u001b[0m\u001b[0;34m(\u001b[0m\u001b[0;34m*\u001b[0m\u001b[0margs\u001b[0m\u001b[0;34m,\u001b[0m \u001b[0;34m**\u001b[0m\u001b[0mkwargs\u001b[0m\u001b[0;34m)\u001b[0m\u001b[0;34m\u001b[0m\u001b[0m\n\u001b[0;32m---> 37\u001b[0;31m             \u001b[0;32mreturn\u001b[0m \u001b[0mmodel\u001b[0m\u001b[0;34m.\u001b[0m\u001b[0mVar\u001b[0m\u001b[0;34m(\u001b[0m\u001b[0mname\u001b[0m\u001b[0;34m,\u001b[0m \u001b[0mdist\u001b[0m\u001b[0;34m,\u001b[0m \u001b[0mdata\u001b[0m\u001b[0;34m,\u001b[0m \u001b[0mtotal_size\u001b[0m\u001b[0;34m)\u001b[0m\u001b[0;34m\u001b[0m\u001b[0m\n\u001b[0m\u001b[1;32m     38\u001b[0m         \u001b[0;32melse\u001b[0m\u001b[0;34m:\u001b[0m\u001b[0;34m\u001b[0m\u001b[0m\n\u001b[1;32m     39\u001b[0m             \u001b[0;32mraise\u001b[0m \u001b[0mTypeError\u001b[0m\u001b[0;34m(\u001b[0m\u001b[0;34m\"Name needs to be a string but got: {}\"\u001b[0m\u001b[0;34m.\u001b[0m\u001b[0mformat\u001b[0m\u001b[0;34m(\u001b[0m\u001b[0mname\u001b[0m\u001b[0;34m)\u001b[0m\u001b[0;34m)\u001b[0m\u001b[0;34m\u001b[0m\u001b[0m\n",
      "\u001b[0;32m~/Documents/Github/pymc3/pymc3/model.py\u001b[0m in \u001b[0;36mVar\u001b[0;34m(self, name, dist, data, total_size)\u001b[0m\n\u001b[1;32m    765\u001b[0m                                         \u001b[0mtransform\u001b[0m\u001b[0;34m=\u001b[0m\u001b[0mdist\u001b[0m\u001b[0;34m.\u001b[0m\u001b[0mtransform\u001b[0m\u001b[0;34m,\u001b[0m\u001b[0;34m\u001b[0m\u001b[0m\n\u001b[1;32m    766\u001b[0m                                         \u001b[0mtotal_size\u001b[0m\u001b[0;34m=\u001b[0m\u001b[0mtotal_size\u001b[0m\u001b[0;34m,\u001b[0m\u001b[0;34m\u001b[0m\u001b[0m\n\u001b[0;32m--> 767\u001b[0;31m                                         model=self)\n\u001b[0m\u001b[1;32m    768\u001b[0m                 pm._log.debug('Applied {transform}-transform to {name}'\n\u001b[1;32m    769\u001b[0m                               ' and added transformed {orig_name} to model.'.format(\n",
      "\u001b[0;32m~/Documents/Github/pymc3/pymc3/model.py\u001b[0m in \u001b[0;36m__init__\u001b[0;34m(self, type, owner, index, name, distribution, model, transform, total_size)\u001b[0m\n\u001b[1;32m   1400\u001b[0m \u001b[0;34m\u001b[0m\u001b[0m\n\u001b[1;32m   1401\u001b[0m             self.transformed = model.Var(\n\u001b[0;32m-> 1402\u001b[0;31m                 transformed_name, transform.apply(distribution), total_size=total_size)\n\u001b[0m\u001b[1;32m   1403\u001b[0m \u001b[0;34m\u001b[0m\u001b[0m\n\u001b[1;32m   1404\u001b[0m             \u001b[0mnormalRV\u001b[0m \u001b[0;34m=\u001b[0m \u001b[0mtransform\u001b[0m\u001b[0;34m.\u001b[0m\u001b[0mbackward\u001b[0m\u001b[0;34m(\u001b[0m\u001b[0mself\u001b[0m\u001b[0;34m.\u001b[0m\u001b[0mtransformed\u001b[0m\u001b[0;34m)\u001b[0m\u001b[0;34m\u001b[0m\u001b[0m\n",
      "\u001b[0;32m~/Documents/Github/pymc3/pymc3/distributions/transforms.py\u001b[0m in \u001b[0;36mapply\u001b[0;34m(self, dist)\u001b[0m\n\u001b[1;32m     36\u001b[0m     \u001b[0;32mdef\u001b[0m \u001b[0mapply\u001b[0m\u001b[0;34m(\u001b[0m\u001b[0mself\u001b[0m\u001b[0;34m,\u001b[0m \u001b[0mdist\u001b[0m\u001b[0;34m)\u001b[0m\u001b[0;34m:\u001b[0m\u001b[0;34m\u001b[0m\u001b[0m\n\u001b[1;32m     37\u001b[0m         \u001b[0;31m# avoid circular import\u001b[0m\u001b[0;34m\u001b[0m\u001b[0;34m\u001b[0m\u001b[0m\n\u001b[0;32m---> 38\u001b[0;31m         \u001b[0;32mreturn\u001b[0m \u001b[0mTransformedDistribution\u001b[0m\u001b[0;34m.\u001b[0m\u001b[0mdist\u001b[0m\u001b[0;34m(\u001b[0m\u001b[0mdist\u001b[0m\u001b[0;34m,\u001b[0m \u001b[0mself\u001b[0m\u001b[0;34m)\u001b[0m\u001b[0;34m\u001b[0m\u001b[0m\n\u001b[0m\u001b[1;32m     39\u001b[0m \u001b[0;34m\u001b[0m\u001b[0m\n\u001b[1;32m     40\u001b[0m     \u001b[0;32mdef\u001b[0m \u001b[0m__str__\u001b[0m\u001b[0;34m(\u001b[0m\u001b[0mself\u001b[0m\u001b[0;34m)\u001b[0m\u001b[0;34m:\u001b[0m\u001b[0;34m\u001b[0m\u001b[0m\n",
      "\u001b[0;32m~/Documents/Github/pymc3/pymc3/distributions/distribution.py\u001b[0m in \u001b[0;36mdist\u001b[0;34m(cls, *args, **kwargs)\u001b[0m\n\u001b[1;32m     45\u001b[0m     \u001b[0;32mdef\u001b[0m \u001b[0mdist\u001b[0m\u001b[0;34m(\u001b[0m\u001b[0mcls\u001b[0m\u001b[0;34m,\u001b[0m \u001b[0;34m*\u001b[0m\u001b[0margs\u001b[0m\u001b[0;34m,\u001b[0m \u001b[0;34m**\u001b[0m\u001b[0mkwargs\u001b[0m\u001b[0;34m)\u001b[0m\u001b[0;34m:\u001b[0m\u001b[0;34m\u001b[0m\u001b[0m\n\u001b[1;32m     46\u001b[0m         \u001b[0mdist\u001b[0m \u001b[0;34m=\u001b[0m \u001b[0mobject\u001b[0m\u001b[0;34m.\u001b[0m\u001b[0m__new__\u001b[0m\u001b[0;34m(\u001b[0m\u001b[0mcls\u001b[0m\u001b[0;34m)\u001b[0m\u001b[0;34m\u001b[0m\u001b[0m\n\u001b[0;32m---> 47\u001b[0;31m         \u001b[0mdist\u001b[0m\u001b[0;34m.\u001b[0m\u001b[0m__init__\u001b[0m\u001b[0;34m(\u001b[0m\u001b[0;34m*\u001b[0m\u001b[0margs\u001b[0m\u001b[0;34m,\u001b[0m \u001b[0;34m**\u001b[0m\u001b[0mkwargs\u001b[0m\u001b[0;34m)\u001b[0m\u001b[0;34m\u001b[0m\u001b[0m\n\u001b[0m\u001b[1;32m     48\u001b[0m         \u001b[0;32mreturn\u001b[0m \u001b[0mdist\u001b[0m\u001b[0;34m\u001b[0m\u001b[0m\n\u001b[1;32m     49\u001b[0m \u001b[0;34m\u001b[0m\u001b[0m\n",
      "\u001b[0;32m~/Documents/Github/pymc3/pymc3/distributions/transforms.py\u001b[0m in \u001b[0;36m__init__\u001b[0;34m(self, dist, transform, *args, **kwargs)\u001b[0m\n\u001b[1;32m     66\u001b[0m         \u001b[0mself\u001b[0m\u001b[0;34m.\u001b[0m\u001b[0mdist\u001b[0m \u001b[0;34m=\u001b[0m \u001b[0mdist\u001b[0m\u001b[0;34m\u001b[0m\u001b[0m\n\u001b[1;32m     67\u001b[0m         \u001b[0mself\u001b[0m\u001b[0;34m.\u001b[0m\u001b[0mtransform_used\u001b[0m \u001b[0;34m=\u001b[0m \u001b[0mtransform\u001b[0m\u001b[0;34m\u001b[0m\u001b[0m\n\u001b[0;32m---> 68\u001b[0;31m         \u001b[0mv\u001b[0m \u001b[0;34m=\u001b[0m \u001b[0mforward\u001b[0m\u001b[0;34m(\u001b[0m\u001b[0mFreeRV\u001b[0m\u001b[0;34m(\u001b[0m\u001b[0mname\u001b[0m\u001b[0;34m=\u001b[0m\u001b[0;34m'v'\u001b[0m\u001b[0;34m,\u001b[0m \u001b[0mdistribution\u001b[0m\u001b[0;34m=\u001b[0m\u001b[0mdist\u001b[0m\u001b[0;34m)\u001b[0m\u001b[0;34m)\u001b[0m\u001b[0;34m\u001b[0m\u001b[0m\n\u001b[0m\u001b[1;32m     69\u001b[0m         \u001b[0mself\u001b[0m\u001b[0;34m.\u001b[0m\u001b[0mtype\u001b[0m \u001b[0;34m=\u001b[0m \u001b[0mv\u001b[0m\u001b[0;34m.\u001b[0m\u001b[0mtype\u001b[0m\u001b[0;34m\u001b[0m\u001b[0m\n\u001b[1;32m     70\u001b[0m \u001b[0;34m\u001b[0m\u001b[0m\n",
      "\u001b[0;32m~/Documents/Github/pymc3/pymc3/model.py\u001b[0m in \u001b[0;36m__init__\u001b[0;34m(self, type, owner, index, name, distribution, total_size, model)\u001b[0m\n\u001b[1;32m   1137\u001b[0m             self.tag.test_value = np.ones(\n\u001b[1;32m   1138\u001b[0m                 distribution.shape, distribution.dtype) * distribution.default()\n\u001b[0;32m-> 1139\u001b[0;31m             \u001b[0mself\u001b[0m\u001b[0;34m.\u001b[0m\u001b[0mlogp_elemwiset\u001b[0m \u001b[0;34m=\u001b[0m \u001b[0mdistribution\u001b[0m\u001b[0;34m.\u001b[0m\u001b[0mlogp\u001b[0m\u001b[0;34m(\u001b[0m\u001b[0mself\u001b[0m\u001b[0;34m)\u001b[0m\u001b[0;34m\u001b[0m\u001b[0m\n\u001b[0m\u001b[1;32m   1140\u001b[0m             \u001b[0;31m# The logp might need scaling in minibatches.\u001b[0m\u001b[0;34m\u001b[0m\u001b[0;34m\u001b[0m\u001b[0m\n\u001b[1;32m   1141\u001b[0m             \u001b[0;31m# This is done in `Factor`.\u001b[0m\u001b[0;34m\u001b[0m\u001b[0;34m\u001b[0m\u001b[0m\n",
      "\u001b[0;32m~/Documents/Github/pymc3/pymc3/distributions/continuous.py\u001b[0m in \u001b[0;36mlogp\u001b[0;34m(self, value)\u001b[0m\n\u001b[1;32m    679\u001b[0m         \u001b[0mbeta\u001b[0m \u001b[0;34m=\u001b[0m \u001b[0mself\u001b[0m\u001b[0;34m.\u001b[0m\u001b[0mbeta\u001b[0m\u001b[0;34m\u001b[0m\u001b[0m\n\u001b[1;32m    680\u001b[0m \u001b[0;34m\u001b[0m\u001b[0m\n\u001b[0;32m--> 681\u001b[0;31m         \u001b[0mlogval\u001b[0m \u001b[0;34m=\u001b[0m \u001b[0mtt\u001b[0m\u001b[0;34m.\u001b[0m\u001b[0mlog\u001b[0m\u001b[0;34m(\u001b[0m\u001b[0mvalue\u001b[0m\u001b[0;34m)\u001b[0m\u001b[0;34m\u001b[0m\u001b[0m\n\u001b[0m\u001b[1;32m    682\u001b[0m         \u001b[0mlog1pval\u001b[0m \u001b[0;34m=\u001b[0m \u001b[0mtt\u001b[0m\u001b[0;34m.\u001b[0m\u001b[0mlog1p\u001b[0m\u001b[0;34m(\u001b[0m\u001b[0;34m-\u001b[0m\u001b[0mvalue\u001b[0m\u001b[0;34m)\u001b[0m\u001b[0;34m\u001b[0m\u001b[0m\n\u001b[1;32m    683\u001b[0m         logp = (tt.switch(tt.eq(alpha, 1), 0, (alpha - 1) * logval)\n",
      "\u001b[0;32m/Library/Frameworks/Python.framework/Versions/3.5/lib/python3.5/site-packages/theano/gof/op.py\u001b[0m in \u001b[0;36m__call__\u001b[0;34m(self, *inputs, **kwargs)\u001b[0m\n\u001b[1;32m    623\u001b[0m             \u001b[0;32mfor\u001b[0m \u001b[0mi\u001b[0m\u001b[0;34m,\u001b[0m \u001b[0mins\u001b[0m \u001b[0;32min\u001b[0m \u001b[0menumerate\u001b[0m\u001b[0;34m(\u001b[0m\u001b[0mnode\u001b[0m\u001b[0;34m.\u001b[0m\u001b[0minputs\u001b[0m\u001b[0;34m)\u001b[0m\u001b[0;34m:\u001b[0m\u001b[0;34m\u001b[0m\u001b[0m\n\u001b[1;32m    624\u001b[0m                 \u001b[0;32mtry\u001b[0m\u001b[0;34m:\u001b[0m\u001b[0;34m\u001b[0m\u001b[0m\n\u001b[0;32m--> 625\u001b[0;31m                     \u001b[0mstorage_map\u001b[0m\u001b[0;34m[\u001b[0m\u001b[0mins\u001b[0m\u001b[0;34m]\u001b[0m \u001b[0;34m=\u001b[0m \u001b[0;34m[\u001b[0m\u001b[0mself\u001b[0m\u001b[0;34m.\u001b[0m\u001b[0m_get_test_value\u001b[0m\u001b[0;34m(\u001b[0m\u001b[0mins\u001b[0m\u001b[0;34m)\u001b[0m\u001b[0;34m]\u001b[0m\u001b[0;34m\u001b[0m\u001b[0m\n\u001b[0m\u001b[1;32m    626\u001b[0m                     \u001b[0mcompute_map\u001b[0m\u001b[0;34m[\u001b[0m\u001b[0mins\u001b[0m\u001b[0;34m]\u001b[0m \u001b[0;34m=\u001b[0m \u001b[0;34m[\u001b[0m\u001b[0;32mTrue\u001b[0m\u001b[0;34m]\u001b[0m\u001b[0;34m\u001b[0m\u001b[0m\n\u001b[1;32m    627\u001b[0m                 \u001b[0;32mexcept\u001b[0m \u001b[0mAttributeError\u001b[0m\u001b[0;34m:\u001b[0m\u001b[0;34m\u001b[0m\u001b[0m\n",
      "\u001b[0;32m/Library/Frameworks/Python.framework/Versions/3.5/lib/python3.5/site-packages/theano/gof/op.py\u001b[0m in \u001b[0;36m_get_test_value\u001b[0;34m(cls, v)\u001b[0m\n\u001b[1;32m    560\u001b[0m             \u001b[0;31m# ensure that the test value is correct\u001b[0m\u001b[0;34m\u001b[0m\u001b[0;34m\u001b[0m\u001b[0m\n\u001b[1;32m    561\u001b[0m             \u001b[0;32mtry\u001b[0m\u001b[0;34m:\u001b[0m\u001b[0;34m\u001b[0m\u001b[0m\n\u001b[0;32m--> 562\u001b[0;31m                 \u001b[0mret\u001b[0m \u001b[0;34m=\u001b[0m \u001b[0mv\u001b[0m\u001b[0;34m.\u001b[0m\u001b[0mtype\u001b[0m\u001b[0;34m.\u001b[0m\u001b[0mfilter\u001b[0m\u001b[0;34m(\u001b[0m\u001b[0mv\u001b[0m\u001b[0;34m.\u001b[0m\u001b[0mtag\u001b[0m\u001b[0;34m.\u001b[0m\u001b[0mtest_value\u001b[0m\u001b[0;34m)\u001b[0m\u001b[0;34m\u001b[0m\u001b[0m\n\u001b[0m\u001b[1;32m    563\u001b[0m             \u001b[0;32mexcept\u001b[0m \u001b[0mException\u001b[0m \u001b[0;32mas\u001b[0m \u001b[0me\u001b[0m\u001b[0;34m:\u001b[0m\u001b[0;34m\u001b[0m\u001b[0m\n\u001b[1;32m    564\u001b[0m                 \u001b[0;31m# Better error message.\u001b[0m\u001b[0;34m\u001b[0m\u001b[0;34m\u001b[0m\u001b[0m\n",
      "\u001b[0;32m/Library/Frameworks/Python.framework/Versions/3.5/lib/python3.5/site-packages/theano/tensor/type.py\u001b[0m in \u001b[0;36mfilter\u001b[0;34m(self, data, strict, allow_downcast)\u001b[0m\n\u001b[1;32m    176\u001b[0m             raise TypeError(\"Wrong number of dimensions: expected %s,\"\n\u001b[1;32m    177\u001b[0m                             \" got %s with shape %s.\" % (self.ndim, data.ndim,\n\u001b[0;32m--> 178\u001b[0;31m                                                         data.shape))\n\u001b[0m\u001b[1;32m    179\u001b[0m         \u001b[0;32mif\u001b[0m \u001b[0;32mnot\u001b[0m \u001b[0mdata\u001b[0m\u001b[0;34m.\u001b[0m\u001b[0mflags\u001b[0m\u001b[0;34m.\u001b[0m\u001b[0maligned\u001b[0m\u001b[0;34m:\u001b[0m\u001b[0;34m\u001b[0m\u001b[0m\n\u001b[1;32m    180\u001b[0m             \u001b[0;32mtry\u001b[0m\u001b[0;34m:\u001b[0m\u001b[0;34m\u001b[0m\u001b[0m\n",
      "\u001b[0;31mTypeError\u001b[0m: For compute_test_value, one input test value does not have the requested type.\n\nThe error when converting the test value to that variable type:\nWrong number of dimensions: expected 0, got 1 with shape (87301,)."
     ]
    }
   ],
   "source": [
    "# creating shared variables results in no error in test point evaluation\n",
    "model_variables = {}\n",
    "\n",
    "# Nominal Predictors of model\n",
    "for predictor in predictors:\n",
    "    model_variables[predictor] = shared(train[predictor].values)\n",
    "\n",
    "model_variables['y_obs'] = shared(train.y.values)\n",
    "model_variables['n'] = shared(train.n.values)\n",
    "\n",
    "model = construct_model(model_variables, encoders)\n",
    "\n",
    "for RV in model.basic_RVs:\n",
    "    print(RV.name, RV.logp(model.test_point))"
   ]
  },
  {
   "cell_type": "code",
   "execution_count": 6,
   "metadata": {},
   "outputs": [
    {
     "name": "stdout",
     "output_type": "stream",
     "text": [
      "intercept -1.612085713764618\n",
      "network_coeff_sigma_log__ -0.7698925914732453\n",
      "network_coeff_offset -7.35150826563738\n",
      "content_id_coeff_sigma_log__ -0.7698925914732453\n",
      "content_id_coeff_offset -1495.1129935240372\n",
      "genre_id_coeff_sigma_log__ -0.7698925914732453\n",
      "genre_id_coeff_offset -16.540893597684104\n",
      "weekday_id_coeff_sigma_log__ -0.7698925914732453\n",
      "weekday_id_coeff_offset -6.432569732432707\n",
      "stratified_hour_id_coeff_sigma_log__ -0.7698925914732453\n",
      "stratified_hour_id_coeff_offset -5.513631199228035\n",
      "kappa_log__ -0.8831057935713134\n",
      "mu_logodds__ -1714.0956267952663\n",
      "likelihood -45492.94857581889\n"
     ]
    }
   ],
   "source": [
    "# However, when repeating with minibatch, model test point evaluates to inf for likelihood\n",
    "batch_size = 2000\n",
    "\n",
    "random_seed = 42\n",
    "\n",
    "model_variables = {}\n",
    "\n",
    "# Nominal Predictors of model\n",
    "for predictor in encoders:\n",
    "    encoder = encoders[predictor]\n",
    "    model_variables[predictor] = pm.Minibatch(train[predictor].values, batch_size=batch_size)\n",
    "\n",
    "model_variables['y_obs'] = pm.Minibatch(train.y.values, batch_size=batch_size)\n",
    "model_variables['n'] = pm.Minibatch(train.n.values, batch_size=batch_size)\n",
    "\n",
    "model = construct_model(model_variables, encoders, batch_size)\n",
    "\n",
    "for RV in model.basic_RVs:\n",
    "    print(RV.name, RV.logp(model.test_point))"
   ]
  },
  {
   "cell_type": "code",
   "execution_count": 50,
   "metadata": {},
   "outputs": [],
   "source": [
    "# creating shared variables results in no error in test point evaluation\n",
    "model_variables = {}\n",
    "\n",
    "# Nominal Predictors of model\n",
    "for predictor in predictors:\n",
    "    model_variables[predictor] = shared(train[predictor].values)\n",
    "\n",
    "model_variables['y_obs'] = shared(train.y.values)\n",
    "model_variables['n'] = shared(train.n.values)\n",
    "\n",
    "model = construct_model(model_variables, encoders, train.y.values.shape)\n",
    "\n",
    "predictor_mini = {}\n",
    "\n",
    "# Nominal Predictors of model\n",
    "for predictor in encoders:\n",
    "    predictor_mini[predictor] = pm.Minibatch(train[predictor].values, batch_size=batch_size)\n",
    "\n",
    "predictor_mini['y_obs'] = pm.Minibatch(train.y.values, batch_size=batch_size)\n",
    "predictor_mini['n'] = pm.Minibatch(train.n.values, batch_size=batch_size)"
   ]
  },
  {
   "cell_type": "code",
   "execution_count": 55,
   "metadata": {},
   "outputs": [
    {
     "data": {
      "text/plain": [
       "{<TensorType(int64, vector)>: Minibatch,\n",
       " <TensorType(int64, vector)>: Minibatch,\n",
       " <TensorType(int64, vector)>: Minibatch,\n",
       " <TensorType(int64, vector)>: Minibatch,\n",
       " <TensorType(int64, vector)>: Minibatch,\n",
       " <TensorType(int64, vector)>: Minibatch,\n",
       " <TensorType(int64, vector)>: Minibatch}"
      ]
     },
     "execution_count": 55,
     "metadata": {},
     "output_type": "execute_result"
    }
   ],
   "source": [
    "replace_dict = {}\n",
    "for k in model_variables.keys():\n",
    "    replace_dict[model_variables[k]] = predictor_mini[k]"
   ]
  },
  {
   "cell_type": "code",
   "execution_count": 56,
   "metadata": {},
   "outputs": [
    {
     "name": "stderr",
     "output_type": "stream",
     "text": [
      "  0%|          | 0/20000 [00:00<?, ?it/s]\n"
     ]
    },
    {
     "ename": "ValueError",
     "evalue": "Input dimension mis-match. (input[0].shape[0] = 87301, input[2].shape[0] = 2000)\nApply node that caused the error: Elemwise{Composite{Cast{int8}((i0 * i1 * GT(i2, i3) * GT(i4, i3)))}}(Elemwise{ge,no_inplace}.0, Elemwise{le,no_inplace}.0, Elemwise{add,no_inplace}.0, TensorConstant{(1,) of 0}, Elemwise{add,no_inplace}.0)\nToposort index: 168\nInputs types: [TensorType(bool, vector), TensorType(bool, vector), TensorType(float64, vector), TensorType(int8, (True,)), TensorType(float64, vector)]\nInputs shapes: [(87301,), (87301,), (2000,), (1,), (2000,)]\nInputs strides: [(1,), (1,), (8,), (1,), (8,)]\nInputs values: ['not shown', 'not shown', 'not shown', array([0], dtype=int8), 'not shown']\nOutputs clients: [[Elemwise{Composite{(Switch(i0, ((Switch(i1, i2, (i3 * i4 * i5)) + Switch(i6, i2, (i7 * i8))) - ((scalar_gammaln(i9) + scalar_gammaln(i10)) - scalar_gammaln(i11))), i12) + log(Abs((i13 * i14))))}}[(0, 4)](Elemwise{Composite{Cast{int8}((i0 * i1 * GT(i2, i3) * GT(i4, i3)))}}.0, Elemwise{eq,no_inplace}.0, TensorConstant{(1,) of 0}, TensorConstant{(1,) of -1.0}, Elemwise{mul,no_inplace}.0, Elemwise{Composite{scalar_softplus((-i0))}}.0, Elemwise{eq,no_inplace}.0, Elemwise{mul,no_inplace}.0, Elemwise{Composite{log1p((-i0))}}.0, Elemwise{add,no_inplace}.0, Elemwise{add,no_inplace}.0, Elemwise{add,no_inplace}.0, TensorConstant{(1,) of -inf}, mu, Elemwise{sub,no_inplace}.0), Elemwise{Composite{(Switch(i0, i1, Switch(i2, (i3 * i4 * i5 * i6), i1)) + Switch(i7, i1, Switch(i2, (i8 * i4 * i9), i1)) + (i6 * Composite{sgn((i0 * i1))}(i9, i5) * i5 * sgn(i9) * sgn(i5)) + (Composite{sgn((i0 * i1))}(i9, i5) * i9 * sgn(i9) * sgn(i5)) + Switch(i10, i1, Switch(i11, (i5 * Cast{float64}((-i12))), i1)) + Switch(i13, i1, Switch(i11, (i14 * i9 * Cast{float64}((-i15))), i1)))}}[(0, 3)](Elemwise{eq,no_inplace}.0, TensorConstant{(1,) of 0}, Elemwise{Composite{Cast{int8}((i0 * i1 * GT(i2, i3) * GT(i4, i3)))}}.0, omega, InplaceDimShuffle{x}.0, Elemwise{sub,no_inplace}.0, TensorConstant{(1,) of -1.0}, Elemwise{eq,no_inplace}.0, Elemwise{sub,no_inplace}.0, mu, Elemwise{eq,no_inplace}.0, Elemwise{Composite{Cast{int8}((GE(i0, i1) * LE(i0, i2) * i3 * i4))}}.0, Minibatch, Elemwise{eq,no_inplace}.0, TensorConstant{(1,) of -1.0}, Elemwise{sub,no_inplace}.0), Elemwise{Composite{Switch(i0, (-psi(i1)), i2)}}[(0, 1)](Elemwise{Composite{Cast{int8}((i0 * i1 * GT(i2, i3) * GT(i4, i3)))}}.0, Elemwise{add,no_inplace}.0, TensorConstant{(1,) of 0}), Elemwise{Composite{(Switch(i0, i1, Switch(i2, (-i3), i1)) + Switch(i2, psi(i4), i1) + i5)}}[(0, 3)](Elemwise{eq,no_inplace}.0, TensorConstant{(1,) of 0}, Elemwise{Composite{Cast{int8}((i0 * i1 * GT(i2, i3) * GT(i4, i3)))}}.0, Elemwise{Composite{log1p((-i0))}}.0, Elemwise{add,no_inplace}.0, Elemwise{Composite{Switch(i0, (-psi(i1)), i2)}}[(0, 1)].0), Elemwise{Composite{(Switch(i0, i1, Switch(i2, i3, i1)) + Switch(i2, psi(i4), i1) + i5)}}[(0, 4)](Elemwise{eq,no_inplace}.0, TensorConstant{(1,) of 0}, Elemwise{Composite{Cast{int8}((i0 * i1 * GT(i2, i3) * GT(i4, i3)))}}.0, Elemwise{Composite{scalar_softplus((-i0))}}.0, Elemwise{add,no_inplace}.0, Elemwise{Composite{Switch(i0, (-psi(i1)), i2)}}[(0, 1)].0)]]\n\nHINT: Re-running with most Theano optimization disabled could give you a back-trace of when this node was created. This can be done with by setting the Theano flag 'optimizer=fast_compile'. If that does not work, Theano optimizations can be disabled with 'optimizer=None'.\nHINT: Use the Theano flag 'exception_verbosity=high' for a debugprint and storage map footprint of this apply node.",
     "output_type": "error",
     "traceback": [
      "\u001b[0;31m---------------------------------------------------------------------------\u001b[0m",
      "\u001b[0;31mValueError\u001b[0m                                Traceback (most recent call last)",
      "\u001b[0;32m/Library/Frameworks/Python.framework/Versions/3.5/lib/python3.5/site-packages/theano/compile/function_module.py\u001b[0m in \u001b[0;36m__call__\u001b[0;34m(self, *args, **kwargs)\u001b[0m\n\u001b[1;32m    902\u001b[0m             \u001b[0moutputs\u001b[0m \u001b[0;34m=\u001b[0m\u001b[0;31m\\\u001b[0m\u001b[0;34m\u001b[0m\u001b[0m\n\u001b[0;32m--> 903\u001b[0;31m                 \u001b[0mself\u001b[0m\u001b[0;34m.\u001b[0m\u001b[0mfn\u001b[0m\u001b[0;34m(\u001b[0m\u001b[0;34m)\u001b[0m \u001b[0;32mif\u001b[0m \u001b[0moutput_subset\u001b[0m \u001b[0;32mis\u001b[0m \u001b[0;32mNone\u001b[0m \u001b[0;32melse\u001b[0m\u001b[0;31m\\\u001b[0m\u001b[0;34m\u001b[0m\u001b[0m\n\u001b[0m\u001b[1;32m    904\u001b[0m                 \u001b[0mself\u001b[0m\u001b[0;34m.\u001b[0m\u001b[0mfn\u001b[0m\u001b[0;34m(\u001b[0m\u001b[0moutput_subset\u001b[0m\u001b[0;34m=\u001b[0m\u001b[0moutput_subset\u001b[0m\u001b[0;34m)\u001b[0m\u001b[0;34m\u001b[0m\u001b[0m\n",
      "\u001b[0;31mValueError\u001b[0m: Input dimension mis-match. (input[0].shape[0] = 87301, input[2].shape[0] = 2000)",
      "\nDuring handling of the above exception, another exception occurred:\n",
      "\u001b[0;31mValueError\u001b[0m                                Traceback (most recent call last)",
      "\u001b[0;32m<ipython-input-56-05b111b8b1a4>\u001b[0m in \u001b[0;36m<module>\u001b[0;34m()\u001b[0m\n\u001b[1;32m      1\u001b[0m \u001b[0;32mwith\u001b[0m \u001b[0mmodel\u001b[0m\u001b[0;34m:\u001b[0m\u001b[0;34m\u001b[0m\u001b[0m\n\u001b[1;32m      2\u001b[0m     \u001b[0mapprox\u001b[0m \u001b[0;34m=\u001b[0m \u001b[0mpm\u001b[0m\u001b[0;34m.\u001b[0m\u001b[0mADVI\u001b[0m\u001b[0;34m(\u001b[0m\u001b[0;34m)\u001b[0m\u001b[0;34m\u001b[0m\u001b[0m\n\u001b[0;32m----> 3\u001b[0;31m     \u001b[0mapprox\u001b[0m\u001b[0;34m.\u001b[0m\u001b[0mfit\u001b[0m\u001b[0;34m(\u001b[0m\u001b[0;36m20000\u001b[0m\u001b[0;34m,\u001b[0m \u001b[0mmore_replacements\u001b[0m\u001b[0;34m=\u001b[0m\u001b[0mreplace_dict\u001b[0m\u001b[0;34m)\u001b[0m\u001b[0;34m\u001b[0m\u001b[0m\n\u001b[0m\u001b[1;32m      4\u001b[0m     \u001b[0mtrace\u001b[0m \u001b[0;34m=\u001b[0m \u001b[0mapprox\u001b[0m\u001b[0;34m.\u001b[0m\u001b[0mapprox\u001b[0m\u001b[0;34m.\u001b[0m\u001b[0msample\u001b[0m\u001b[0;34m(\u001b[0m\u001b[0;36m1000\u001b[0m\u001b[0;34m)\u001b[0m\u001b[0;34m\u001b[0m\u001b[0m\n",
      "\u001b[0;32m~/Documents/Github/pymc3/pymc3/variational/inference.py\u001b[0m in \u001b[0;36mfit\u001b[0;34m(self, n, score, callbacks, progressbar, **kwargs)\u001b[0m\n\u001b[1;32m    133\u001b[0m         \u001b[0;32mwith\u001b[0m \u001b[0mtqdm\u001b[0m\u001b[0;34m.\u001b[0m\u001b[0mtrange\u001b[0m\u001b[0;34m(\u001b[0m\u001b[0mn\u001b[0m\u001b[0;34m,\u001b[0m \u001b[0mdisable\u001b[0m\u001b[0;34m=\u001b[0m\u001b[0;32mnot\u001b[0m \u001b[0mprogressbar\u001b[0m\u001b[0;34m)\u001b[0m \u001b[0;32mas\u001b[0m \u001b[0mprogress\u001b[0m\u001b[0;34m:\u001b[0m\u001b[0;34m\u001b[0m\u001b[0m\n\u001b[1;32m    134\u001b[0m             \u001b[0;32mif\u001b[0m \u001b[0mscore\u001b[0m\u001b[0;34m:\u001b[0m\u001b[0;34m\u001b[0m\u001b[0m\n\u001b[0;32m--> 135\u001b[0;31m                 \u001b[0mstate\u001b[0m \u001b[0;34m=\u001b[0m \u001b[0mself\u001b[0m\u001b[0;34m.\u001b[0m\u001b[0m_iterate_with_loss\u001b[0m\u001b[0;34m(\u001b[0m\u001b[0;36m0\u001b[0m\u001b[0;34m,\u001b[0m \u001b[0mn\u001b[0m\u001b[0;34m,\u001b[0m \u001b[0mstep_func\u001b[0m\u001b[0;34m,\u001b[0m \u001b[0mprogress\u001b[0m\u001b[0;34m,\u001b[0m \u001b[0mcallbacks\u001b[0m\u001b[0;34m)\u001b[0m\u001b[0;34m\u001b[0m\u001b[0m\n\u001b[0m\u001b[1;32m    136\u001b[0m             \u001b[0;32melse\u001b[0m\u001b[0;34m:\u001b[0m\u001b[0;34m\u001b[0m\u001b[0m\n\u001b[1;32m    137\u001b[0m                 \u001b[0mstate\u001b[0m \u001b[0;34m=\u001b[0m \u001b[0mself\u001b[0m\u001b[0;34m.\u001b[0m\u001b[0m_iterate_without_loss\u001b[0m\u001b[0;34m(\u001b[0m\u001b[0;36m0\u001b[0m\u001b[0;34m,\u001b[0m \u001b[0mn\u001b[0m\u001b[0;34m,\u001b[0m \u001b[0mstep_func\u001b[0m\u001b[0;34m,\u001b[0m \u001b[0mprogress\u001b[0m\u001b[0;34m,\u001b[0m \u001b[0mcallbacks\u001b[0m\u001b[0;34m)\u001b[0m\u001b[0;34m\u001b[0m\u001b[0m\n",
      "\u001b[0;32m~/Documents/Github/pymc3/pymc3/variational/inference.py\u001b[0m in \u001b[0;36m_iterate_with_loss\u001b[0;34m(self, s, n, step_func, progress, callbacks)\u001b[0m\n\u001b[1;32m    175\u001b[0m         \u001b[0;32mtry\u001b[0m\u001b[0;34m:\u001b[0m\u001b[0;34m\u001b[0m\u001b[0m\n\u001b[1;32m    176\u001b[0m             \u001b[0;32mfor\u001b[0m \u001b[0mi\u001b[0m \u001b[0;32min\u001b[0m \u001b[0mprogress\u001b[0m\u001b[0;34m:\u001b[0m\u001b[0;34m\u001b[0m\u001b[0m\n\u001b[0;32m--> 177\u001b[0;31m                 \u001b[0me\u001b[0m \u001b[0;34m=\u001b[0m \u001b[0mstep_func\u001b[0m\u001b[0;34m(\u001b[0m\u001b[0;34m)\u001b[0m\u001b[0;34m\u001b[0m\u001b[0m\n\u001b[0m\u001b[1;32m    178\u001b[0m                 \u001b[0;32mif\u001b[0m \u001b[0mnp\u001b[0m\u001b[0;34m.\u001b[0m\u001b[0misnan\u001b[0m\u001b[0;34m(\u001b[0m\u001b[0me\u001b[0m\u001b[0;34m)\u001b[0m\u001b[0;34m:\u001b[0m  \u001b[0;31m# pragma: no cover\u001b[0m\u001b[0;34m\u001b[0m\u001b[0m\n\u001b[1;32m    179\u001b[0m                     \u001b[0mscores\u001b[0m \u001b[0;34m=\u001b[0m \u001b[0mscores\u001b[0m\u001b[0;34m[\u001b[0m\u001b[0;34m:\u001b[0m\u001b[0mi\u001b[0m\u001b[0;34m]\u001b[0m\u001b[0;34m\u001b[0m\u001b[0m\n",
      "\u001b[0;32m/Library/Frameworks/Python.framework/Versions/3.5/lib/python3.5/site-packages/theano/compile/function_module.py\u001b[0m in \u001b[0;36m__call__\u001b[0;34m(self, *args, **kwargs)\u001b[0m\n\u001b[1;32m    915\u001b[0m                     \u001b[0mnode\u001b[0m\u001b[0;34m=\u001b[0m\u001b[0mself\u001b[0m\u001b[0;34m.\u001b[0m\u001b[0mfn\u001b[0m\u001b[0;34m.\u001b[0m\u001b[0mnodes\u001b[0m\u001b[0;34m[\u001b[0m\u001b[0mself\u001b[0m\u001b[0;34m.\u001b[0m\u001b[0mfn\u001b[0m\u001b[0;34m.\u001b[0m\u001b[0mposition_of_error\u001b[0m\u001b[0;34m]\u001b[0m\u001b[0;34m,\u001b[0m\u001b[0;34m\u001b[0m\u001b[0m\n\u001b[1;32m    916\u001b[0m                     \u001b[0mthunk\u001b[0m\u001b[0;34m=\u001b[0m\u001b[0mthunk\u001b[0m\u001b[0;34m,\u001b[0m\u001b[0;34m\u001b[0m\u001b[0m\n\u001b[0;32m--> 917\u001b[0;31m                     storage_map=getattr(self.fn, 'storage_map', None))\n\u001b[0m\u001b[1;32m    918\u001b[0m             \u001b[0;32melse\u001b[0m\u001b[0;34m:\u001b[0m\u001b[0;34m\u001b[0m\u001b[0m\n\u001b[1;32m    919\u001b[0m                 \u001b[0;31m# old-style linkers raise their own exceptions\u001b[0m\u001b[0;34m\u001b[0m\u001b[0;34m\u001b[0m\u001b[0m\n",
      "\u001b[0;32m/Library/Frameworks/Python.framework/Versions/3.5/lib/python3.5/site-packages/theano/gof/link.py\u001b[0m in \u001b[0;36mraise_with_op\u001b[0;34m(node, thunk, exc_info, storage_map)\u001b[0m\n\u001b[1;32m    323\u001b[0m         \u001b[0;31m# extra long error message in that case.\u001b[0m\u001b[0;34m\u001b[0m\u001b[0;34m\u001b[0m\u001b[0m\n\u001b[1;32m    324\u001b[0m         \u001b[0;32mpass\u001b[0m\u001b[0;34m\u001b[0m\u001b[0m\n\u001b[0;32m--> 325\u001b[0;31m     \u001b[0mreraise\u001b[0m\u001b[0;34m(\u001b[0m\u001b[0mexc_type\u001b[0m\u001b[0;34m,\u001b[0m \u001b[0mexc_value\u001b[0m\u001b[0;34m,\u001b[0m \u001b[0mexc_trace\u001b[0m\u001b[0;34m)\u001b[0m\u001b[0;34m\u001b[0m\u001b[0m\n\u001b[0m\u001b[1;32m    326\u001b[0m \u001b[0;34m\u001b[0m\u001b[0m\n\u001b[1;32m    327\u001b[0m \u001b[0;34m\u001b[0m\u001b[0m\n",
      "\u001b[0;32m/Library/Frameworks/Python.framework/Versions/3.5/lib/python3.5/site-packages/six.py\u001b[0m in \u001b[0;36mreraise\u001b[0;34m(tp, value, tb)\u001b[0m\n\u001b[1;32m    690\u001b[0m                 \u001b[0mvalue\u001b[0m \u001b[0;34m=\u001b[0m \u001b[0mtp\u001b[0m\u001b[0;34m(\u001b[0m\u001b[0;34m)\u001b[0m\u001b[0;34m\u001b[0m\u001b[0m\n\u001b[1;32m    691\u001b[0m             \u001b[0;32mif\u001b[0m \u001b[0mvalue\u001b[0m\u001b[0;34m.\u001b[0m\u001b[0m__traceback__\u001b[0m \u001b[0;32mis\u001b[0m \u001b[0;32mnot\u001b[0m \u001b[0mtb\u001b[0m\u001b[0;34m:\u001b[0m\u001b[0;34m\u001b[0m\u001b[0m\n\u001b[0;32m--> 692\u001b[0;31m                 \u001b[0;32mraise\u001b[0m \u001b[0mvalue\u001b[0m\u001b[0;34m.\u001b[0m\u001b[0mwith_traceback\u001b[0m\u001b[0;34m(\u001b[0m\u001b[0mtb\u001b[0m\u001b[0;34m)\u001b[0m\u001b[0;34m\u001b[0m\u001b[0m\n\u001b[0m\u001b[1;32m    693\u001b[0m             \u001b[0;32mraise\u001b[0m \u001b[0mvalue\u001b[0m\u001b[0;34m\u001b[0m\u001b[0m\n\u001b[1;32m    694\u001b[0m         \u001b[0;32mfinally\u001b[0m\u001b[0;34m:\u001b[0m\u001b[0;34m\u001b[0m\u001b[0m\n",
      "\u001b[0;32m/Library/Frameworks/Python.framework/Versions/3.5/lib/python3.5/site-packages/theano/compile/function_module.py\u001b[0m in \u001b[0;36m__call__\u001b[0;34m(self, *args, **kwargs)\u001b[0m\n\u001b[1;32m    901\u001b[0m         \u001b[0;32mtry\u001b[0m\u001b[0;34m:\u001b[0m\u001b[0;34m\u001b[0m\u001b[0m\n\u001b[1;32m    902\u001b[0m             \u001b[0moutputs\u001b[0m \u001b[0;34m=\u001b[0m\u001b[0;31m\\\u001b[0m\u001b[0;34m\u001b[0m\u001b[0m\n\u001b[0;32m--> 903\u001b[0;31m                 \u001b[0mself\u001b[0m\u001b[0;34m.\u001b[0m\u001b[0mfn\u001b[0m\u001b[0;34m(\u001b[0m\u001b[0;34m)\u001b[0m \u001b[0;32mif\u001b[0m \u001b[0moutput_subset\u001b[0m \u001b[0;32mis\u001b[0m \u001b[0;32mNone\u001b[0m \u001b[0;32melse\u001b[0m\u001b[0;31m\\\u001b[0m\u001b[0;34m\u001b[0m\u001b[0m\n\u001b[0m\u001b[1;32m    904\u001b[0m                 \u001b[0mself\u001b[0m\u001b[0;34m.\u001b[0m\u001b[0mfn\u001b[0m\u001b[0;34m(\u001b[0m\u001b[0moutput_subset\u001b[0m\u001b[0;34m=\u001b[0m\u001b[0moutput_subset\u001b[0m\u001b[0;34m)\u001b[0m\u001b[0;34m\u001b[0m\u001b[0m\n\u001b[1;32m    905\u001b[0m         \u001b[0;32mexcept\u001b[0m \u001b[0mException\u001b[0m\u001b[0;34m:\u001b[0m\u001b[0;34m\u001b[0m\u001b[0m\n",
      "\u001b[0;31mValueError\u001b[0m: Input dimension mis-match. (input[0].shape[0] = 87301, input[2].shape[0] = 2000)\nApply node that caused the error: Elemwise{Composite{Cast{int8}((i0 * i1 * GT(i2, i3) * GT(i4, i3)))}}(Elemwise{ge,no_inplace}.0, Elemwise{le,no_inplace}.0, Elemwise{add,no_inplace}.0, TensorConstant{(1,) of 0}, Elemwise{add,no_inplace}.0)\nToposort index: 168\nInputs types: [TensorType(bool, vector), TensorType(bool, vector), TensorType(float64, vector), TensorType(int8, (True,)), TensorType(float64, vector)]\nInputs shapes: [(87301,), (87301,), (2000,), (1,), (2000,)]\nInputs strides: [(1,), (1,), (8,), (1,), (8,)]\nInputs values: ['not shown', 'not shown', 'not shown', array([0], dtype=int8), 'not shown']\nOutputs clients: [[Elemwise{Composite{(Switch(i0, ((Switch(i1, i2, (i3 * i4 * i5)) + Switch(i6, i2, (i7 * i8))) - ((scalar_gammaln(i9) + scalar_gammaln(i10)) - scalar_gammaln(i11))), i12) + log(Abs((i13 * i14))))}}[(0, 4)](Elemwise{Composite{Cast{int8}((i0 * i1 * GT(i2, i3) * GT(i4, i3)))}}.0, Elemwise{eq,no_inplace}.0, TensorConstant{(1,) of 0}, TensorConstant{(1,) of -1.0}, Elemwise{mul,no_inplace}.0, Elemwise{Composite{scalar_softplus((-i0))}}.0, Elemwise{eq,no_inplace}.0, Elemwise{mul,no_inplace}.0, Elemwise{Composite{log1p((-i0))}}.0, Elemwise{add,no_inplace}.0, Elemwise{add,no_inplace}.0, Elemwise{add,no_inplace}.0, TensorConstant{(1,) of -inf}, mu, Elemwise{sub,no_inplace}.0), Elemwise{Composite{(Switch(i0, i1, Switch(i2, (i3 * i4 * i5 * i6), i1)) + Switch(i7, i1, Switch(i2, (i8 * i4 * i9), i1)) + (i6 * Composite{sgn((i0 * i1))}(i9, i5) * i5 * sgn(i9) * sgn(i5)) + (Composite{sgn((i0 * i1))}(i9, i5) * i9 * sgn(i9) * sgn(i5)) + Switch(i10, i1, Switch(i11, (i5 * Cast{float64}((-i12))), i1)) + Switch(i13, i1, Switch(i11, (i14 * i9 * Cast{float64}((-i15))), i1)))}}[(0, 3)](Elemwise{eq,no_inplace}.0, TensorConstant{(1,) of 0}, Elemwise{Composite{Cast{int8}((i0 * i1 * GT(i2, i3) * GT(i4, i3)))}}.0, omega, InplaceDimShuffle{x}.0, Elemwise{sub,no_inplace}.0, TensorConstant{(1,) of -1.0}, Elemwise{eq,no_inplace}.0, Elemwise{sub,no_inplace}.0, mu, Elemwise{eq,no_inplace}.0, Elemwise{Composite{Cast{int8}((GE(i0, i1) * LE(i0, i2) * i3 * i4))}}.0, Minibatch, Elemwise{eq,no_inplace}.0, TensorConstant{(1,) of -1.0}, Elemwise{sub,no_inplace}.0), Elemwise{Composite{Switch(i0, (-psi(i1)), i2)}}[(0, 1)](Elemwise{Composite{Cast{int8}((i0 * i1 * GT(i2, i3) * GT(i4, i3)))}}.0, Elemwise{add,no_inplace}.0, TensorConstant{(1,) of 0}), Elemwise{Composite{(Switch(i0, i1, Switch(i2, (-i3), i1)) + Switch(i2, psi(i4), i1) + i5)}}[(0, 3)](Elemwise{eq,no_inplace}.0, TensorConstant{(1,) of 0}, Elemwise{Composite{Cast{int8}((i0 * i1 * GT(i2, i3) * GT(i4, i3)))}}.0, Elemwise{Composite{log1p((-i0))}}.0, Elemwise{add,no_inplace}.0, Elemwise{Composite{Switch(i0, (-psi(i1)), i2)}}[(0, 1)].0), Elemwise{Composite{(Switch(i0, i1, Switch(i2, i3, i1)) + Switch(i2, psi(i4), i1) + i5)}}[(0, 4)](Elemwise{eq,no_inplace}.0, TensorConstant{(1,) of 0}, Elemwise{Composite{Cast{int8}((i0 * i1 * GT(i2, i3) * GT(i4, i3)))}}.0, Elemwise{Composite{scalar_softplus((-i0))}}.0, Elemwise{add,no_inplace}.0, Elemwise{Composite{Switch(i0, (-psi(i1)), i2)}}[(0, 1)].0)]]\n\nHINT: Re-running with most Theano optimization disabled could give you a back-trace of when this node was created. This can be done with by setting the Theano flag 'optimizer=fast_compile'. If that does not work, Theano optimizations can be disabled with 'optimizer=None'.\nHINT: Use the Theano flag 'exception_verbosity=high' for a debugprint and storage map footprint of this apply node."
     ]
    }
   ],
   "source": [
    "with model:\n",
    "    approx = pm.ADVI()\n",
    "    approx.fit(20000, more_replacements=replace_dict)\n",
    "    trace = approx.approx.sample(1000)"
   ]
  },
  {
   "cell_type": "code",
   "execution_count": 48,
   "metadata": {},
   "outputs": [
    {
     "name": "stderr",
     "output_type": "stream",
     "text": [
      "  0%|          | 0/100 [00:00<?, ?it/s]\n"
     ]
    },
    {
     "ename": "TypeError",
     "evalue": "object of type 'NoneType' has no len()",
     "output_type": "error",
     "traceback": [
      "\u001b[0;31m---------------------------------------------------------------------------\u001b[0m",
      "\u001b[0;31mTypeError\u001b[0m                                 Traceback (most recent call last)",
      "\u001b[0;32m<ipython-input-48-c1efe22cbf7a>\u001b[0m in \u001b[0;36m<module>\u001b[0;34m()\u001b[0m\n\u001b[1;32m     11\u001b[0m \u001b[0mmodel_predi\u001b[0m \u001b[0;34m=\u001b[0m \u001b[0mconstruct_model\u001b[0m\u001b[0;34m(\u001b[0m\u001b[0mmodel_variables\u001b[0m\u001b[0;34m,\u001b[0m \u001b[0mencoders\u001b[0m\u001b[0;34m,\u001b[0m \u001b[0mtest\u001b[0m\u001b[0;34m.\u001b[0m\u001b[0my\u001b[0m\u001b[0;34m.\u001b[0m\u001b[0mvalues\u001b[0m\u001b[0;34m.\u001b[0m\u001b[0mshape\u001b[0m\u001b[0;34m)\u001b[0m\u001b[0;34m\u001b[0m\u001b[0m\n\u001b[1;32m     12\u001b[0m \u001b[0;34m\u001b[0m\u001b[0m\n\u001b[0;32m---> 13\u001b[0;31m \u001b[0mppc\u001b[0m \u001b[0;34m=\u001b[0m \u001b[0mpm\u001b[0m\u001b[0;34m.\u001b[0m\u001b[0msample_ppc\u001b[0m\u001b[0;34m(\u001b[0m\u001b[0mtrace\u001b[0m\u001b[0;34m,\u001b[0m \u001b[0msamples\u001b[0m\u001b[0;34m=\u001b[0m\u001b[0;36m100\u001b[0m\u001b[0;34m,\u001b[0m \u001b[0mmodel\u001b[0m\u001b[0;34m=\u001b[0m\u001b[0mmodel_predi\u001b[0m\u001b[0;34m)\u001b[0m\u001b[0;34m\u001b[0m\u001b[0m\n\u001b[0m",
      "\u001b[0;32m~/Documents/Github/pymc3/pymc3/sampling.py\u001b[0m in \u001b[0;36msample_ppc\u001b[0;34m(trace, samples, model, vars, size, random_seed, progressbar)\u001b[0m\n\u001b[1;32m   1064\u001b[0m             \u001b[0;32mfor\u001b[0m \u001b[0mvar\u001b[0m \u001b[0;32min\u001b[0m \u001b[0mvars\u001b[0m\u001b[0;34m:\u001b[0m\u001b[0;34m\u001b[0m\u001b[0m\n\u001b[1;32m   1065\u001b[0m                 ppc[var.name].append(var.distribution.random(point=param,\n\u001b[0;32m-> 1066\u001b[0;31m                                                              size=size))\n\u001b[0m\u001b[1;32m   1067\u001b[0m \u001b[0;34m\u001b[0m\u001b[0m\n\u001b[1;32m   1068\u001b[0m     \u001b[0;32mexcept\u001b[0m \u001b[0mKeyboardInterrupt\u001b[0m\u001b[0;34m:\u001b[0m\u001b[0;34m\u001b[0m\u001b[0m\n",
      "\u001b[0;32m~/Documents/Github/pymc3/pymc3/distributions/discrete.py\u001b[0m in \u001b[0;36mrandom\u001b[0;34m(self, point, size)\u001b[0m\n\u001b[1;32m     70\u001b[0m         return generate_samples(stats.binom.rvs, n=n, p=p,\n\u001b[1;32m     71\u001b[0m                                 \u001b[0mdist_shape\u001b[0m\u001b[0;34m=\u001b[0m\u001b[0mself\u001b[0m\u001b[0;34m.\u001b[0m\u001b[0mshape\u001b[0m\u001b[0;34m,\u001b[0m\u001b[0;34m\u001b[0m\u001b[0m\n\u001b[0;32m---> 72\u001b[0;31m                                 size=size)\n\u001b[0m\u001b[1;32m     73\u001b[0m \u001b[0;34m\u001b[0m\u001b[0m\n\u001b[1;32m     74\u001b[0m     \u001b[0;32mdef\u001b[0m \u001b[0mlogp\u001b[0m\u001b[0;34m(\u001b[0m\u001b[0mself\u001b[0m\u001b[0;34m,\u001b[0m \u001b[0mvalue\u001b[0m\u001b[0;34m)\u001b[0m\u001b[0;34m:\u001b[0m\u001b[0;34m\u001b[0m\u001b[0m\n",
      "\u001b[0;32m~/Documents/Github/pymc3/pymc3/distributions/distribution.py\u001b[0m in \u001b[0;36mgenerate_samples\u001b[0;34m(generator, *args, **kwargs)\u001b[0m\n\u001b[1;32m    414\u001b[0m         \u001b[0mkwargs\u001b[0m\u001b[0;34m[\u001b[0m\u001b[0mkey\u001b[0m\u001b[0;34m]\u001b[0m \u001b[0;34m=\u001b[0m \u001b[0mp\u001b[0m\u001b[0;34m[\u001b[0m\u001b[0;36m0\u001b[0m\u001b[0;34m]\u001b[0m \u001b[0;32mif\u001b[0m \u001b[0misinstance\u001b[0m\u001b[0;34m(\u001b[0m\u001b[0mp\u001b[0m\u001b[0;34m,\u001b[0m \u001b[0mtuple\u001b[0m\u001b[0;34m)\u001b[0m \u001b[0;32melse\u001b[0m \u001b[0mp\u001b[0m\u001b[0;34m\u001b[0m\u001b[0m\n\u001b[1;32m    415\u001b[0m \u001b[0;34m\u001b[0m\u001b[0m\n\u001b[0;32m--> 416\u001b[0;31m     \u001b[0;32mif\u001b[0m \u001b[0mnp\u001b[0m\u001b[0;34m.\u001b[0m\u001b[0mall\u001b[0m\u001b[0;34m(\u001b[0m\u001b[0mdist_shape\u001b[0m\u001b[0;34m[\u001b[0m\u001b[0;34m-\u001b[0m\u001b[0mlen\u001b[0m\u001b[0;34m(\u001b[0m\u001b[0mbroadcast_shape\u001b[0m\u001b[0;34m)\u001b[0m\u001b[0;34m:\u001b[0m\u001b[0;34m]\u001b[0m \u001b[0;34m==\u001b[0m \u001b[0mbroadcast_shape\u001b[0m\u001b[0;34m)\u001b[0m\u001b[0;34m:\u001b[0m\u001b[0;34m\u001b[0m\u001b[0m\n\u001b[0m\u001b[1;32m    417\u001b[0m         \u001b[0mprefix_shape\u001b[0m \u001b[0;34m=\u001b[0m \u001b[0mtuple\u001b[0m\u001b[0;34m(\u001b[0m\u001b[0mdist_shape\u001b[0m\u001b[0;34m[\u001b[0m\u001b[0;34m:\u001b[0m\u001b[0;34m-\u001b[0m\u001b[0mlen\u001b[0m\u001b[0;34m(\u001b[0m\u001b[0mbroadcast_shape\u001b[0m\u001b[0;34m)\u001b[0m\u001b[0;34m]\u001b[0m\u001b[0;34m)\u001b[0m\u001b[0;34m\u001b[0m\u001b[0m\n\u001b[1;32m    418\u001b[0m     \u001b[0;32melse\u001b[0m\u001b[0;34m:\u001b[0m\u001b[0;34m\u001b[0m\u001b[0m\n",
      "\u001b[0;31mTypeError\u001b[0m: object of type 'NoneType' has no len()"
     ]
    }
   ],
   "source": [
    "# creating shared variables results in no error in test point evaluation\n",
    "model_variables = {}\n",
    "\n",
    "# Nominal Predictors of model\n",
    "for predictor in predictors:\n",
    "    model_variables[predictor] = shared(test[predictor].values)\n",
    "\n",
    "model_variables['y_obs'] = shared(test.y.values)\n",
    "model_variables['n'] = shared(test.n.values)\n",
    "\n",
    "model_predi = construct_model(model_variables, encoders, test.y.values.shape)\n",
    "\n",
    "ppc = pm.sample_ppc(trace, samples=100, model=model_predi)"
   ]
  },
  {
   "cell_type": "code",
   "execution_count": 46,
   "metadata": {},
   "outputs": [
    {
     "data": {
      "text/plain": [
       "(48167,)"
      ]
     },
     "execution_count": 46,
     "metadata": {},
     "output_type": "execute_result"
    }
   ],
   "source": [
    "model_variables['n'].eval().shape"
   ]
  },
  {
   "cell_type": "code",
   "execution_count": 47,
   "metadata": {},
   "outputs": [
    {
     "data": {
      "text/plain": [
       "(100, 2000)"
      ]
     },
     "execution_count": 47,
     "metadata": {},
     "output_type": "execute_result"
    }
   ],
   "source": [
    "ppc['likelihood'].shape"
   ]
  },
  {
   "cell_type": "code",
   "execution_count": 41,
   "metadata": {},
   "outputs": [],
   "source": [
    "pm.Minibatch?"
   ]
  }
 ],
 "metadata": {
  "kernelspec": {
   "display_name": "Python 3",
   "language": "python",
   "name": "python3"
  },
  "language_info": {
   "codemirror_mode": {
    "name": "ipython",
    "version": 3
   },
   "file_extension": ".py",
   "mimetype": "text/x-python",
   "name": "python",
   "nbconvert_exporter": "python",
   "pygments_lexer": "ipython3",
   "version": "3.5.1"
  }
 },
 "nbformat": 4,
 "nbformat_minor": 2
}
