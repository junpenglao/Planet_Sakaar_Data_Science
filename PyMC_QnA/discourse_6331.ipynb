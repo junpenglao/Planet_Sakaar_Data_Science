{
 "cells": [
  {
   "cell_type": "markdown",
   "metadata": {},
   "source": [
    "[From the Stan Manual](https://mc-stan.org/docs/2_25/reference-manual/change-of-variables-section.html#multivariate-changes-of-variables):\n",
    "\n",
    "> Suppose $X$ is a $K$-dimensional random variable with probability density function $p_X(x)$. A new random variable $Y = f ( X )$ may be defined by transforming $X$ with a suitably well-behaved function $f $. It suffices for what follows to note that if $f$ is one-to-one and its inverse $f ^ {− 1}$ has a well-defined Jacobian, then the density of $Y$ is \n",
    "$$\n",
    "p_Y ( y ) = p_X ( f ^ {− 1} ( y ) ) ∣ det J _ {f ^{ − 1}} ( y ) |\n",
    "$$\n",
    "\n",
    "Here we have $p_X(a, b) \\sim \\text{Uniform}$, with $a = \\frac{\\alpha}{\\alpha + \\beta}, b = (\\alpha + \\beta)^{-1/2}$"
   ]
  },
  {
   "cell_type": "code",
   "execution_count": 1,
   "metadata": {},
   "outputs": [],
   "source": [
    "from sympy import symbols, Matrix, simplify, solve, Eq, Abs, log"
   ]
  },
  {
   "cell_type": "code",
   "execution_count": 2,
   "metadata": {},
   "outputs": [
    {
     "data": {
      "text/plain": [
       "{alpha: a/b**2, beta: (1.0 - a)/b**2}"
      ]
     },
     "execution_count": 2,
     "metadata": {},
     "output_type": "execute_result"
    }
   ],
   "source": [
    "alpha, beta = symbols('alpha, beta', positive=True)\n",
    "a, b = symbols('a b')\n",
    "f = solve((Eq(alpha / (alpha + beta), a),\n",
    "           Eq((alpha + beta)**(-1/2), b)),\n",
    "          alpha, beta)\n",
    "f"
   ]
  },
  {
   "cell_type": "code",
   "execution_count": 3,
   "metadata": {},
   "outputs": [
    {
     "data": {
      "text/plain": [
       "{b: 1/sqrt(alpha + beta), a: alpha/(alpha + beta)}"
      ]
     },
     "execution_count": 3,
     "metadata": {},
     "output_type": "execute_result"
    }
   ],
   "source": [
    "f_inv = solve((Eq(alpha / (alpha + beta), a),\n",
    "               Eq((alpha + beta)**(-1/2), b)),\n",
    "              a, b)\n",
    "f_inv"
   ]
  },
  {
   "cell_type": "code",
   "execution_count": 4,
   "metadata": {},
   "outputs": [
    {
     "data": {
      "text/latex": [
       "$\\displaystyle \\frac{0.5}{\\left(\\alpha + \\beta\\right)^{2.5}}$"
      ],
      "text/plain": [
       "0.5*(alpha + beta)**(-2.5)"
      ]
     },
     "execution_count": 4,
     "metadata": {},
     "output_type": "execute_result"
    }
   ],
   "source": [
    "X = Matrix([f_inv[a], f_inv[b]])\n",
    "Y = Matrix([alpha, beta])\n",
    "det = X.jacobian(Y).det()\n",
    "det = det.subs([\n",
    "    (alpha, f[alpha]),\n",
    "    (beta, f[beta])]).subs(b, (alpha + beta)**(-1/2))\n",
    "p_a_b = simplify(Abs(det))\n",
    "p_a_b"
   ]
  },
  {
   "cell_type": "code",
   "execution_count": 5,
   "metadata": {},
   "outputs": [],
   "source": [
    "x, y = symbols('x y')\n",
    "rewrited = solve((Eq(x, log(alpha / beta)),\n",
    "                  Eq(y, log(alpha + beta))),\n",
    "                 alpha, beta)"
   ]
  },
  {
   "cell_type": "code",
   "execution_count": 6,
   "metadata": {},
   "outputs": [
    {
     "data": {
      "text/plain": [
       "{beta: exp(y)/(exp(x) + 1), alpha: exp(x + y)/(exp(x) + 1)}"
      ]
     },
     "execution_count": 6,
     "metadata": {},
     "output_type": "execute_result"
    }
   ],
   "source": [
    "rewrited"
   ]
  },
  {
   "cell_type": "code",
   "execution_count": 7,
   "metadata": {},
   "outputs": [
    {
     "data": {
      "text/latex": [
       "$\\displaystyle \\frac{0.5 \\alpha \\beta}{\\left(\\alpha + \\beta\\right)^{2.5}}$"
      ],
      "text/plain": [
       "0.5*alpha*beta*(alpha + beta)**(-2.5)"
      ]
     },
     "execution_count": 7,
     "metadata": {},
     "output_type": "execute_result"
    }
   ],
   "source": [
    "X = Matrix([rewrited[alpha], rewrited[beta]])\n",
    "Y = Matrix([x, y])\n",
    "det = X.jacobian(Y).det().subs([\n",
    "  (x, log(alpha / beta)),\n",
    "  (y, log(alpha + beta))])\n",
    "simplify(Abs(det)) * p_a_b"
   ]
  },
  {
   "cell_type": "code",
   "execution_count": null,
   "metadata": {},
   "outputs": [],
   "source": []
  }
 ],
 "metadata": {
  "kernelspec": {
   "display_name": "Python 3",
   "language": "python",
   "name": "python3"
  },
  "language_info": {
   "codemirror_mode": {
    "name": "ipython",
    "version": 3
   },
   "file_extension": ".py",
   "mimetype": "text/x-python",
   "name": "python",
   "nbconvert_exporter": "python",
   "pygments_lexer": "ipython3",
   "version": "3.8.3"
  }
 },
 "nbformat": 4,
 "nbformat_minor": 4
}
