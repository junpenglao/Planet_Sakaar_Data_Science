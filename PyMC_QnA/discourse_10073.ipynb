{
 "cells": [
  {
   "cell_type": "code",
   "execution_count": 1,
   "id": "1c365397-9dc9-4e45-93d9-a56a3717a3ed",
   "metadata": {},
   "outputs": [
    {
     "name": "stderr",
     "output_type": "stream",
     "text": [
      "WARNING (aesara.tensor.blas): Using NumPy C-API based implementation for BLAS functions.\n"
     ]
    }
   ],
   "source": [
    "import pymc as pm\n",
    "import numpy as np\n",
    "import aesara\n",
    "import aesara.tensor as at\n",
    "import arviz as az\n",
    "# Simulate some data\n",
    "N_samples = 100\n",
    "p_NaN = 0.1\n",
    "rng = np.random.RandomState(123)\n",
    "x = rng.normal(10., 2., size=N_samples)\n",
    "x[rng.rand(N_samples) < p_NaN] = np.nan\n",
    "\n",
    "a, b = 2., 1.\n",
    "sigma = 2.\n",
    "y = a*x + b + rng.normal(0.0, sigma, size=N_samples)\n",
    "y[np.isnan(y)] = 0.0"
   ]
  },
  {
   "cell_type": "code",
   "execution_count": 2,
   "id": "39067fcf-e214-45ce-afac-0db5f685c8a6",
   "metadata": {},
   "outputs": [],
   "source": [
    "x_b = np.ones_like(x)\n",
    "x_copy = x.copy()\n",
    "x_copy[np.isnan(x)] = 0.\n",
    "x_b[np.isnan(x)] = 0."
   ]
  },
  {
   "cell_type": "code",
   "execution_count": 3,
   "id": "ee716c23-da85-41f7-ae91-d047dd1401f4",
   "metadata": {},
   "outputs": [
    {
     "name": "stderr",
     "output_type": "stream",
     "text": [
      "Auto-assigning NUTS sampler...\n",
      "Initializing NUTS using jitter+adapt_diag...\n",
      "Multiprocess sampling (4 chains in 4 jobs)\n",
      "NUTS: [a, b, sigma]\n",
      "WARNING (aesara.tensor.blas): Using NumPy C-API based implementation for BLAS functions.\n",
      "WARNING (aesara.tensor.blas): Using NumPy C-API based implementation for BLAS functions.\n",
      "WARNING (aesara.tensor.blas): Using NumPy C-API based implementation for BLAS functions.\n",
      "WARNING (aesara.tensor.blas): Using NumPy C-API based implementation for BLAS functions.\n"
     ]
    },
    {
     "data": {
      "text/html": [
       "\n",
       "    <div>\n",
       "        <style>\n",
       "            /* Turns off some styling */\n",
       "            progress {\n",
       "                /* gets rid of default border in Firefox and Opera. */\n",
       "                border: none;\n",
       "                /* Needs to be in here for Safari polyfill so background images work as expected. */\n",
       "                background-size: auto;\n",
       "            }\n",
       "            .progress-bar-interrupted, .progress-bar-interrupted::-webkit-progress-bar {\n",
       "                background: #F44336;\n",
       "            }\n",
       "        </style>\n",
       "      <progress value='8000' class='' max='8000' style='width:300px; height:20px; vertical-align: middle;'></progress>\n",
       "      100.00% [8000/8000 00:04<00:00 Sampling 4 chains, 0 divergences]\n",
       "    </div>\n",
       "    "
      ],
      "text/plain": [
       "<IPython.core.display.HTML object>"
      ]
     },
     "metadata": {},
     "output_type": "display_data"
    },
    {
     "name": "stderr",
     "output_type": "stream",
     "text": [
      "Sampling 4 chains for 1_000 tune and 1_000 draw iterations (4_000 + 4_000 draws total) took 22 seconds.\n",
      "The acceptance probability does not match the target. It is 0.8994, but should be close to 0.8. Try to increase the number of tuning steps.\n",
      "/opt/miniconda3/envs/aesara-dev/lib/python3.9/site-packages/numba/core/dispatcher.py:241: UserWarning: Numba extension module 'numba_scipy' failed to load due to 'ValueError(No function '__pyx_fuse_0pdtr' found in __pyx_capi__ of 'scipy.special.cython_special')'.\n",
      "  entrypoints.init_all()\n"
     ]
    }
   ],
   "source": [
    "sigma_fixed = aesara.shared(.1)\n",
    "\n",
    "with pm.Model() as model_1:\n",
    "    a = pm.Normal('a', 0.0, 1.0)\n",
    "    b = pm.Normal('b', 0.0, 1.0)\n",
    "    sigma = pm.Exponential('sigma', 1.0)\n",
    "    sigma_ = at.stack([sigma, sigma_fixed])\n",
    "    mu = a * x_copy + b * x_b\n",
    "    y_normal = pm.Normal('y_normal', mu, sigma_[np.isnan(x).astype(int)], observed=y)\n",
    "    idata = pm.sample()"
   ]
  },
  {
   "cell_type": "code",
   "execution_count": 4,
   "id": "cf8f711f-3c51-436a-894e-c4b87b79d689",
   "metadata": {},
   "outputs": [
    {
     "data": {
      "text/html": [
       "<div>\n",
       "<style scoped>\n",
       "    .dataframe tbody tr th:only-of-type {\n",
       "        vertical-align: middle;\n",
       "    }\n",
       "\n",
       "    .dataframe tbody tr th {\n",
       "        vertical-align: top;\n",
       "    }\n",
       "\n",
       "    .dataframe thead th {\n",
       "        text-align: right;\n",
       "    }\n",
       "</style>\n",
       "<table border=\"1\" class=\"dataframe\">\n",
       "  <thead>\n",
       "    <tr style=\"text-align: right;\">\n",
       "      <th></th>\n",
       "      <th>mean</th>\n",
       "      <th>sd</th>\n",
       "      <th>hdi_3%</th>\n",
       "      <th>hdi_97%</th>\n",
       "      <th>mcse_mean</th>\n",
       "      <th>mcse_sd</th>\n",
       "      <th>ess_bulk</th>\n",
       "      <th>ess_tail</th>\n",
       "      <th>r_hat</th>\n",
       "    </tr>\n",
       "  </thead>\n",
       "  <tbody>\n",
       "    <tr>\n",
       "      <th>a</th>\n",
       "      <td>2.021</td>\n",
       "      <td>0.073</td>\n",
       "      <td>1.891</td>\n",
       "      <td>2.163</td>\n",
       "      <td>0.002</td>\n",
       "      <td>0.001</td>\n",
       "      <td>1340.0</td>\n",
       "      <td>1584.0</td>\n",
       "      <td>1.01</td>\n",
       "    </tr>\n",
       "    <tr>\n",
       "      <th>b</th>\n",
       "      <td>0.352</td>\n",
       "      <td>0.719</td>\n",
       "      <td>-0.885</td>\n",
       "      <td>1.769</td>\n",
       "      <td>0.020</td>\n",
       "      <td>0.014</td>\n",
       "      <td>1362.0</td>\n",
       "      <td>1525.0</td>\n",
       "      <td>1.00</td>\n",
       "    </tr>\n",
       "    <tr>\n",
       "      <th>sigma</th>\n",
       "      <td>2.006</td>\n",
       "      <td>0.151</td>\n",
       "      <td>1.736</td>\n",
       "      <td>2.287</td>\n",
       "      <td>0.004</td>\n",
       "      <td>0.003</td>\n",
       "      <td>1810.0</td>\n",
       "      <td>1825.0</td>\n",
       "      <td>1.00</td>\n",
       "    </tr>\n",
       "  </tbody>\n",
       "</table>\n",
       "</div>"
      ],
      "text/plain": [
       "        mean     sd  hdi_3%  hdi_97%  mcse_mean  mcse_sd  ess_bulk  ess_tail  \\\n",
       "a      2.021  0.073   1.891    2.163      0.002    0.001    1340.0    1584.0   \n",
       "b      0.352  0.719  -0.885    1.769      0.020    0.014    1362.0    1525.0   \n",
       "sigma  2.006  0.151   1.736    2.287      0.004    0.003    1810.0    1825.0   \n",
       "\n",
       "       r_hat  \n",
       "a       1.01  \n",
       "b       1.00  \n",
       "sigma   1.00  "
      ]
     },
     "execution_count": 4,
     "metadata": {},
     "output_type": "execute_result"
    }
   ],
   "source": [
    "az.summary(idata)"
   ]
  }
 ],
 "metadata": {
  "kernelspec": {
   "display_name": "Python 3 (ipykernel)",
   "language": "python",
   "name": "python3"
  },
  "language_info": {
   "codemirror_mode": {
    "name": "ipython",
    "version": 3
   },
   "file_extension": ".py",
   "mimetype": "text/x-python",
   "name": "python",
   "nbconvert_exporter": "python",
   "pygments_lexer": "ipython3",
   "version": "3.9.9"
  }
 },
 "nbformat": 4,
 "nbformat_minor": 5
}
