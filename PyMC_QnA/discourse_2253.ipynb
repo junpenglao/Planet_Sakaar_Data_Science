{
 "cells": [
  {
   "cell_type": "code",
   "execution_count": 1,
   "metadata": {},
   "outputs": [
    {
     "name": "stdout",
     "output_type": "stream",
     "text": [
      "Populating the interactive namespace from numpy and matplotlib\n"
     ]
    }
   ],
   "source": [
    "%pylab inline\n",
    "import pymc3 as pm\n",
    "import theano.tensor as tt"
   ]
  },
  {
   "cell_type": "code",
   "execution_count": 2,
   "metadata": {},
   "outputs": [],
   "source": [
    "with pm.Model() as model:\n",
    "    x = pm.Normal('x', shape=(10, 3))\n",
    "    y = pm.Gamma('y', 1., 1., shape=(3, 1))\n",
    "    z = pm.Normal('z', x.dot(y), 1., observed=np.random.randn(10))"
   ]
  },
  {
   "cell_type": "code",
   "execution_count": 3,
   "metadata": {},
   "outputs": [
    {
     "data": {
      "text/plain": [
       "{'x': array([[0., 0., 0.],\n",
       "        [0., 0., 0.],\n",
       "        [0., 0., 0.],\n",
       "        [0., 0., 0.],\n",
       "        [0., 0., 0.],\n",
       "        [0., 0., 0.],\n",
       "        [0., 0., 0.],\n",
       "        [0., 0., 0.],\n",
       "        [0., 0., 0.],\n",
       "        [0., 0., 0.]]), 'y_log__': array([[0.],\n",
       "        [0.],\n",
       "        [0.]])}"
      ]
     },
     "execution_count": 3,
     "metadata": {},
     "output_type": "execute_result"
    }
   ],
   "source": [
    "model.test_point"
   ]
  },
  {
   "cell_type": "code",
   "execution_count": 4,
   "metadata": {},
   "outputs": [
    {
     "data": {
      "text/plain": [
       "x          -27.57\n",
       "y_log__     -3.00\n",
       "z         -136.88\n",
       "Name: Log-probability of test_point, dtype: float64"
      ]
     },
     "execution_count": 4,
     "metadata": {},
     "output_type": "execute_result"
    }
   ],
   "source": [
    "model.check_test_point()"
   ]
  },
  {
   "cell_type": "code",
   "execution_count": 5,
   "metadata": {},
   "outputs": [],
   "source": [
    "with model:\n",
    "    step = pm.HamiltonianMC()"
   ]
  },
  {
   "cell_type": "code",
   "execution_count": 6,
   "metadata": {},
   "outputs": [
    {
     "name": "stdout",
     "output_type": "stream",
     "text": [
      "[0. 0. 0. 0. 0. 0. 0. 0. 0. 0. 0. 0. 0. 0. 0. 0. 0. 0. 0. 0. 0. 0. 0. 0.\n",
      " 0. 0. 0. 0. 0. 0. 0. 0. 0.]\n",
      "[ 0.35349722  0.67228732 -0.29136389  1.40187439 -1.3933098  -1.21045391\n",
      "  0.19609924  0.82387757  0.31549881  2.18962035 -0.94777747 -1.75832895\n",
      "  2.63390524  0.62272636  0.51875377  1.08272202 -1.21541625  0.30654455\n",
      "  0.24216981 -1.66245453 -1.28465485 -0.56834024 -0.15591904  0.16435006\n",
      "  0.4950232   0.96150365 -0.22903968  1.00876947 -0.14617325  1.31477745\n",
      "  0.82448553  0.43776646 -1.72642483]\n",
      "186.77509108214795\n"
     ]
    }
   ],
   "source": [
    "q0 = step._logp_dlogp_func.dict_to_array(model.test_point)\n",
    "print(q0)\n",
    "p0 = step.potential.random()\n",
    "print(p0)\n",
    "start = step.integrator.compute_state(q0, p0)\n",
    "print(start.energy)"
   ]
  },
  {
   "cell_type": "code",
   "execution_count": 7,
   "metadata": {},
   "outputs": [
    {
     "name": "stdout",
     "output_type": "stream",
     "text": [
      "-167.44444740425212\n",
      "[ 0.          0.          0.         -2.86404381 -2.86404381 -2.86404381\n",
      " -2.86404381 -2.86404381 -2.86404381 -2.86404381 -2.86404381 -2.86404381\n",
      " -2.86404381 -2.86404381 -2.86404381 -2.86404381 -2.86404381 -2.86404381\n",
      " -2.86404381 -2.86404381 -2.86404381 -2.86404381 -2.86404381 -2.86404381\n",
      " -2.86404381 -2.86404381 -2.86404381 -2.86404381 -2.86404381 -2.86404381\n",
      " -2.86404381 -2.86404381 -2.86404381]\n",
      "[ 0.35349722  0.67228732 -0.29136389  1.40187439 -1.3933098  -1.21045391\n",
      "  0.19609924  0.82387757  0.31549881  2.18962035 -0.94777747 -1.75832895\n",
      "  2.63390524  0.62272636  0.51875377  1.08272202 -1.21541625  0.30654455\n",
      "  0.24216981 -1.66245453 -1.28465485 -0.56834024 -0.15591904  0.16435006\n",
      "  0.4950232   0.96150365 -0.22903968  1.00876947 -0.14617325  1.31477745\n",
      "  0.82448553  0.43776646 -1.72642483]\n",
      "19.330643677895843\n"
     ]
    }
   ],
   "source": [
    "logp, dlogp = step.integrator._logp_dlogp_func(q0)\n",
    "print(logp)\n",
    "print(dlogp)\n",
    "v = step.integrator._potential.velocity(p0)\n",
    "print(v)\n",
    "kinetic = step.integrator._potential.energy(p0, velocity=v)\n",
    "print(kinetic)"
   ]
  },
  {
   "cell_type": "code",
   "execution_count": 9,
   "metadata": {},
   "outputs": [
    {
     "data": {
      "text/plain": [
       "{'y_log__': array([[0.],\n",
       "        [0.],\n",
       "        [0.]]), 'x': array([[-2.86404381, -2.86404381, -2.86404381],\n",
       "        [-2.86404381, -2.86404381, -2.86404381],\n",
       "        [-2.86404381, -2.86404381, -2.86404381],\n",
       "        [-2.86404381, -2.86404381, -2.86404381],\n",
       "        [-2.86404381, -2.86404381, -2.86404381],\n",
       "        [-2.86404381, -2.86404381, -2.86404381],\n",
       "        [-2.86404381, -2.86404381, -2.86404381],\n",
       "        [-2.86404381, -2.86404381, -2.86404381],\n",
       "        [-2.86404381, -2.86404381, -2.86404381],\n",
       "        [-2.86404381, -2.86404381, -2.86404381]])}"
      ]
     },
     "execution_count": 9,
     "metadata": {},
     "output_type": "execute_result"
    }
   ],
   "source": [
    "step._logp_dlogp_func.array_to_dict(dlogp)"
   ]
  },
  {
   "cell_type": "code",
   "execution_count": null,
   "metadata": {},
   "outputs": [],
   "source": []
  }
 ],
 "metadata": {
  "kernelspec": {
   "display_name": "Python 3",
   "language": "python",
   "name": "python3"
  },
  "language_info": {
   "codemirror_mode": {
    "name": "ipython",
    "version": 3
   },
   "file_extension": ".py",
   "mimetype": "text/x-python",
   "name": "python",
   "nbconvert_exporter": "python",
   "pygments_lexer": "ipython3",
   "version": "3.6.5"
  }
 },
 "nbformat": 4,
 "nbformat_minor": 2
}
