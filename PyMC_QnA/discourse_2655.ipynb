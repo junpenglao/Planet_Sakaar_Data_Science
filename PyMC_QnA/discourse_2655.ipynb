{
 "cells": [
  {
   "cell_type": "code",
   "execution_count": 1,
   "metadata": {},
   "outputs": [
    {
     "name": "stderr",
     "output_type": "stream",
     "text": [
      "/usr/local/google/home/junpenglao/anaconda3/lib/python3.6/site-packages/h5py/__init__.py:36: FutureWarning: Conversion of the second argument of issubdtype from `float` to `np.floating` is deprecated. In future, it will be treated as `np.float64 == np.dtype(float).type`.\n",
      "  from ._conv import register_converters as _register_converters\n"
     ]
    }
   ],
   "source": [
    "import pymc3 as pm\n",
    "import numpy as np\n",
    "from pymc3.step_methods.hmc import quadpotential"
   ]
  },
  {
   "cell_type": "code",
   "execution_count": 43,
   "metadata": {},
   "outputs": [
    {
     "name": "stderr",
     "output_type": "stream",
     "text": [
      "Auto-assigning NUTS sampler...\n",
      "Initializing NUTS using jitter+adapt_diag...\n",
      "Multiprocess sampling (4 chains in 4 jobs)\n",
      "NUTS: [x]\n",
      "Sampling 4 chains: 100%|██████████| 8000/8000 [00:01<00:00, 4871.39draws/s]\n",
      "Only 100 samples in chain.\n",
      "Multiprocess sampling (4 chains in 4 jobs)\n",
      "NUTS: [x]\n",
      "Sampling 4 chains: 100%|██████████| 400/400 [00:00<00:00, 1790.08draws/s]\n"
     ]
    }
   ],
   "source": [
    "n_chains = 4\n",
    "\n",
    "with pm.Model() as m:\n",
    "    x = pm.Normal('x', shape=10)\n",
    "    trace1 = pm.sample(1000, tune=1000, cores=n_chains)\n",
    "\n",
    "with m:\n",
    "    cov = np.atleast_1d(pm.trace_cov(trace1))\n",
    "    start = list(np.random.choice(trace1, n_chains))\n",
    "    potential = quadpotential.QuadPotentialFull(cov)\n",
    "    step_size = trace1.get_sampler_stats('step_size_bar')[-1]\n",
    "    step_scale = step_size * (m.ndim ** 0.25)\n",
    "\n",
    "with pm.Model() as m2:\n",
    "    x = pm.Normal('x', shape=10)\n",
    "    step = pm.NUTS(potential=potential, \n",
    "                   adapt_step_size=False, \n",
    "                   step_scale=step_scale)\n",
    "    step.tune = False\n",
    "    trace2 = pm.sample(draws=100, step=step, tune=0, cores=n_chains, start=start)"
   ]
  },
  {
   "cell_type": "code",
   "execution_count": 44,
   "metadata": {},
   "outputs": [
    {
     "name": "stdout",
     "output_type": "stream",
     "text": [
      "mean_tree_accept\n",
      "[0.89587444 0.91788297 1.         0.792088   0.81323281 0.95371789\n",
      " 0.88839392 0.67369024 0.6651117  0.66842588]\n",
      "[0.90408799 0.72660679 0.87747766 1.         0.71760797 0.63849806\n",
      " 0.71510783 0.67571846 0.99262431 0.91960052]\n",
      "\n",
      "\n",
      "tune\n",
      "[False False False False False False False False False False]\n",
      "[False False False False False False False False False False]\n",
      "\n",
      "\n",
      "tree_size\n",
      "[55. 15.  3. 11.  3.  7.  3.  3.  3.  7.]\n",
      "[ 3. 15.  3.  3.  3.  3. 15. 35. 55. 11.]\n",
      "\n",
      "\n",
      "energy\n",
      "[20.99568768 22.80919304 19.75207315 19.62360533 19.63791659 16.84965487\n",
      " 16.53761229 17.67888639 19.10123826 23.73517854]\n",
      "[16.06908503 17.46064728 15.98365309 13.59640393 15.59073766 17.37116411\n",
      " 21.7217679  20.70956196 19.52095084 20.16836644]\n",
      "\n",
      "\n",
      "model_logp\n",
      "[-16.31327237 -17.09536222 -14.11266778 -14.18745579 -13.67020211\n",
      " -13.72625956 -11.90427792 -12.60583753 -16.26384699 -16.21436448]\n",
      "[-11.91270832 -12.49459893 -12.73302614 -11.36274526 -11.36274526\n",
      " -14.04997837 -13.08764464 -15.9212822  -15.25789445 -15.75490238]\n",
      "\n",
      "\n",
      "energy_error\n",
      "[ 0.18340468  0.15090595 -0.56505071 -0.02026476 -0.09940401  0.08752999\n",
      " -0.3223337   0.06119307  0.61916369  0.05843561]\n",
      "[-0.25037191  0.10030415  0.00308069 -0.22240976  0.          0.45546868\n",
      " -0.16454179  0.52335659 -0.12145627  0.12399696]\n",
      "\n",
      "\n",
      "depth\n",
      "[6 4 2 4 2 3 2 2 2 3]\n",
      "[2 4 2 2 2 2 4 6 6 4]\n",
      "\n",
      "\n",
      "max_energy_error\n",
      "[ 0.4294305   0.39966573 -0.76369769  0.48935679  0.35130876 -0.40687048\n",
      "  0.40769493  0.75215578  0.61916369  0.79936057]\n",
      "[-0.45992183  0.71422107  0.45332914 -0.37432292  0.46734893  0.74190237\n",
      "  0.83928721  0.80229372 -0.59201913 -0.34494834]\n",
      "\n",
      "\n",
      "step_size\n",
      "[0.67833085 0.67833085 0.67833085 0.67833085 0.67833085 0.67833085\n",
      " 0.67833085 0.67833085 0.67833085 0.67833085]\n",
      "[0.82366876 0.82366876 0.82366876 0.82366876 0.82366876 0.82366876\n",
      " 0.82366876 0.82366876 0.82366876 0.82366876]\n",
      "\n",
      "\n",
      "step_size_bar\n",
      "[0.82366876 0.82366876 0.82366876 0.82366876 0.82366876 0.82366876\n",
      " 0.82366876 0.82366876 0.82366876 0.82366876]\n",
      "[0.82366876 0.82366876 0.82366876 0.82366876 0.82366876 0.82366876\n",
      " 0.82366876 0.82366876 0.82366876 0.82366876]\n",
      "\n",
      "\n",
      "diverging\n",
      "[False False False False False False False False False False]\n",
      "[False False False False False False False False False False]\n",
      "\n",
      "\n"
     ]
    }
   ],
   "source": [
    "for statname in trace1.stat_names:\n",
    "    print(statname)\n",
    "    print(trace1.get_sampler_stats(statname)[-10:])\n",
    "    print(trace2.get_sampler_stats(statname)[-10:])\n",
    "    print('\\n')"
   ]
  },
  {
   "cell_type": "code",
   "execution_count": 82,
   "metadata": {},
   "outputs": [
    {
     "name": "stderr",
     "output_type": "stream",
     "text": [
      "Multiprocess sampling (4 chains in 4 jobs)\n",
      "NUTS: [x]\n",
      "Sampling 4 chains: 100%|██████████| 8000/8000 [00:01<00:00, 4212.24draws/s]\n",
      "Only 100 samples in chain.\n",
      "Multiprocess sampling (4 chains in 4 jobs)\n",
      "NUTS: [x]\n",
      "Sampling 4 chains: 100%|██████████| 400/400 [00:00<00:00, 2352.17draws/s]\n"
     ]
    }
   ],
   "source": [
    "n_chains = 4\n",
    "\n",
    "with pm.Model() as m:\n",
    "    x = pm.Normal('x', shape=10)\n",
    "    # init == 'jitter+adapt_diag'\n",
    "    start = []\n",
    "    for _ in range(n_chains):\n",
    "        mean = {var: val.copy() for var, val in m.test_point.items()}\n",
    "        for val in mean.values():\n",
    "            val[...] += 2 * np.random.rand(*val.shape) - 1\n",
    "        start.append(mean)\n",
    "    mean = np.mean([m.dict_to_array(vals) for vals in start], axis=0)\n",
    "    var = np.ones_like(mean)\n",
    "    potential = quadpotential.QuadPotentialDiagAdapt(\n",
    "        m.ndim, mean, var, 10)\n",
    "    step = pm.NUTS(potential=potential)\n",
    "    trace1 = pm.sample(1000, step=step, tune=1000, cores=n_chains)\n",
    "\n",
    "with m: # need to be the same model\n",
    "    step_size = trace1.get_sampler_stats('step_size_bar')[-1]\n",
    "    from pymc3.step_methods import step_sizes\n",
    "    step.tune = False\n",
    "    step.step_adapt = step_sizes.DualAverageAdaptation(\n",
    "            step_size, step.target_accept, 0.05, .75, 10\n",
    "        )\n",
    "    trace2 = pm.sample(draws=100, step=step, tune=0, cores=n_chains)"
   ]
  },
  {
   "cell_type": "code",
   "execution_count": 83,
   "metadata": {},
   "outputs": [
    {
     "name": "stdout",
     "output_type": "stream",
     "text": [
      "mean_tree_accept\n",
      "[0.95838238 0.90337408 0.94474752 0.9286075  0.9078535  0.94806194\n",
      " 0.93944191 1.         0.84998695 0.95804629]\n",
      "[0.83527192 0.85464282 0.91902447 0.43155576 0.61987476 1.\n",
      " 0.83740787 1.         0.96985489 0.51769917]\n",
      "\n",
      "\n",
      "tune\n",
      "[False False False False False False False False False False]\n",
      "[False False False False False False False False False False]\n",
      "\n",
      "\n",
      "tree_size\n",
      "[ 7. 31.  7. 15. 15.  3. 11.  3. 11.  3.]\n",
      "[ 3.  3. 63.  3.  7.  3. 63.  3. 63.  3.]\n",
      "\n",
      "\n",
      "energy\n",
      "[15.29930491 16.45092966 17.21767406 18.12509899 17.81795815 17.28109965\n",
      " 16.80782001 16.03812175 16.22917819 14.32148612]\n",
      "[18.85887842 16.42948418 12.82849541 18.38710381 25.07190653 23.13877454\n",
      " 22.06830794 18.4932948  16.13431252 21.9525738 ]\n",
      "\n",
      "\n",
      "model_logp\n",
      "[-12.83171756 -13.65914299 -13.77937626 -13.67703766 -14.43413986\n",
      " -13.39781605 -14.29177167 -12.03995525 -12.91810537 -10.99933172]\n",
      "[-13.6437218  -10.75863195 -10.91238854 -14.70549444 -19.56929197\n",
      " -15.21123197 -16.86906708 -12.91152229 -13.07063074 -14.6886793 ]\n",
      "\n",
      "\n",
      "energy_error\n",
      "[ 0.0238802   0.17859188  0.094845   -0.02826767  0.04030453 -0.17704092\n",
      "  0.15341197 -0.36192151  0.10611547 -0.33101449]\n",
      "[-0.11187157 -0.52691501  0.02808116  0.69274945  0.88829397 -0.79592918\n",
      "  0.30277677 -0.72278156  0.02905858  0.2955104 ]\n",
      "\n",
      "\n",
      "depth\n",
      "[3 5 3 4 4 2 4 2 4 2]\n",
      "[2 2 6 2 3 2 6 2 6 2]\n",
      "\n",
      "\n",
      "max_energy_error\n",
      "[ 0.15584889  0.38938682 -0.35657907  0.41317972 -0.52102512 -0.48610181\n",
      " -0.27047357 -0.36192151  0.35905611 -0.35190941]\n",
      "[ 0.68158277 -0.52691501  0.17175659  1.14599762  1.27989773 -0.79592918\n",
      "  0.38221366 -0.76794096  0.084556    1.17569032]\n",
      "\n",
      "\n",
      "step_size\n",
      "[0.68900485 0.68900485 0.68900485 0.68900485 0.68900485 0.68900485\n",
      " 0.68900485 0.68900485 0.68900485 0.68900485]\n",
      "[0.85471359 0.85471359 0.85471359 0.85471359 0.85471359 0.85471359\n",
      " 0.85471359 0.85471359 0.85471359 0.85471359]\n",
      "\n",
      "\n",
      "step_size_bar\n",
      "[0.85471359 0.85471359 0.85471359 0.85471359 0.85471359 0.85471359\n",
      " 0.85471359 0.85471359 0.85471359 0.85471359]\n",
      "[0.85471359 0.85471359 0.85471359 0.85471359 0.85471359 0.85471359\n",
      " 0.85471359 0.85471359 0.85471359 0.85471359]\n",
      "\n",
      "\n",
      "diverging\n",
      "[False False False False False False False False False False]\n",
      "[False False False False False False False False False False]\n",
      "\n",
      "\n"
     ]
    }
   ],
   "source": [
    "for statname in trace1.stat_names:\n",
    "    print(statname)\n",
    "    print(trace1.get_sampler_stats(statname)[-10:])\n",
    "    print(trace2.get_sampler_stats(statname)[-10:])\n",
    "    print('\\n')"
   ]
  }
 ],
 "metadata": {
  "kernelspec": {
   "display_name": "Python 3",
   "language": "python",
   "name": "python3"
  },
  "language_info": {
   "codemirror_mode": {
    "name": "ipython",
    "version": 3
   },
   "file_extension": ".py",
   "mimetype": "text/x-python",
   "name": "python",
   "nbconvert_exporter": "python",
   "pygments_lexer": "ipython3",
   "version": "3.6.5"
  }
 },
 "nbformat": 4,
 "nbformat_minor": 2
}
