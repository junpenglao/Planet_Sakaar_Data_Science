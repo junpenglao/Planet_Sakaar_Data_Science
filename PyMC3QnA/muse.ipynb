{
 "cells": [
  {
   "cell_type": "code",
   "execution_count": 1,
   "id": "c0827192-9773-4bf9-a334-21cb9844246e",
   "metadata": {},
   "outputs": [],
   "source": [
    "import numpy as np\n",
    "import scipy.stats as st\n",
    "\n",
    "import pymc as pm\n",
    "import arviz as az\n",
    "\n",
    "import aesara\n",
    "import aesara.tensor as aet\n",
    "\n",
    "import aeppl"
   ]
  },
  {
   "cell_type": "code",
   "execution_count": 2,
   "id": "18a3ad92-8319-49b7-998b-78ffe456bb2a",
   "metadata": {},
   "outputs": [],
   "source": [
    "with pm.Model() as funnel:\n",
    "    θ = pm.Normal(\"θ\", 0, 3)\n",
    "    z = pm.Normal(\"z\", 0, aet.exp(θ / 2), size=512)\n",
    "    x = pm.Normal(\"x\", z, 1)"
   ]
  },
  {
   "cell_type": "markdown",
   "id": "ef4b4b49-7ac1-4b8d-a9a4-366d7a757286",
   "metadata": {},
   "source": [
    "Generate data for `x` condition on some true $\\theta$. There are a few ways to do it as explained in https://github.com/pymc-devs/pymc/discussions/5280"
   ]
  },
  {
   "cell_type": "code",
   "execution_count": 3,
   "id": "61b9d481-9686-40cf-a79e-89f553f9fb86",
   "metadata": {},
   "outputs": [],
   "source": [
    "sample_x_z: callable = aesara.function([θ], [z, x])\n",
    "_, x_obs = sample_x_z(0)"
   ]
  },
  {
   "cell_type": "markdown",
   "id": "235c3db7-b98e-44ab-86aa-2ddaf2d5953b",
   "metadata": {},
   "source": [
    "## Define a regular PyMC model that conditioned on some observation"
   ]
  },
  {
   "cell_type": "code",
   "execution_count": 4,
   "id": "30396006-2eef-4a07-bb68-c9afe874dc84",
   "metadata": {},
   "outputs": [],
   "source": [
    "with pm.Model() as funnel:\n",
    "    θ = pm.Normal(\"θ\", 0, 3)\n",
    "    z = pm.Normal(\"z\", 0, aet.exp(θ / 2), size=512)\n",
    "    x = pm.Normal(\"x\", z, 1, observed=x_obs)"
   ]
  },
  {
   "cell_type": "markdown",
   "id": "73cba126-7925-4fc4-9233-fed52a40db46",
   "metadata": {},
   "source": [
    "## Forward sampling function (for generating `x`)"
   ]
  },
  {
   "cell_type": "code",
   "execution_count": 5,
   "id": "e0d66aff-ab8d-4d2a-80a9-6fd700b22b2d",
   "metadata": {},
   "outputs": [],
   "source": [
    "# sample_x_z = aesara.function([θ], [z, x])\n",
    "model_graph = pm.model_graph.ModelGraph(funnel)\n",
    "theta = [var for var in funnel.basic_RVs if model_graph.get_parents(var) == set()]\n",
    "# z_x = list(set(funnel.value_vars) - set(theta))  # Not doing this as the order is unpredictable\n",
    "latent_field = [var for var in funnel.free_RVs if var not in theta]\n",
    "z_x: list = funnel.observed_RVs + latent_field\n",
    "\n",
    "sample_x_z: callable = aesara.function(theta, z_x)"
   ]
  },
  {
   "cell_type": "code",
   "execution_count": 6,
   "id": "16668ae9-2780-4056-a2c9-60a2fd2180ff",
   "metadata": {},
   "outputs": [
    {
     "data": {
      "text/plain": [
       "[θ, z, x]"
      ]
     },
     "execution_count": 6,
     "metadata": {},
     "output_type": "execute_result"
    }
   ],
   "source": [
    "funnel.basic_RVs"
   ]
  },
  {
   "cell_type": "code",
   "execution_count": 7,
   "id": "ba28c640-df3b-46e2-8380-642c9909c50d",
   "metadata": {},
   "outputs": [
    {
     "data": {
      "text/plain": [
       "([θ], [x, z])"
      ]
     },
     "execution_count": 7,
     "metadata": {},
     "output_type": "execute_result"
    }
   ],
   "source": [
    "theta, z_x"
   ]
  },
  {
   "cell_type": "code",
   "execution_count": 8,
   "id": "522d51a7-fb65-42da-bc2f-160baa6aa89c",
   "metadata": {},
   "outputs": [
    {
     "data": {
      "text/plain": [
       "[(512,), (512,)]"
      ]
     },
     "execution_count": 8,
     "metadata": {},
     "output_type": "execute_result"
    }
   ],
   "source": [
    "output_test = sample_x_z(1.)\n",
    "[v.shape for v in output_test]"
   ]
  },
  {
   "cell_type": "markdown",
   "id": "b7f27cbd-4b01-4aab-a710-d0a0d1afa578",
   "metadata": {},
   "source": [
    "Alternative `sample_x` that only output the simulation of the observed (`x`)"
   ]
  },
  {
   "cell_type": "code",
   "execution_count": 9,
   "id": "9015bf32-0266-48c1-a8fe-defd7f53a61a",
   "metadata": {},
   "outputs": [
    {
     "data": {
      "text/plain": [
       "[(512,)]"
      ]
     },
     "execution_count": 9,
     "metadata": {},
     "output_type": "execute_result"
    }
   ],
   "source": [
    "sample_x: callable = aesara.function(theta, funnel.observed_RVs)\n",
    "output_test = sample_x(1.)\n",
    "[v.shape for v in output_test]"
   ]
  },
  {
   "cell_type": "markdown",
   "id": "e317540b-37e9-494c-90d1-2d019a23b2a2",
   "metadata": {},
   "source": [
    "## Likelihood function `logP(x,z|θ)`"
   ]
  },
  {
   "cell_type": "code",
   "execution_count": 10,
   "id": "803adf7d-373a-4694-88c4-c1f3ce4c8303",
   "metadata": {},
   "outputs": [],
   "source": [
    "ordered_input_var = latent_field + funnel.observed_RVs + theta  # keep the order of z, x, θ\n",
    "new_input_var = []\n",
    "for var in ordered_input_var:\n",
    "    if var in funnel.observed_RVs:\n",
    "        new_input_var.append(x.type())\n",
    "    else:\n",
    "        new_input_var.append(funnel.rvs_to_values[var])\n",
    "\n",
    "rv_pairs = dict(zip(ordered_input_var, new_input_var))\n",
    "new_theta = [funnel.rvs_to_values[var] for var in theta]\n",
    "\n",
    "logprob_tensor: dict = aeppl.factorized_joint_logprob(rv_pairs)"
   ]
  },
  {
   "cell_type": "code",
   "execution_count": 11,
   "id": "900877b4-523a-44bf-ba4f-6b2e1856faa5",
   "metadata": {},
   "outputs": [],
   "source": [
    "logpt = aet.sum([logprob_tensor[var] for var in new_input_var if var not in new_theta])\n",
    "compile_logp_fn = aesara.function(new_input_var, [logpt])"
   ]
  },
  {
   "cell_type": "code",
   "execution_count": 12,
   "id": "87075ae6-8363-47dd-9481-95d6b3633600",
   "metadata": {},
   "outputs": [
    {
     "name": "stdout",
     "output_type": "stream",
     "text": [
      "[array(-1196.993058)]\n",
      "-1196.9930580015848\n"
     ]
    }
   ],
   "source": [
    "z_val = np.zeros(512)\n",
    "x_val = np.ones(512)\n",
    "\n",
    "print(compile_logp_fn(z_val, x_val, 0.))\n",
    "\n",
    "print(\n",
    "   st.norm.logpdf(z_val, 0., np.exp(0 / 2)).sum() \n",
    " + st.norm.logpdf(x_val, z_val, 1.).sum()\n",
    ")"
   ]
  },
  {
   "cell_type": "markdown",
   "id": "0cbb749d-6927-4ffa-bdf6-84bb328692a9",
   "metadata": {
    "tags": []
   },
   "source": [
    "### As comparison, the full posterior (and its gradient)"
   ]
  },
  {
   "cell_type": "code",
   "execution_count": 13,
   "id": "9b3c5af9-22e8-4d9b-a10d-459080f845c3",
   "metadata": {},
   "outputs": [
    {
     "name": "stdout",
     "output_type": "stream",
     "text": [
      "[array(-1199.01060882)]\n",
      "-1199.0106088234575\n"
     ]
    }
   ],
   "source": [
    "logpt = aeppl.joint_logprob(rv_pairs)\n",
    "compile_logp_fn = aesara.function(new_input_var, [logpt])\n",
    "print(compile_logp_fn(z_val, x_val, 0.))\n",
    "\n",
    "print(\n",
    "   st.norm.logpdf(0., 0., 3.) \n",
    " + st.norm.logpdf(z_val, 0., np.exp(0 / 2)).sum() \n",
    " + st.norm.logpdf(x_val, z_val, 1.).sum()\n",
    "     )"
   ]
  },
  {
   "cell_type": "markdown",
   "id": "b9ddf65c-53d3-4b38-b3ca-30c35d4d47a6",
   "metadata": {},
   "source": [
    "## ∇θ_logLike is gradient of θ -> logP(x,z|θ)"
   ]
  },
  {
   "cell_type": "code",
   "execution_count": 14,
   "id": "0dab433e-086f-4db0-a98b-13776bb7adbe",
   "metadata": {},
   "outputs": [
    {
     "data": {
      "text/plain": [
       "[array(-256.)]"
      ]
     },
     "execution_count": 14,
     "metadata": {},
     "output_type": "execute_result"
    }
   ],
   "source": [
    "# grad_tensor = aesara.grad(logpt, new_input_var)\n",
    "grad_theta_tensor = aesara.grad(\n",
    "    logpt, \n",
    "    wrt=[rv_pairs[var] for var in theta], \n",
    "    consider_constant=[rv_pairs[var] for var in latent_field + funnel.observed_RVs]\n",
    ")\n",
    "compile_grad_theta_fn = aesara.function(new_input_var, grad_theta_tensor)\n",
    "compile_grad_theta_fn(np.zeros(512), np.ones(512), 0.)"
   ]
  },
  {
   "cell_type": "markdown",
   "id": "d9dd1dda-ca96-4753-8310-43a325866bc2",
   "metadata": {},
   "source": [
    "## Prior function `logP(θ)`"
   ]
  },
  {
   "cell_type": "code",
   "execution_count": 15,
   "id": "6fc21131-871d-4aee-a368-d132169113e3",
   "metadata": {},
   "outputs": [
    {
     "data": {
      "text/plain": [
       "[array(-0.11111111)]"
      ]
     },
     "execution_count": 15,
     "metadata": {},
     "output_type": "execute_result"
    }
   ],
   "source": [
    "# theta_prior_logpt = aeppl.joint_logprob({var: funnel.rvs_to_values[var] for var in theta})\n",
    "\n",
    "theta_prior_logpt = aet.sum([logprob_tensor[var] for var in new_theta])\n",
    "grad_theta_tensor = aesara.grad(\n",
    "    theta_prior_logpt, \n",
    "    wrt=new_theta\n",
    ")\n",
    "compile_grad_theta_prior_fn: callable = aesara.function(new_theta, grad_theta_tensor)\n",
    "compile_grad_theta_prior_fn(1.)"
   ]
  }
 ],
 "metadata": {
  "kernelspec": {
   "display_name": "Python 3 (ipykernel)",
   "language": "python",
   "name": "python3"
  },
  "language_info": {
   "codemirror_mode": {
    "name": "ipython",
    "version": 3
   },
   "file_extension": ".py",
   "mimetype": "text/x-python",
   "name": "python",
   "nbconvert_exporter": "python",
   "pygments_lexer": "ipython3",
   "version": "3.9.9"
  }
 },
 "nbformat": 4,
 "nbformat_minor": 5
}
